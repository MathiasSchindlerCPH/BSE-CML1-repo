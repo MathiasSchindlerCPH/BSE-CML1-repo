{
  "nbformat": 4,
  "nbformat_minor": 0,
  "metadata": {
    "colab": {
      "name": "IndividualFeedback_CML_Project_2.ipynb",
      "provenance": []
    },
    "kernelspec": {
      "name": "python3",
      "display_name": "Python 3"
    },
    "language_info": {
      "name": "python"
    }
  },
  "cells": [
    {
      "cell_type": "markdown",
      "source": [
        "## Extended Project Grading\n",
        "\n",
        "| Criteria | Weighting (%) | Score | Justification | Improvements  |\n",
        "|----------|---------------|-------|---------------|---------------|\n",
        "|Code runs | 10           |   10   |               |               |\n",
        "|Data preparation |\t15 | 15 |  Some simple exploratory data analysis was done, standardisation, dummies and polynomial transforms were considered. PCA was used to reduce the dimension of the space for computational reasons\n",
        "|Logistic regression used | 20 | 20 | with explicit arguments \n",
        "|Binary covertype prediction made  | 10 | 10 |\n",
        "|Binary Accuracy | 5 | 3\n",
        "|Multi-class covertype prediction made  | 10 | 10 |\n",
        "|Multi-Class Accuracy | 5 | 2.5\n",
        "|Class imbalance managed | 5 | 5 | done and probabilities reweighted\n",
        "|Hyperparameter optimization | 5 | 5 | done over a good grid\n",
        "|Neat and understandable code| 5 | 5 | well commented and explained code \n",
        "|Improved Methods from class| 10 | 3 | multiclass imbalance reweighting, PCA dimension reduction \n",
        "\n",
        "Score: 88.5\n",
        "\n",
        "Feedback: Excellent work. Some simple exploratory analysis was done. Standardisation, dummies and polynomial transformations were done. Further PCA was used to reduce the dimension of the space (losing minimal information) for computational convenience. Good understanding of binary and multi-class logistic regression is shown, using cross-validation to tune complexity penalisation and methods to manage class imbalance."
      ],
      "metadata": {
        "id": "A_QeUsWlRGku"
      }
    }
  ]
}