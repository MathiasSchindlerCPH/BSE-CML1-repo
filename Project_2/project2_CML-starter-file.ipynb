{
  "nbformat": 4,
  "nbformat_minor": 0,
  "metadata": {
    "kernelspec": {
      "display_name": "Python 3",
      "language": "python",
      "name": "python3"
    },
    "language_info": {
      "codemirror_mode": {
        "name": "ipython",
        "version": 3
      },
      "file_extension": ".py",
      "mimetype": "text/x-python",
      "name": "python",
      "nbconvert_exporter": "python",
      "pygments_lexer": "ipython3",
      "version": "3.8.8"
    },
    "toc": {
      "base_numbering": 1,
      "nav_menu": {},
      "number_sections": true,
      "sideBar": true,
      "skip_h1_title": false,
      "title_cell": "Table of Contents",
      "title_sidebar": "Contents",
      "toc_cell": false,
      "toc_position": {},
      "toc_section_display": true,
      "toc_window_display": true
    },
    "colab": {
      "name": "Mathias_Schindler_classification_project1.ipynb",
      "provenance": [],
      "collapsed_sections": []
    }
  },
  "cells": [
    {
      "cell_type": "markdown",
      "metadata": {
        "id": "U1A391KUO6dX"
      },
      "source": [
        "<img src = \"../../Data/bgsedsc_0.jpg\">\n",
        "$\\newcommand{\\bb}{\\boldsymbol{\\beta}}$\n",
        "$\\DeclareMathOperator{\\Gau}{\\mathcal{N}}$\n",
        "$\\newcommand{\\bphi}{\\boldsymbol \\phi}$\n",
        "$\\newcommand{\\bpi}{\\boldsymbol \\pi}$\n",
        "$\\newcommand{\\bx}{\\boldsymbol{x}}$\n",
        "$\\newcommand{\\by}{\\boldsymbol{y}}$\n",
        "$\\newcommand{\\bmu}{\\boldsymbol{\\mu}}$\n",
        "$\\newcommand{\\bS}{\\boldsymbol{\\Sigma}}$\n",
        "$\\newcommand{\\whbb}{\\widehat{\\bb}}$\n",
        "$\\newcommand{\\hf}{\\hat{f}}$\n",
        "$\\newcommand{\\hy}{\\hat{y}}$\n",
        "$\\newcommand{\\tf}{\\tilde{f}}$\n",
        "$\\newcommand{\\ybar}{\\overline{y}}$\n",
        "$\\newcommand{\\E}{\\mathbb{E}}$\n",
        "$\\newcommand{\\Var}{Var}$\n",
        "$\\newcommand{\\Cov}{Cov}$\n",
        "$\\newcommand{\\Cor}{Cor}$"
      ]
    },
    {
      "cell_type": "markdown",
      "metadata": {
        "id": "zkCPeYQkO6dd"
      },
      "source": [
        "# Project: Linear Classification"
      ]
    },
    {
      "cell_type": "markdown",
      "metadata": {
        "id": "UmuZ93TvO6de"
      },
      "source": [
        "## Programming project: forest cover classification\n",
        "\n",
        "In this project, you have to predict the class of forest cover (the predominant kind of tree cover) from strictly cartographic and environment variables.\n",
        "\n",
        "The actual forest cover type for a given observation (30 x 30 meter cell) was determined from US Forest Service (USFS) Region 2 Resource Information System (RIS) data. Independent variables were derived from data originally obtained from US Geological Survey (USGS) and USFS data. Data is in raw form (not scaled) and contains categorical data for qualitative independent variables (wilderness areas and soil types).\n",
        "\n",
        "You have further details on the data at *covertype.info* file and at https://archive.ics.uci.edu/ml/datasets/Covertype\n",
        "\n",
        "Be aware that the final dataset has been slighly modified from the original source data.\n",
        "\n",
        "As performance metric, you can use *AUC* in the binary classification case. For multi-class classification, check as well the confussion matrix and estimate the misclassification probabilities of different classes(check *metrics.confusion_matrix* and *metrics.classification_report* in *sklearn*).\n",
        "\n",
        "+ Using *MultiClass_Train.csv* file build a predictive model for *Cover_Type* .\n",
        "+ Try a first a binary classification to predict class #7 (Krummholz, https://en.wikipedia.org/wiki/Krummholz), which is a rare valuable habitat. After that, then try multi-variate classification to predict all classes.\n",
        "+ For this analysis there is an extra test dataset. Once your code is submitted we will run a competition to see how you score in the test data. Hence have prepared also the necessary script to compute the accuracy estimate on the test data once released.\n",
        "\n",
        "You can follow those **steps** in your first implementation:\n",
        "1. *Explore* and understand the dataset. \n",
        "2. Create *dummy variables* for relevant categorical features\n",
        "3. Reformat the Class_type variable into a binary one, being class #7 the target variable versus the others.\n",
        "4. *Build* an initial binary model for class #7 versus the other ones and test it on the same input data. \n",
        "5. Assess expected accuracy using *cross-validation*\n",
        "6. Report which variable impacts more on results \n",
        "7. Try to improve it using methods to tackle class imbalance.\n",
        "8. Repeat 4., 5., 6. and 7. now with a multi-class model (EXTENDED PROJECT)\n",
        "9. Produce .csv for kaggle testing \n"
      ]
    },
    {
      "cell_type": "markdown",
      "metadata": {
        "id": "sLc6-WTMO6df"
      },
      "source": [
        "## Main criteria for grading\n",
        "From more to less important (the weighting of these components will vary between the in-class and extended projects):\n",
        "+ Code runs\n",
        "+ Data preparation\n",
        "+ Logistic Regression Models(s) have been used\n",
        "+ Cover Type prediction made\n",
        "+ Accuracy of predictions for test set (kaggle)\n",
        "+ Class imbalance management\n",
        "+ Hyperparameter optimization"
      ]
    },
    {
      "cell_type": "markdown",
      "metadata": {
        "id": "aGge46vqaRwY"
      },
      "source": [
        "## **Step 0: Load data**"
      ]
    },
    {
      "cell_type": "code",
      "metadata": {
        "id": "7JHBCyLPP5zp"
      },
      "source": [
        "#Step 0: Load data\n",
        "from google.colab import drive\n",
        "drive.mount('/content/drive')"
      ],
      "execution_count": null,
      "outputs": []
    },
    {
      "cell_type": "code",
      "metadata": {
        "id": "DeIB1CNmQRDe"
      },
      "source": [
        "import os\n",
        "os.chdir('/content/drive/My Drive/cml2_inclass2')"
      ],
      "execution_count": null,
      "outputs": []
    },
    {
      "cell_type": "markdown",
      "metadata": {
        "id": "bnoc_G0uaYBb"
      },
      "source": [
        "## **Step 1: Read and explore data**"
      ]
    },
    {
      "cell_type": "code",
      "metadata": {
        "colab": {
          "base_uri": "https://localhost:8080/"
        },
        "id": "ri7f8tRTQqnB",
        "outputId": "1032aefe-1088-46a0-a381-6ab031da72df"
      },
      "source": [
        "# Step 1: Read and explore data\n",
        "data = pd.read_csv('MultiClass_Train.csv')\n",
        "print(data.columns)"
      ],
      "execution_count": null,
      "outputs": [
        {
          "output_type": "stream",
          "name": "stdout",
          "text": [
            "Index(['Index', 'Elevation', 'Aspect', 'Slope', 'Horiz_dist_hydro',\n",
            "       'Vertical_dist_hydro', 'Horiz_dist_roadways', 'Hillshade_9am',\n",
            "       'Hillshade_Noon', 'Hillshade_3pm', 'Horiz_dist_firepoints',\n",
            "       'Cover_Type', 'Wilderness_Area', 'Soil_Type'],\n",
            "      dtype='object')\n"
          ]
        }
      ]
    },
    {
      "cell_type": "code",
      "metadata": {
        "colab": {
          "base_uri": "https://localhost:8080/"
        },
        "id": "C-502p_pbDTO",
        "outputId": "9671c70d-bb83-49ba-cdf1-5d44ca1091a2"
      },
      "source": [
        "data_test = pd.read_csv('MultiClass_Test.csv')\n",
        "data_test.shape"
      ],
      "execution_count": null,
      "outputs": [
        {
          "output_type": "execute_result",
          "data": {
            "text/plain": [
              "(13073, 13)"
            ]
          },
          "metadata": {},
          "execution_count": 205
        }
      ]
    },
    {
      "cell_type": "code",
      "metadata": {
        "colab": {
          "base_uri": "https://localhost:8080/"
        },
        "id": "axyMHUIVQ27h",
        "outputId": "4d9b073a-3c98-4f3b-e025-4ec9e07fabea"
      },
      "source": [
        "data.head(10)\n",
        "data['Cover_Type'].value_counts()"
      ],
      "execution_count": null,
      "outputs": [
        {
          "output_type": "execute_result",
          "data": {
            "text/plain": [
              "2    29690\n",
              "1    22199\n",
              "3     3802\n",
              "7     2163\n",
              "6     1865\n",
              "5      992\n",
              "4      295\n",
              "Name: Cover_Type, dtype: int64"
            ]
          },
          "metadata": {},
          "execution_count": 206
        }
      ]
    },
    {
      "cell_type": "code",
      "metadata": {
        "colab": {
          "base_uri": "https://localhost:8080/"
        },
        "id": "ik7tMx5_c9SU",
        "outputId": "f47e3cf9-5346-401b-dd78-871d61f655d6"
      },
      "source": [
        "#Check for missing values\n",
        "print(data.isnull().sum())\n",
        "print(data_test.isnull().sum())"
      ],
      "execution_count": null,
      "outputs": [
        {
          "output_type": "stream",
          "name": "stdout",
          "text": [
            "Index                    0\n",
            "Elevation                0\n",
            "Aspect                   0\n",
            "Slope                    0\n",
            "Horiz_dist_hydro         0\n",
            "Vertical_dist_hydro      0\n",
            "Horiz_dist_roadways      0\n",
            "Hillshade_9am            0\n",
            "Hillshade_Noon           0\n",
            "Hillshade_3pm            0\n",
            "Horiz_dist_firepoints    0\n",
            "Cover_Type               0\n",
            "Wilderness_Area          0\n",
            "Soil_Type                0\n",
            "dtype: int64\n",
            "Index                    0\n",
            "Elevation                0\n",
            "Aspect                   0\n",
            "Slope                    0\n",
            "Horiz_dist_hydro         0\n",
            "Vertical_dist_hydro      0\n",
            "Horiz_dist_roadways      0\n",
            "Hillshade_9am            0\n",
            "Hillshade_Noon           0\n",
            "Hillshade_3pm            0\n",
            "Horiz_dist_firepoints    0\n",
            "Wilderness_Area          0\n",
            "Soil_Type                0\n",
            "dtype: int64\n"
          ]
        }
      ]
    },
    {
      "cell_type": "markdown",
      "metadata": {
        "id": "1RHGC6AeabJE"
      },
      "source": [
        "## **Step 2: Create dummies for relevant features**"
      ]
    },
    {
      "cell_type": "markdown",
      "metadata": {
        "id": "3SDAQet0ad4h"
      },
      "source": [
        "Step 2: I only make dummies for \"Wilderness_Area\" (and not \"Soil_Type\") as Kaggle submissions shows this is a better fit. I presume this might be due to loss of degrees of freedom with dummies for \"Soil_Type\" as we get around 40 dummies here."
      ]
    },
    {
      "cell_type": "code",
      "metadata": {
        "id": "m8UvwHFhSB8y",
        "colab": {
          "base_uri": "https://localhost:8080/",
          "height": 379
        },
        "outputId": "f062ac5e-692d-4d11-8fc9-41afc38c89f9"
      },
      "source": [
        "# Step 2: Create dummies for relevant features\n",
        "data = pd.get_dummies(data, prefix=['wild_area'], columns=['Wilderness_Area'], drop_first = True)\n",
        "#data = pd.get_dummies(data, prefix=['soil_'], columns=['Soil_Type'], drop_first = True)\n",
        "data.head(10)"
      ],
      "execution_count": null,
      "outputs": [
        {
          "output_type": "execute_result",
          "data": {
            "text/html": [
              "<div>\n",
              "<style scoped>\n",
              "    .dataframe tbody tr th:only-of-type {\n",
              "        vertical-align: middle;\n",
              "    }\n",
              "\n",
              "    .dataframe tbody tr th {\n",
              "        vertical-align: top;\n",
              "    }\n",
              "\n",
              "    .dataframe thead th {\n",
              "        text-align: right;\n",
              "    }\n",
              "</style>\n",
              "<table border=\"1\" class=\"dataframe\">\n",
              "  <thead>\n",
              "    <tr style=\"text-align: right;\">\n",
              "      <th></th>\n",
              "      <th>Index</th>\n",
              "      <th>Elevation</th>\n",
              "      <th>Aspect</th>\n",
              "      <th>Slope</th>\n",
              "      <th>Horiz_dist_hydro</th>\n",
              "      <th>Vertical_dist_hydro</th>\n",
              "      <th>Horiz_dist_roadways</th>\n",
              "      <th>Hillshade_9am</th>\n",
              "      <th>Hillshade_Noon</th>\n",
              "      <th>Hillshade_3pm</th>\n",
              "      <th>Horiz_dist_firepoints</th>\n",
              "      <th>Cover_Type</th>\n",
              "      <th>Soil_Type</th>\n",
              "      <th>wild_area_2</th>\n",
              "      <th>wild_area_3</th>\n",
              "      <th>wild_area_4</th>\n",
              "    </tr>\n",
              "  </thead>\n",
              "  <tbody>\n",
              "    <tr>\n",
              "      <th>0</th>\n",
              "      <td>0</td>\n",
              "      <td>3202</td>\n",
              "      <td>34</td>\n",
              "      <td>10</td>\n",
              "      <td>0</td>\n",
              "      <td>0</td>\n",
              "      <td>2760</td>\n",
              "      <td>219</td>\n",
              "      <td>218</td>\n",
              "      <td>134</td>\n",
              "      <td>1734</td>\n",
              "      <td>1</td>\n",
              "      <td>38</td>\n",
              "      <td>0</td>\n",
              "      <td>1</td>\n",
              "      <td>0</td>\n",
              "    </tr>\n",
              "    <tr>\n",
              "      <th>1</th>\n",
              "      <td>1</td>\n",
              "      <td>3113</td>\n",
              "      <td>251</td>\n",
              "      <td>13</td>\n",
              "      <td>192</td>\n",
              "      <td>40</td>\n",
              "      <td>5600</td>\n",
              "      <td>191</td>\n",
              "      <td>249</td>\n",
              "      <td>195</td>\n",
              "      <td>2555</td>\n",
              "      <td>2</td>\n",
              "      <td>22</td>\n",
              "      <td>0</td>\n",
              "      <td>0</td>\n",
              "      <td>0</td>\n",
              "    </tr>\n",
              "    <tr>\n",
              "      <th>2</th>\n",
              "      <td>2</td>\n",
              "      <td>2801</td>\n",
              "      <td>77</td>\n",
              "      <td>9</td>\n",
              "      <td>510</td>\n",
              "      <td>17</td>\n",
              "      <td>1728</td>\n",
              "      <td>232</td>\n",
              "      <td>223</td>\n",
              "      <td>122</td>\n",
              "      <td>1087</td>\n",
              "      <td>2</td>\n",
              "      <td>12</td>\n",
              "      <td>0</td>\n",
              "      <td>0</td>\n",
              "      <td>0</td>\n",
              "    </tr>\n",
              "    <tr>\n",
              "      <th>3</th>\n",
              "      <td>3</td>\n",
              "      <td>3165</td>\n",
              "      <td>82</td>\n",
              "      <td>9</td>\n",
              "      <td>319</td>\n",
              "      <td>56</td>\n",
              "      <td>4890</td>\n",
              "      <td>233</td>\n",
              "      <td>225</td>\n",
              "      <td>124</td>\n",
              "      <td>1452</td>\n",
              "      <td>1</td>\n",
              "      <td>29</td>\n",
              "      <td>0</td>\n",
              "      <td>0</td>\n",
              "      <td>0</td>\n",
              "    </tr>\n",
              "    <tr>\n",
              "      <th>4</th>\n",
              "      <td>4</td>\n",
              "      <td>3048</td>\n",
              "      <td>333</td>\n",
              "      <td>11</td>\n",
              "      <td>124</td>\n",
              "      <td>31</td>\n",
              "      <td>2823</td>\n",
              "      <td>196</td>\n",
              "      <td>226</td>\n",
              "      <td>170</td>\n",
              "      <td>666</td>\n",
              "      <td>1</td>\n",
              "      <td>23</td>\n",
              "      <td>0</td>\n",
              "      <td>0</td>\n",
              "      <td>0</td>\n",
              "    </tr>\n",
              "    <tr>\n",
              "      <th>5</th>\n",
              "      <td>5</td>\n",
              "      <td>2347</td>\n",
              "      <td>31</td>\n",
              "      <td>16</td>\n",
              "      <td>242</td>\n",
              "      <td>140</td>\n",
              "      <td>216</td>\n",
              "      <td>214</td>\n",
              "      <td>203</td>\n",
              "      <td>120</td>\n",
              "      <td>1425</td>\n",
              "      <td>3</td>\n",
              "      <td>2</td>\n",
              "      <td>0</td>\n",
              "      <td>0</td>\n",
              "      <td>1</td>\n",
              "    </tr>\n",
              "    <tr>\n",
              "      <th>6</th>\n",
              "      <td>6</td>\n",
              "      <td>3381</td>\n",
              "      <td>56</td>\n",
              "      <td>22</td>\n",
              "      <td>376</td>\n",
              "      <td>147</td>\n",
              "      <td>1919</td>\n",
              "      <td>228</td>\n",
              "      <td>187</td>\n",
              "      <td>81</td>\n",
              "      <td>2059</td>\n",
              "      <td>1</td>\n",
              "      <td>40</td>\n",
              "      <td>0</td>\n",
              "      <td>0</td>\n",
              "      <td>0</td>\n",
              "    </tr>\n",
              "    <tr>\n",
              "      <th>7</th>\n",
              "      <td>7</td>\n",
              "      <td>2290</td>\n",
              "      <td>86</td>\n",
              "      <td>24</td>\n",
              "      <td>30</td>\n",
              "      <td>0</td>\n",
              "      <td>1325</td>\n",
              "      <td>246</td>\n",
              "      <td>192</td>\n",
              "      <td>61</td>\n",
              "      <td>830</td>\n",
              "      <td>4</td>\n",
              "      <td>17</td>\n",
              "      <td>0</td>\n",
              "      <td>0</td>\n",
              "      <td>1</td>\n",
              "    </tr>\n",
              "    <tr>\n",
              "      <th>8</th>\n",
              "      <td>8</td>\n",
              "      <td>3051</td>\n",
              "      <td>75</td>\n",
              "      <td>21</td>\n",
              "      <td>150</td>\n",
              "      <td>0</td>\n",
              "      <td>1003</td>\n",
              "      <td>240</td>\n",
              "      <td>194</td>\n",
              "      <td>74</td>\n",
              "      <td>1733</td>\n",
              "      <td>1</td>\n",
              "      <td>22</td>\n",
              "      <td>0</td>\n",
              "      <td>1</td>\n",
              "      <td>0</td>\n",
              "    </tr>\n",
              "    <tr>\n",
              "      <th>9</th>\n",
              "      <td>9</td>\n",
              "      <td>2978</td>\n",
              "      <td>294</td>\n",
              "      <td>18</td>\n",
              "      <td>228</td>\n",
              "      <td>29</td>\n",
              "      <td>5730</td>\n",
              "      <td>167</td>\n",
              "      <td>233</td>\n",
              "      <td>205</td>\n",
              "      <td>1920</td>\n",
              "      <td>1</td>\n",
              "      <td>29</td>\n",
              "      <td>0</td>\n",
              "      <td>0</td>\n",
              "      <td>0</td>\n",
              "    </tr>\n",
              "  </tbody>\n",
              "</table>\n",
              "</div>"
            ],
            "text/plain": [
              "   Index  Elevation  Aspect  ...  wild_area_2  wild_area_3  wild_area_4\n",
              "0      0       3202      34  ...            0            1            0\n",
              "1      1       3113     251  ...            0            0            0\n",
              "2      2       2801      77  ...            0            0            0\n",
              "3      3       3165      82  ...            0            0            0\n",
              "4      4       3048     333  ...            0            0            0\n",
              "5      5       2347      31  ...            0            0            1\n",
              "6      6       3381      56  ...            0            0            0\n",
              "7      7       2290      86  ...            0            0            1\n",
              "8      8       3051      75  ...            0            1            0\n",
              "9      9       2978     294  ...            0            0            0\n",
              "\n",
              "[10 rows x 16 columns]"
            ]
          },
          "metadata": {},
          "execution_count": 208
        }
      ]
    },
    {
      "cell_type": "code",
      "metadata": {
        "colab": {
          "base_uri": "https://localhost:8080/"
        },
        "id": "RNnIqVIwbOxg",
        "outputId": "3816da93-a5e6-4836-977b-ae96948a96eb"
      },
      "source": [
        "data_test = pd.get_dummies(data_test, prefix=['wild_area'], columns=['Wilderness_Area'], drop_first = True)\n",
        "#data_test = pd.get_dummies(data_test, prefix=['soil_'], columns=['Soil_Type'], drop_first = True)\n",
        "data_test.shape"
      ],
      "execution_count": null,
      "outputs": [
        {
          "output_type": "execute_result",
          "data": {
            "text/plain": [
              "(13073, 15)"
            ]
          },
          "metadata": {},
          "execution_count": 209
        }
      ]
    },
    {
      "cell_type": "markdown",
      "metadata": {
        "id": "vVF0eZS5afs_"
      },
      "source": [
        "## **Step 3: Reformat the data to have an binary class target (class #7 is the target to predict)**"
      ]
    },
    {
      "cell_type": "code",
      "metadata": {
        "colab": {
          "base_uri": "https://localhost:8080/"
        },
        "id": "ohm7mmSCSCXc",
        "outputId": "4b7e856d-117c-4888-a1f4-5f5d5c2b9b41"
      },
      "source": [
        "# Step 3: Reformat the data to have an binary class target (class #7 is the target to predict)\n",
        "data['Cover_Type_new'] = [1 if q == 7 else 0 for q in data['Cover_Type'] ]\n",
        "#data['Cover_Type_new'] = [1 if q == 7 else 0 for q in data.Cover_Type' ]\n",
        "data = data.drop('Cover_Type', axis = 1)\n",
        "data['Cover_Type_new'].value_counts()"
      ],
      "execution_count": null,
      "outputs": [
        {
          "output_type": "execute_result",
          "data": {
            "text/plain": [
              "0    58843\n",
              "1     2163\n",
              "Name: Cover_Type_new, dtype: int64"
            ]
          },
          "metadata": {},
          "execution_count": 210
        }
      ]
    },
    {
      "cell_type": "markdown",
      "metadata": {
        "id": "OCep7MbzaIUW"
      },
      "source": [
        "So we seem to have class imbalance as only roughly 3.5% are class #7"
      ]
    },
    {
      "cell_type": "code",
      "metadata": {
        "colab": {
          "base_uri": "https://localhost:8080/",
          "height": 379
        },
        "id": "jGsxLb3ySjR-",
        "outputId": "57c9f1c2-b2ea-4a3d-db0d-ad067185c412"
      },
      "source": [
        "data.columns\n",
        "data.head(10)"
      ],
      "execution_count": null,
      "outputs": [
        {
          "output_type": "execute_result",
          "data": {
            "text/html": [
              "<div>\n",
              "<style scoped>\n",
              "    .dataframe tbody tr th:only-of-type {\n",
              "        vertical-align: middle;\n",
              "    }\n",
              "\n",
              "    .dataframe tbody tr th {\n",
              "        vertical-align: top;\n",
              "    }\n",
              "\n",
              "    .dataframe thead th {\n",
              "        text-align: right;\n",
              "    }\n",
              "</style>\n",
              "<table border=\"1\" class=\"dataframe\">\n",
              "  <thead>\n",
              "    <tr style=\"text-align: right;\">\n",
              "      <th></th>\n",
              "      <th>Index</th>\n",
              "      <th>Elevation</th>\n",
              "      <th>Aspect</th>\n",
              "      <th>Slope</th>\n",
              "      <th>Horiz_dist_hydro</th>\n",
              "      <th>Vertical_dist_hydro</th>\n",
              "      <th>Horiz_dist_roadways</th>\n",
              "      <th>Hillshade_9am</th>\n",
              "      <th>Hillshade_Noon</th>\n",
              "      <th>Hillshade_3pm</th>\n",
              "      <th>Horiz_dist_firepoints</th>\n",
              "      <th>Soil_Type</th>\n",
              "      <th>wild_area_2</th>\n",
              "      <th>wild_area_3</th>\n",
              "      <th>wild_area_4</th>\n",
              "      <th>Cover_Type_new</th>\n",
              "    </tr>\n",
              "  </thead>\n",
              "  <tbody>\n",
              "    <tr>\n",
              "      <th>0</th>\n",
              "      <td>0</td>\n",
              "      <td>3202</td>\n",
              "      <td>34</td>\n",
              "      <td>10</td>\n",
              "      <td>0</td>\n",
              "      <td>0</td>\n",
              "      <td>2760</td>\n",
              "      <td>219</td>\n",
              "      <td>218</td>\n",
              "      <td>134</td>\n",
              "      <td>1734</td>\n",
              "      <td>38</td>\n",
              "      <td>0</td>\n",
              "      <td>1</td>\n",
              "      <td>0</td>\n",
              "      <td>0</td>\n",
              "    </tr>\n",
              "    <tr>\n",
              "      <th>1</th>\n",
              "      <td>1</td>\n",
              "      <td>3113</td>\n",
              "      <td>251</td>\n",
              "      <td>13</td>\n",
              "      <td>192</td>\n",
              "      <td>40</td>\n",
              "      <td>5600</td>\n",
              "      <td>191</td>\n",
              "      <td>249</td>\n",
              "      <td>195</td>\n",
              "      <td>2555</td>\n",
              "      <td>22</td>\n",
              "      <td>0</td>\n",
              "      <td>0</td>\n",
              "      <td>0</td>\n",
              "      <td>0</td>\n",
              "    </tr>\n",
              "    <tr>\n",
              "      <th>2</th>\n",
              "      <td>2</td>\n",
              "      <td>2801</td>\n",
              "      <td>77</td>\n",
              "      <td>9</td>\n",
              "      <td>510</td>\n",
              "      <td>17</td>\n",
              "      <td>1728</td>\n",
              "      <td>232</td>\n",
              "      <td>223</td>\n",
              "      <td>122</td>\n",
              "      <td>1087</td>\n",
              "      <td>12</td>\n",
              "      <td>0</td>\n",
              "      <td>0</td>\n",
              "      <td>0</td>\n",
              "      <td>0</td>\n",
              "    </tr>\n",
              "    <tr>\n",
              "      <th>3</th>\n",
              "      <td>3</td>\n",
              "      <td>3165</td>\n",
              "      <td>82</td>\n",
              "      <td>9</td>\n",
              "      <td>319</td>\n",
              "      <td>56</td>\n",
              "      <td>4890</td>\n",
              "      <td>233</td>\n",
              "      <td>225</td>\n",
              "      <td>124</td>\n",
              "      <td>1452</td>\n",
              "      <td>29</td>\n",
              "      <td>0</td>\n",
              "      <td>0</td>\n",
              "      <td>0</td>\n",
              "      <td>0</td>\n",
              "    </tr>\n",
              "    <tr>\n",
              "      <th>4</th>\n",
              "      <td>4</td>\n",
              "      <td>3048</td>\n",
              "      <td>333</td>\n",
              "      <td>11</td>\n",
              "      <td>124</td>\n",
              "      <td>31</td>\n",
              "      <td>2823</td>\n",
              "      <td>196</td>\n",
              "      <td>226</td>\n",
              "      <td>170</td>\n",
              "      <td>666</td>\n",
              "      <td>23</td>\n",
              "      <td>0</td>\n",
              "      <td>0</td>\n",
              "      <td>0</td>\n",
              "      <td>0</td>\n",
              "    </tr>\n",
              "    <tr>\n",
              "      <th>5</th>\n",
              "      <td>5</td>\n",
              "      <td>2347</td>\n",
              "      <td>31</td>\n",
              "      <td>16</td>\n",
              "      <td>242</td>\n",
              "      <td>140</td>\n",
              "      <td>216</td>\n",
              "      <td>214</td>\n",
              "      <td>203</td>\n",
              "      <td>120</td>\n",
              "      <td>1425</td>\n",
              "      <td>2</td>\n",
              "      <td>0</td>\n",
              "      <td>0</td>\n",
              "      <td>1</td>\n",
              "      <td>0</td>\n",
              "    </tr>\n",
              "    <tr>\n",
              "      <th>6</th>\n",
              "      <td>6</td>\n",
              "      <td>3381</td>\n",
              "      <td>56</td>\n",
              "      <td>22</td>\n",
              "      <td>376</td>\n",
              "      <td>147</td>\n",
              "      <td>1919</td>\n",
              "      <td>228</td>\n",
              "      <td>187</td>\n",
              "      <td>81</td>\n",
              "      <td>2059</td>\n",
              "      <td>40</td>\n",
              "      <td>0</td>\n",
              "      <td>0</td>\n",
              "      <td>0</td>\n",
              "      <td>0</td>\n",
              "    </tr>\n",
              "    <tr>\n",
              "      <th>7</th>\n",
              "      <td>7</td>\n",
              "      <td>2290</td>\n",
              "      <td>86</td>\n",
              "      <td>24</td>\n",
              "      <td>30</td>\n",
              "      <td>0</td>\n",
              "      <td>1325</td>\n",
              "      <td>246</td>\n",
              "      <td>192</td>\n",
              "      <td>61</td>\n",
              "      <td>830</td>\n",
              "      <td>17</td>\n",
              "      <td>0</td>\n",
              "      <td>0</td>\n",
              "      <td>1</td>\n",
              "      <td>0</td>\n",
              "    </tr>\n",
              "    <tr>\n",
              "      <th>8</th>\n",
              "      <td>8</td>\n",
              "      <td>3051</td>\n",
              "      <td>75</td>\n",
              "      <td>21</td>\n",
              "      <td>150</td>\n",
              "      <td>0</td>\n",
              "      <td>1003</td>\n",
              "      <td>240</td>\n",
              "      <td>194</td>\n",
              "      <td>74</td>\n",
              "      <td>1733</td>\n",
              "      <td>22</td>\n",
              "      <td>0</td>\n",
              "      <td>1</td>\n",
              "      <td>0</td>\n",
              "      <td>0</td>\n",
              "    </tr>\n",
              "    <tr>\n",
              "      <th>9</th>\n",
              "      <td>9</td>\n",
              "      <td>2978</td>\n",
              "      <td>294</td>\n",
              "      <td>18</td>\n",
              "      <td>228</td>\n",
              "      <td>29</td>\n",
              "      <td>5730</td>\n",
              "      <td>167</td>\n",
              "      <td>233</td>\n",
              "      <td>205</td>\n",
              "      <td>1920</td>\n",
              "      <td>29</td>\n",
              "      <td>0</td>\n",
              "      <td>0</td>\n",
              "      <td>0</td>\n",
              "      <td>0</td>\n",
              "    </tr>\n",
              "  </tbody>\n",
              "</table>\n",
              "</div>"
            ],
            "text/plain": [
              "   Index  Elevation  Aspect  ...  wild_area_3  wild_area_4  Cover_Type_new\n",
              "0      0       3202      34  ...            1            0               0\n",
              "1      1       3113     251  ...            0            0               0\n",
              "2      2       2801      77  ...            0            0               0\n",
              "3      3       3165      82  ...            0            0               0\n",
              "4      4       3048     333  ...            0            0               0\n",
              "5      5       2347      31  ...            0            1               0\n",
              "6      6       3381      56  ...            0            0               0\n",
              "7      7       2290      86  ...            0            1               0\n",
              "8      8       3051      75  ...            1            0               0\n",
              "9      9       2978     294  ...            0            0               0\n",
              "\n",
              "[10 rows x 16 columns]"
            ]
          },
          "metadata": {},
          "execution_count": 211
        }
      ]
    },
    {
      "cell_type": "markdown",
      "metadata": {
        "id": "UswEq4-qah_q"
      },
      "source": [
        "## **Step 4: Build a binary model to predict class #7**"
      ]
    },
    {
      "cell_type": "code",
      "metadata": {
        "id": "T0rs7MXkSd-1"
      },
      "source": [
        "# Step 4: Build a binary model to predict class #7\n",
        "F = data.drop('Cover_Type_new', axis = 1)\n",
        "y = data['Cover_Type_new']\n"
      ],
      "execution_count": null,
      "outputs": []
    },
    {
      "cell_type": "code",
      "metadata": {
        "colab": {
          "base_uri": "https://localhost:8080/"
        },
        "id": "MrskYt9vTIJv",
        "outputId": "37d274f3-ebbf-403c-ce90-de09ee157c57"
      },
      "source": [
        "#from sklearn.linear_model import LogisticRegression\n",
        "\n",
        "#Instantiate\n",
        "logist = LogisticRegression(penalty='l2', C=100.0, \n",
        "                           fit_intercept=True, \n",
        "                           solver='liblinear', max_iter=500)\n",
        "\n",
        "#Fit\n",
        "logist.fit(F,y)\n",
        "\n",
        "#Predicted classes\n",
        "logist.predict(F)\n",
        "\n",
        "#Predicted probabilities\n",
        "p_hat_pred = logist.predict_proba(F)\n",
        "print(p_hat_pred[:,1])\n"
      ],
      "execution_count": null,
      "outputs": [
        {
          "output_type": "stream",
          "name": "stdout",
          "text": [
            "[1.59266746e-01 2.08911077e-03 2.75620283e-05 ... 4.78849328e-03\n",
            " 1.65077291e-06 1.82301775e-06]\n"
          ]
        }
      ]
    },
    {
      "cell_type": "markdown",
      "metadata": {
        "id": "DsB3jeooaj7a"
      },
      "source": [
        "## **Step 5: Assess expected accuracy: AUC**"
      ]
    },
    {
      "cell_type": "code",
      "metadata": {
        "id": "S7K_peLdTp5U",
        "colab": {
          "base_uri": "https://localhost:8080/"
        },
        "outputId": "1eb31a21-d86b-4d2d-eca1-e67e88501506"
      },
      "source": [
        "# Step 5: Assess expected accuracy: AUC\n",
        "from sklearn import metrics\n",
        "\n",
        "test_hat = logist.predict_proba(F)\n",
        "test_hat_preds = test_hat[:,1]\n",
        "\n",
        "fpr, tpr, thresholds = metrics.roc_curve(y, test_hat_preds)\n",
        "metrics.auc(fpr, tpr)"
      ],
      "execution_count": null,
      "outputs": [
        {
          "output_type": "execute_result",
          "data": {
            "text/plain": [
              "0.961908291203508"
            ]
          },
          "metadata": {},
          "execution_count": 214
        }
      ]
    },
    {
      "cell_type": "code",
      "metadata": {
        "colab": {
          "base_uri": "https://localhost:8080/",
          "height": 295
        },
        "id": "n4xrx5WEWofw",
        "outputId": "a17ef029-9365-464e-a67b-a8bce550f7e4"
      },
      "source": [
        "#Lets also create a AUC/ROC plot\n",
        "import matplotlib.pyplot as plt\n",
        "\n",
        "#Create AUC plot\n",
        "fpr, tpr, threshold = metrics.roc_curve(y, test_hat_preds)\n",
        "roc_auc = metrics.auc(fpr, tpr)\n",
        "plt.plot(fpr, tpr, label='ROC curve (area = %0.3f)' % roc_auc)\n",
        "\n",
        "# Refining plot\n",
        "plt.plot([0, 1], [0, 1], 'k--') \n",
        "plt.xlabel('False Positive Rate or (1 - Specifity)')\n",
        "plt.ylabel('True Positive Rate or (Sensitivity)')\n",
        "plt.title('Receiver Operating Characteristic')\n",
        "plt.legend(loc=\"lower right\")\n",
        "plt.title('Receiver Operating Characteristic')\n",
        "\n",
        "\n",
        "#Inspect figure\n",
        "plt.show()"
      ],
      "execution_count": null,
      "outputs": [
        {
          "output_type": "display_data",
          "data": {
            "image/png": "[encoded data removed]",
            "text/plain": [
              "<Figure size 432x288 with 1 Axes>"
            ]
          },
          "metadata": {
            "needs_background": "light"
          }
        }
      ]
    },
    {
      "cell_type": "markdown",
      "metadata": {
        "id": "LA3-WLO0aD8o"
      },
      "source": [
        "The curve looks pretty nice."
      ]
    },
    {
      "cell_type": "markdown",
      "metadata": {
        "id": "wExPQGpEalz0"
      },
      "source": [
        "## **Step 6: Report variable impact**"
      ]
    },
    {
      "cell_type": "code",
      "metadata": {
        "colab": {
          "base_uri": "https://localhost:8080/"
        },
        "id": "7Sz5pcrbXAv5",
        "outputId": "c72fba36-ddf4-45cb-b029-9f1909ebfbee"
      },
      "source": [
        "# Step 6: Report variable impact\n",
        "print(abs(logist.coef_))"
      ],
      "execution_count": null,
      "outputs": [
        {
          "output_type": "stream",
          "name": "stdout",
          "text": [
            "[[1.03698336e-06 1.01712255e-02 1.15249447e-03 2.27979400e-01\n",
            "  1.23726757e-03 1.33572968e-03 1.28560349e-05 2.27227848e-01\n",
            "  1.69726771e-01 1.94343871e-01 1.55056523e-04 1.68581258e-01\n",
            "  2.12526300e-02 1.10605827e-01 2.25679005e-04]]\n"
          ]
        }
      ]
    },
    {
      "cell_type": "code",
      "metadata": {
        "scrolled": true,
        "id": "AmlSs71YO6dg"
      },
      "source": [
        "## Your code here (click on the window and type 'b' if you want to split in more than one code window)\n",
        "#import pandas as pd\n",
        "\n",
        "\n",
        "# Step 7: Try to improve it using methods to tackle class imbalance.\n",
        "\n",
        "\n",
        "# Step 8: Repeat 4., 5., 6. and 7. now with a multi-class model (EXTENDED PROJECT)\n",
        "\n",
        "\n"
      ],
      "execution_count": null,
      "outputs": []
    },
    {
      "cell_type": "markdown",
      "metadata": {
        "id": "DJxAsKnpO6di"
      },
      "source": [
        "### Kaggle Predictions Submissions\n",
        "\n",
        "Once you have produced testset predictions you can submit these to <i> kaggle </i> in order to see how your model performs. \n",
        "\n",
        "The following code provides an example of generating a <i> .csv </i> file to submit to kaggle\n",
        "1) create a pandas dataframe with two columns, one with the test set \"Index\"'s and the other with your probability of the \"Covert_Type\" being class 7\n",
        "\n",
        "2) use the <i> .to_csv </i> pandas method to create a csv file. The <i> index = False </i> is important to ensure the <i> .csv </i> is in the format kaggle expects "
      ]
    },
    {
      "cell_type": "code",
      "metadata": {
        "colab": {
          "base_uri": "https://localhost:8080/",
          "height": 419
        },
        "id": "Lc_6dmKIVR0Z",
        "outputId": "5f259a7c-f5b4-4fe9-95cf-928af9b45e2d"
      },
      "source": [
        "# Dataframe for submission\n",
        "p_hat_pred_test = logist.predict_proba(data_test)\n",
        "kaggle = pd.DataFrame(data_test['Index'])\n",
        "pred_df = pd.DataFrame(p_hat_pred_test[:,1])\n",
        "kaggle['p_hat_pred_test'] = pred_df\n",
        "kaggle"
      ],
      "execution_count": null,
      "outputs": [
        {
          "output_type": "execute_result",
          "data": {
            "text/html": [
              "<div>\n",
              "<style scoped>\n",
              "    .dataframe tbody tr th:only-of-type {\n",
              "        vertical-align: middle;\n",
              "    }\n",
              "\n",
              "    .dataframe tbody tr th {\n",
              "        vertical-align: top;\n",
              "    }\n",
              "\n",
              "    .dataframe thead th {\n",
              "        text-align: right;\n",
              "    }\n",
              "</style>\n",
              "<table border=\"1\" class=\"dataframe\">\n",
              "  <thead>\n",
              "    <tr style=\"text-align: right;\">\n",
              "      <th></th>\n",
              "      <th>Index</th>\n",
              "      <th>p_hat_pred_test</th>\n",
              "    </tr>\n",
              "  </thead>\n",
              "  <tbody>\n",
              "    <tr>\n",
              "      <th>0</th>\n",
              "      <td>61006</td>\n",
              "      <td>9.959232e-03</td>\n",
              "    </tr>\n",
              "    <tr>\n",
              "      <th>1</th>\n",
              "      <td>61007</td>\n",
              "      <td>9.205196e-06</td>\n",
              "    </tr>\n",
              "    <tr>\n",
              "      <th>2</th>\n",
              "      <td>61008</td>\n",
              "      <td>1.704510e-01</td>\n",
              "    </tr>\n",
              "    <tr>\n",
              "      <th>3</th>\n",
              "      <td>61009</td>\n",
              "      <td>1.817435e-07</td>\n",
              "    </tr>\n",
              "    <tr>\n",
              "      <th>4</th>\n",
              "      <td>61010</td>\n",
              "      <td>8.995285e-04</td>\n",
              "    </tr>\n",
              "    <tr>\n",
              "      <th>...</th>\n",
              "      <td>...</td>\n",
              "      <td>...</td>\n",
              "    </tr>\n",
              "    <tr>\n",
              "      <th>13068</th>\n",
              "      <td>74074</td>\n",
              "      <td>2.110275e-03</td>\n",
              "    </tr>\n",
              "    <tr>\n",
              "      <th>13069</th>\n",
              "      <td>74075</td>\n",
              "      <td>8.104978e-05</td>\n",
              "    </tr>\n",
              "    <tr>\n",
              "      <th>13070</th>\n",
              "      <td>74076</td>\n",
              "      <td>6.165053e-03</td>\n",
              "    </tr>\n",
              "    <tr>\n",
              "      <th>13071</th>\n",
              "      <td>74077</td>\n",
              "      <td>7.551386e-04</td>\n",
              "    </tr>\n",
              "    <tr>\n",
              "      <th>13072</th>\n",
              "      <td>74078</td>\n",
              "      <td>2.368175e-01</td>\n",
              "    </tr>\n",
              "  </tbody>\n",
              "</table>\n",
              "<p>13073 rows × 2 columns</p>\n",
              "</div>"
            ],
            "text/plain": [
              "       Index  p_hat_pred_test\n",
              "0      61006     9.959232e-03\n",
              "1      61007     9.205196e-06\n",
              "2      61008     1.704510e-01\n",
              "3      61009     1.817435e-07\n",
              "4      61010     8.995285e-04\n",
              "...      ...              ...\n",
              "13068  74074     2.110275e-03\n",
              "13069  74075     8.104978e-05\n",
              "13070  74076     6.165053e-03\n",
              "13071  74077     7.551386e-04\n",
              "13072  74078     2.368175e-01\n",
              "\n",
              "[13073 rows x 2 columns]"
            ]
          },
          "metadata": {},
          "execution_count": 218
        }
      ]
    },
    {
      "cell_type": "code",
      "metadata": {
        "id": "2SxnJ7X4O6di"
      },
      "source": [
        "# Step 9: Produce .csv for kaggle testing \n",
        "#test_predictions_submit = pd.DataFrame({\"Index\": forest_cover_test[\"Index\"], \"Cover_Type\": p_hat_pred[:,1]})\n",
        "test_predictions_submit = pd.DataFrame({\"Index\": kaggle[\"Index\"], \"Cover_Type\": kaggle['p_hat_pred_test']})\n",
        "test_predictions_submit.to_csv(\"test_LogReg_predictions_submit.csv\", index = False)"
      ],
      "execution_count": null,
      "outputs": []
    }
  ]
}