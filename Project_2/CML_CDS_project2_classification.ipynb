{
  "nbformat": 4,
  "nbformat_minor": 0,
  "metadata": {
    "kernelspec": {
      "display_name": "Python 3",
      "language": "python",
      "name": "python3"
    },
    "language_info": {
      "codemirror_mode": {
        "name": "ipython",
        "version": 3
      },
      "file_extension": ".py",
      "mimetype": "text/x-python",
      "name": "python",
      "nbconvert_exporter": "python",
      "pygments_lexer": "ipython3",
      "version": "3.8.8"
    },
    "toc": {
      "base_numbering": 1,
      "nav_menu": {},
      "number_sections": true,
      "sideBar": true,
      "skip_h1_title": false,
      "title_cell": "Table of Contents",
      "title_sidebar": "Contents",
      "toc_cell": false,
      "toc_position": {},
      "toc_section_display": true,
      "toc_window_display": true
    },
    "colab": {
      "name": "CML-CDS_project2_classification.ipynb",
      "provenance": [],
      "collapsed_sections": [
        "aGge46vqaRwY",
        "bnoc_G0uaYBb",
        "1RHGC6AeabJE",
        "vVF0eZS5afs_",
        "kQHnxxLkpomv",
        "DsB3jeooaj7a",
        "bRq8faGzxjyw",
        "wExPQGpEalz0",
        "vjf6V0PNxDtm",
        "kxWVwZRkRyUU",
        "nWC3H6kBRkeR",
        "5g9jsQ6Jq4GO"
      ]
    }
  },
  "cells": [
    {
      "cell_type": "markdown",
      "metadata": {
        "id": "U1A391KUO6dX"
      },
      "source": [
        "<img src = \"../../Data/bgsedsc_0.jpg\">\n",
        "$\\newcommand{\\bb}{\\boldsymbol{\\beta}}$\n",
        "$\\DeclareMathOperator{\\Gau}{\\mathcal{N}}$\n",
        "$\\newcommand{\\bphi}{\\boldsymbol \\phi}$\n",
        "$\\newcommand{\\bpi}{\\boldsymbol \\pi}$\n",
        "$\\newcommand{\\bx}{\\boldsymbol{x}}$\n",
        "$\\newcommand{\\by}{\\boldsymbol{y}}$\n",
        "$\\newcommand{\\bmu}{\\boldsymbol{\\mu}}$\n",
        "$\\newcommand{\\bS}{\\boldsymbol{\\Sigma}}$\n",
        "$\\newcommand{\\whbb}{\\widehat{\\bb}}$\n",
        "$\\newcommand{\\hf}{\\hat{f}}$\n",
        "$\\newcommand{\\hy}{\\hat{y}}$\n",
        "$\\newcommand{\\tf}{\\tilde{f}}$\n",
        "$\\newcommand{\\ybar}{\\overline{y}}$\n",
        "$\\newcommand{\\E}{\\mathbb{E}}$\n",
        "$\\newcommand{\\Var}{Var}$\n",
        "$\\newcommand{\\Cov}{Cov}$\n",
        "$\\newcommand{\\Cor}{Cor}$"
      ]
    },
    {
      "cell_type": "markdown",
      "metadata": {
        "id": "zkCPeYQkO6dd"
      },
      "source": [
        "# Project: Linear Classification"
      ]
    },
    {
      "cell_type": "markdown",
      "metadata": {
        "id": "UmuZ93TvO6de"
      },
      "source": [
        "## Programming project: forest cover classification\n",
        "\n",
        "In this project, you have to predict the class of forest cover (the predominant kind of tree cover) from strictly cartographic and environment variables.\n",
        "\n",
        "The actual forest cover type for a given observation (30 x 30 meter cell) was determined from US Forest Service (USFS) Region 2 Resource Information System (RIS) data. Independent variables were derived from data originally obtained from US Geological Survey (USGS) and USFS data. Data is in raw form (not scaled) and contains categorical data for qualitative independent variables (wilderness areas and soil types).\n",
        "\n",
        "You have further details on the data at *covertype.info* file and at https://archive.ics.uci.edu/ml/datasets/Covertype\n",
        "\n",
        "Be aware that the final dataset has been slighly modified from the original source data.\n",
        "\n",
        "As performance metric, you can use *AUC* in the binary classification case. For multi-class classification, check as well the confussion matrix and estimate the misclassification probabilities of different classes(check *metrics.confusion_matrix* and *metrics.classification_report* in *sklearn*).\n",
        "\n",
        "+ Using *MultiClass_Train.csv* file build a predictive model for *Cover_Type* .\n",
        "+ Try a first a binary classification to predict class #7 (Krummholz, https://en.wikipedia.org/wiki/Krummholz), which is a rare valuable habitat. After that, then try multi-variate classification to predict all classes.\n",
        "+ For this analysis there is an extra test dataset. Once your code is submitted we will run a competition to see how you score in the test data. Hence have prepared also the necessary script to compute the accuracy estimate on the test data once released.\n",
        "\n",
        "You can follow those **steps** in your first implementation:\n",
        "1. *Explore* and understand the dataset. \n",
        "2. Create *dummy variables* for relevant categorical features\n",
        "3. Reformat the Class_type variable into a binary one, being class #7 the target variable versus the others.\n",
        "4. *Build* an initial binary model for class #7 versus the other ones and test it on the same input data. \n",
        "5. Assess expected accuracy using *cross-validation*\n",
        "6. Report which variable impacts more on results \n",
        "7. Try to improve it using methods to tackle class imbalance.\n",
        "8. Repeat 4., 5., 6. and 7. now with a multi-class model (EXTENDED PROJECT)\n",
        "9. Produce .csv for kaggle testing \n"
      ]
    },
    {
      "cell_type": "markdown",
      "metadata": {
        "id": "sLc6-WTMO6df"
      },
      "source": [
        "## Main criteria for grading\n",
        "From more to less important (the weighting of these components will vary between the in-class and extended projects):\n",
        "+ Code runs\n",
        "+ Data preparation\n",
        "+ Logistic Regression Models(s) have been used\n",
        "+ Cover Type prediction made\n",
        "+ Accuracy of predictions for test set (kaggle)\n",
        "+ Class imbalance management\n",
        "+ Hyperparameter optimization"
      ]
    },
    {
      "cell_type": "markdown",
      "metadata": {
        "id": "aGge46vqaRwY"
      },
      "source": [
        "# **0. Load Libraries and Data**"
      ]
    },
    {
      "cell_type": "markdown",
      "metadata": {
        "id": "iK7r1rn7BdNj"
      },
      "source": [
        "*Note* *to* *self*: See [here](https://stackoverflow.com/questions/48905127/importing-py-files-in-google-colab) for how to import .py-files into Google Colab with own functions."
      ]
    },
    {
      "cell_type": "code",
      "metadata": {
        "id": "7JHBCyLPP5zp",
        "colab": {
          "base_uri": "https://localhost:8080/"
        },
        "outputId": "4e146a1c-e851-47ca-c716-f8d1d16aacbe"
      },
      "source": [
        "#Step 0: Load data\n",
        "from google.colab import drive\n",
        "drive.mount('/content/drive')"
      ],
      "execution_count": 279,
      "outputs": [
        {
          "output_type": "stream",
          "name": "stdout",
          "text": [
            "Drive already mounted at /content/drive; to attempt to forcibly remount, call drive.mount(\"/content/drive\", force_remount=True).\n"
          ]
        }
      ]
    },
    {
      "cell_type": "code",
      "metadata": {
        "id": "DeIB1CNmQRDe"
      },
      "source": [
        "import os\n",
        "os.chdir('/content/drive/My Drive/CML1_Projects/Project2_LinearClassification')"
      ],
      "execution_count": 280,
      "outputs": []
    },
    {
      "cell_type": "code",
      "metadata": {
        "id": "okLg2ES8CP_6"
      },
      "source": [
        "# Step 0: Load libraries\n",
        "import pandas as pd\n",
        "import matplotlib.pyplot as plt\n",
        "import seaborn as sns\n",
        "import numpy as np\n",
        "\n",
        "from sklearn import metrics\n",
        "from sklearn.metrics import confusion_matrix\n",
        "from sklearn.linear_model import LogisticRegression\n",
        "from sklearn.model_selection import cross_val_predict as cvp"
      ],
      "execution_count": 281,
      "outputs": []
    },
    {
      "cell_type": "markdown",
      "metadata": {
        "id": "92n1NIViuE9z"
      },
      "source": [
        "Custom functions:"
      ]
    },
    {
      "cell_type": "code",
      "metadata": {
        "id": "iWCiad_CuGtM"
      },
      "source": [
        "# Set print options (show narrays as decimals, not scientific)\n",
        "float_formatter = \"{:.2f}\".format\n",
        "np.set_printoptions(formatter={'float_kind':float_formatter})\n",
        "\n",
        "# Jack's confusion matrix plotter\n",
        "def plot_confusion_matrix(cm, class_labels):\n",
        "    \"\"\"Pretty prints a confusion matrix as a figure\n",
        "\n",
        "    Args:\n",
        "        cm:  A confusion matrix for example\n",
        "        [[245, 5 ], \n",
        "         [ 34, 245]]\n",
        "         \n",
        "        class_labels: The list of class labels to be plotted on x-y axis\n",
        "\n",
        "    Rerturns:\n",
        "        Just plots the confusion matrix.\n",
        "    \"\"\"\n",
        "    \n",
        "    df_cm = pd.DataFrame(cm, index = [i for i in class_labels],\n",
        "                  columns = [i for i in class_labels])\n",
        "    sns.set(font_scale=1)\n",
        "    sns.heatmap(df_cm, annot=True, fmt='g', cmap='Blues')\n",
        "    plt.xlabel(\"Predicted label\")\n",
        "    plt.ylabel(\"Real label\")\n",
        "    plt.show()\n",
        "\n",
        "\n",
        "## the correction factor: \n",
        "def reweight(pi,q1=0.5,r1=0.5):\n",
        "    r0 = 1-r1\n",
        "    q0 = 1-q1\n",
        "    tot = pi*(q1/r1)+(1-pi)*(q0/r0)\n",
        "    w = pi*(q1/r1)\n",
        "    w /= tot\n",
        "    return w"
      ],
      "execution_count": 282,
      "outputs": []
    },
    {
      "cell_type": "markdown",
      "metadata": {
        "id": "bnoc_G0uaYBb"
      },
      "source": [
        "# **1. Exploratory Data Analysis**"
      ]
    },
    {
      "cell_type": "markdown",
      "metadata": {
        "id": "LTcux-xRkF_N"
      },
      "source": [
        "NB: See also here for guide to EDA for logit: [http://www.jeremy-oakley.staff.shef.ac.uk/mas61004/EDAtutorial/eda-for-logistic-regression.html](http://www.jeremy-oakley.staff.shef.ac.uk/mas61004/EDAtutorial/eda-for-logistic-regression.html)."
      ]
    },
    {
      "cell_type": "code",
      "metadata": {
        "id": "ri7f8tRTQqnB",
        "colab": {
          "base_uri": "https://localhost:8080/",
          "height": 623
        },
        "outputId": "e2729aff-abfe-4655-a705-5edd95f042d8"
      },
      "source": [
        "# Step 1: Read  data\n",
        "df_train = pd.read_csv('Data/MultiClass_Train.csv', index_col = 0)\n",
        "print(df_train.columns)\n",
        "df_train"
      ],
      "execution_count": 283,
      "outputs": [
        {
          "output_type": "stream",
          "name": "stdout",
          "text": [
            "Index(['Elevation', 'Aspect', 'Slope', 'Horiz_dist_hydro',\n",
            "       'Vertical_dist_hydro', 'Horiz_dist_roadways', 'Hillshade_9am',\n",
            "       'Hillshade_Noon', 'Hillshade_3pm', 'Horiz_dist_firepoints',\n",
            "       'Cover_Type', 'Wilderness_Area', 'Soil_Type'],\n",
            "      dtype='object')\n"
          ]
        },
        {
          "output_type": "execute_result",
          "data": {
            "text/html": [
              "<div>\n",
              "<style scoped>\n",
              "    .dataframe tbody tr th:only-of-type {\n",
              "        vertical-align: middle;\n",
              "    }\n",
              "\n",
              "    .dataframe tbody tr th {\n",
              "        vertical-align: top;\n",
              "    }\n",
              "\n",
              "    .dataframe thead th {\n",
              "        text-align: right;\n",
              "    }\n",
              "</style>\n",
              "<table border=\"1\" class=\"dataframe\">\n",
              "  <thead>\n",
              "    <tr style=\"text-align: right;\">\n",
              "      <th></th>\n",
              "      <th>Elevation</th>\n",
              "      <th>Aspect</th>\n",
              "      <th>Slope</th>\n",
              "      <th>Horiz_dist_hydro</th>\n",
              "      <th>Vertical_dist_hydro</th>\n",
              "      <th>Horiz_dist_roadways</th>\n",
              "      <th>Hillshade_9am</th>\n",
              "      <th>Hillshade_Noon</th>\n",
              "      <th>Hillshade_3pm</th>\n",
              "      <th>Horiz_dist_firepoints</th>\n",
              "      <th>Cover_Type</th>\n",
              "      <th>Wilderness_Area</th>\n",
              "      <th>Soil_Type</th>\n",
              "    </tr>\n",
              "    <tr>\n",
              "      <th>Index</th>\n",
              "      <th></th>\n",
              "      <th></th>\n",
              "      <th></th>\n",
              "      <th></th>\n",
              "      <th></th>\n",
              "      <th></th>\n",
              "      <th></th>\n",
              "      <th></th>\n",
              "      <th></th>\n",
              "      <th></th>\n",
              "      <th></th>\n",
              "      <th></th>\n",
              "      <th></th>\n",
              "    </tr>\n",
              "  </thead>\n",
              "  <tbody>\n",
              "    <tr>\n",
              "      <th>0</th>\n",
              "      <td>3202</td>\n",
              "      <td>34</td>\n",
              "      <td>10</td>\n",
              "      <td>0</td>\n",
              "      <td>0</td>\n",
              "      <td>2760</td>\n",
              "      <td>219</td>\n",
              "      <td>218</td>\n",
              "      <td>134</td>\n",
              "      <td>1734</td>\n",
              "      <td>1</td>\n",
              "      <td>3</td>\n",
              "      <td>38</td>\n",
              "    </tr>\n",
              "    <tr>\n",
              "      <th>1</th>\n",
              "      <td>3113</td>\n",
              "      <td>251</td>\n",
              "      <td>13</td>\n",
              "      <td>192</td>\n",
              "      <td>40</td>\n",
              "      <td>5600</td>\n",
              "      <td>191</td>\n",
              "      <td>249</td>\n",
              "      <td>195</td>\n",
              "      <td>2555</td>\n",
              "      <td>2</td>\n",
              "      <td>1</td>\n",
              "      <td>22</td>\n",
              "    </tr>\n",
              "    <tr>\n",
              "      <th>2</th>\n",
              "      <td>2801</td>\n",
              "      <td>77</td>\n",
              "      <td>9</td>\n",
              "      <td>510</td>\n",
              "      <td>17</td>\n",
              "      <td>1728</td>\n",
              "      <td>232</td>\n",
              "      <td>223</td>\n",
              "      <td>122</td>\n",
              "      <td>1087</td>\n",
              "      <td>2</td>\n",
              "      <td>1</td>\n",
              "      <td>12</td>\n",
              "    </tr>\n",
              "    <tr>\n",
              "      <th>3</th>\n",
              "      <td>3165</td>\n",
              "      <td>82</td>\n",
              "      <td>9</td>\n",
              "      <td>319</td>\n",
              "      <td>56</td>\n",
              "      <td>4890</td>\n",
              "      <td>233</td>\n",
              "      <td>225</td>\n",
              "      <td>124</td>\n",
              "      <td>1452</td>\n",
              "      <td>1</td>\n",
              "      <td>1</td>\n",
              "      <td>29</td>\n",
              "    </tr>\n",
              "    <tr>\n",
              "      <th>4</th>\n",
              "      <td>3048</td>\n",
              "      <td>333</td>\n",
              "      <td>11</td>\n",
              "      <td>124</td>\n",
              "      <td>31</td>\n",
              "      <td>2823</td>\n",
              "      <td>196</td>\n",
              "      <td>226</td>\n",
              "      <td>170</td>\n",
              "      <td>666</td>\n",
              "      <td>1</td>\n",
              "      <td>1</td>\n",
              "      <td>23</td>\n",
              "    </tr>\n",
              "    <tr>\n",
              "      <th>...</th>\n",
              "      <td>...</td>\n",
              "      <td>...</td>\n",
              "      <td>...</td>\n",
              "      <td>...</td>\n",
              "      <td>...</td>\n",
              "      <td>...</td>\n",
              "      <td>...</td>\n",
              "      <td>...</td>\n",
              "      <td>...</td>\n",
              "      <td>...</td>\n",
              "      <td>...</td>\n",
              "      <td>...</td>\n",
              "      <td>...</td>\n",
              "    </tr>\n",
              "    <tr>\n",
              "      <th>61001</th>\n",
              "      <td>3255</td>\n",
              "      <td>1</td>\n",
              "      <td>13</td>\n",
              "      <td>0</td>\n",
              "      <td>0</td>\n",
              "      <td>1552</td>\n",
              "      <td>201</td>\n",
              "      <td>215</td>\n",
              "      <td>151</td>\n",
              "      <td>713</td>\n",
              "      <td>1</td>\n",
              "      <td>1</td>\n",
              "      <td>38</td>\n",
              "    </tr>\n",
              "    <tr>\n",
              "      <th>61002</th>\n",
              "      <td>3170</td>\n",
              "      <td>170</td>\n",
              "      <td>25</td>\n",
              "      <td>417</td>\n",
              "      <td>61</td>\n",
              "      <td>2605</td>\n",
              "      <td>229</td>\n",
              "      <td>241</td>\n",
              "      <td>128</td>\n",
              "      <td>3350</td>\n",
              "      <td>2</td>\n",
              "      <td>3</td>\n",
              "      <td>33</td>\n",
              "    </tr>\n",
              "    <tr>\n",
              "      <th>61003</th>\n",
              "      <td>2994</td>\n",
              "      <td>170</td>\n",
              "      <td>13</td>\n",
              "      <td>134</td>\n",
              "      <td>18</td>\n",
              "      <td>1610</td>\n",
              "      <td>229</td>\n",
              "      <td>245</td>\n",
              "      <td>146</td>\n",
              "      <td>2394</td>\n",
              "      <td>2</td>\n",
              "      <td>3</td>\n",
              "      <td>33</td>\n",
              "    </tr>\n",
              "    <tr>\n",
              "      <th>61004</th>\n",
              "      <td>2543</td>\n",
              "      <td>135</td>\n",
              "      <td>4</td>\n",
              "      <td>124</td>\n",
              "      <td>17</td>\n",
              "      <td>524</td>\n",
              "      <td>227</td>\n",
              "      <td>238</td>\n",
              "      <td>145</td>\n",
              "      <td>1106</td>\n",
              "      <td>3</td>\n",
              "      <td>4</td>\n",
              "      <td>6</td>\n",
              "    </tr>\n",
              "    <tr>\n",
              "      <th>61005</th>\n",
              "      <td>2661</td>\n",
              "      <td>213</td>\n",
              "      <td>19</td>\n",
              "      <td>150</td>\n",
              "      <td>-2</td>\n",
              "      <td>2430</td>\n",
              "      <td>199</td>\n",
              "      <td>254</td>\n",
              "      <td>185</td>\n",
              "      <td>1891</td>\n",
              "      <td>2</td>\n",
              "      <td>3</td>\n",
              "      <td>10</td>\n",
              "    </tr>\n",
              "  </tbody>\n",
              "</table>\n",
              "<p>61006 rows × 13 columns</p>\n",
              "</div>"
            ],
            "text/plain": [
              "       Elevation  Aspect  Slope  ...  Cover_Type  Wilderness_Area  Soil_Type\n",
              "Index                            ...                                        \n",
              "0           3202      34     10  ...           1                3         38\n",
              "1           3113     251     13  ...           2                1         22\n",
              "2           2801      77      9  ...           2                1         12\n",
              "3           3165      82      9  ...           1                1         29\n",
              "4           3048     333     11  ...           1                1         23\n",
              "...          ...     ...    ...  ...         ...              ...        ...\n",
              "61001       3255       1     13  ...           1                1         38\n",
              "61002       3170     170     25  ...           2                3         33\n",
              "61003       2994     170     13  ...           2                3         33\n",
              "61004       2543     135      4  ...           3                4          6\n",
              "61005       2661     213     19  ...           2                3         10\n",
              "\n",
              "[61006 rows x 13 columns]"
            ]
          },
          "metadata": {},
          "execution_count": 283
        }
      ]
    },
    {
      "cell_type": "code",
      "metadata": {
        "id": "C-502p_pbDTO",
        "colab": {
          "base_uri": "https://localhost:8080/",
          "height": 623
        },
        "outputId": "80f293d5-f913-48f0-bebd-1e88202d5546"
      },
      "source": [
        "df_test = pd.read_csv('Data/MultiClass_Test.csv', index_col = 0)\n",
        "print(df_test.columns)\n",
        "df_test"
      ],
      "execution_count": 284,
      "outputs": [
        {
          "output_type": "stream",
          "name": "stdout",
          "text": [
            "Index(['Elevation', 'Aspect', 'Slope', 'Horiz_dist_hydro',\n",
            "       'Vertical_dist_hydro', 'Horiz_dist_roadways', 'Hillshade_9am',\n",
            "       'Hillshade_Noon', 'Hillshade_3pm', 'Horiz_dist_firepoints',\n",
            "       'Wilderness_Area', 'Soil_Type'],\n",
            "      dtype='object')\n"
          ]
        },
        {
          "output_type": "execute_result",
          "data": {
            "text/html": [
              "<div>\n",
              "<style scoped>\n",
              "    .dataframe tbody tr th:only-of-type {\n",
              "        vertical-align: middle;\n",
              "    }\n",
              "\n",
              "    .dataframe tbody tr th {\n",
              "        vertical-align: top;\n",
              "    }\n",
              "\n",
              "    .dataframe thead th {\n",
              "        text-align: right;\n",
              "    }\n",
              "</style>\n",
              "<table border=\"1\" class=\"dataframe\">\n",
              "  <thead>\n",
              "    <tr style=\"text-align: right;\">\n",
              "      <th></th>\n",
              "      <th>Elevation</th>\n",
              "      <th>Aspect</th>\n",
              "      <th>Slope</th>\n",
              "      <th>Horiz_dist_hydro</th>\n",
              "      <th>Vertical_dist_hydro</th>\n",
              "      <th>Horiz_dist_roadways</th>\n",
              "      <th>Hillshade_9am</th>\n",
              "      <th>Hillshade_Noon</th>\n",
              "      <th>Hillshade_3pm</th>\n",
              "      <th>Horiz_dist_firepoints</th>\n",
              "      <th>Wilderness_Area</th>\n",
              "      <th>Soil_Type</th>\n",
              "    </tr>\n",
              "    <tr>\n",
              "      <th>Index</th>\n",
              "      <th></th>\n",
              "      <th></th>\n",
              "      <th></th>\n",
              "      <th></th>\n",
              "      <th></th>\n",
              "      <th></th>\n",
              "      <th></th>\n",
              "      <th></th>\n",
              "      <th></th>\n",
              "      <th></th>\n",
              "      <th></th>\n",
              "      <th></th>\n",
              "    </tr>\n",
              "  </thead>\n",
              "  <tbody>\n",
              "    <tr>\n",
              "      <th>61006</th>\n",
              "      <td>3111</td>\n",
              "      <td>72</td>\n",
              "      <td>13</td>\n",
              "      <td>283</td>\n",
              "      <td>76</td>\n",
              "      <td>630</td>\n",
              "      <td>235</td>\n",
              "      <td>214</td>\n",
              "      <td>109</td>\n",
              "      <td>499</td>\n",
              "      <td>3</td>\n",
              "      <td>31</td>\n",
              "    </tr>\n",
              "    <tr>\n",
              "      <th>61007</th>\n",
              "      <td>2768</td>\n",
              "      <td>0</td>\n",
              "      <td>20</td>\n",
              "      <td>134</td>\n",
              "      <td>26</td>\n",
              "      <td>912</td>\n",
              "      <td>186</td>\n",
              "      <td>198</td>\n",
              "      <td>146</td>\n",
              "      <td>1974</td>\n",
              "      <td>3</td>\n",
              "      <td>10</td>\n",
              "    </tr>\n",
              "    <tr>\n",
              "      <th>61008</th>\n",
              "      <td>3360</td>\n",
              "      <td>272</td>\n",
              "      <td>13</td>\n",
              "      <td>685</td>\n",
              "      <td>178</td>\n",
              "      <td>4502</td>\n",
              "      <td>185</td>\n",
              "      <td>244</td>\n",
              "      <td>198</td>\n",
              "      <td>2642</td>\n",
              "      <td>3</td>\n",
              "      <td>39</td>\n",
              "    </tr>\n",
              "    <tr>\n",
              "      <th>61009</th>\n",
              "      <td>2413</td>\n",
              "      <td>0</td>\n",
              "      <td>3</td>\n",
              "      <td>201</td>\n",
              "      <td>18</td>\n",
              "      <td>560</td>\n",
              "      <td>215</td>\n",
              "      <td>233</td>\n",
              "      <td>156</td>\n",
              "      <td>866</td>\n",
              "      <td>3</td>\n",
              "      <td>2</td>\n",
              "    </tr>\n",
              "    <tr>\n",
              "      <th>61010</th>\n",
              "      <td>2815</td>\n",
              "      <td>54</td>\n",
              "      <td>11</td>\n",
              "      <td>42</td>\n",
              "      <td>9</td>\n",
              "      <td>2313</td>\n",
              "      <td>226</td>\n",
              "      <td>217</td>\n",
              "      <td>123</td>\n",
              "      <td>2866</td>\n",
              "      <td>1</td>\n",
              "      <td>29</td>\n",
              "    </tr>\n",
              "    <tr>\n",
              "      <th>...</th>\n",
              "      <td>...</td>\n",
              "      <td>...</td>\n",
              "      <td>...</td>\n",
              "      <td>...</td>\n",
              "      <td>...</td>\n",
              "      <td>...</td>\n",
              "      <td>...</td>\n",
              "      <td>...</td>\n",
              "      <td>...</td>\n",
              "      <td>...</td>\n",
              "      <td>...</td>\n",
              "      <td>...</td>\n",
              "    </tr>\n",
              "    <tr>\n",
              "      <th>74074</th>\n",
              "      <td>3053</td>\n",
              "      <td>181</td>\n",
              "      <td>12</td>\n",
              "      <td>150</td>\n",
              "      <td>-13</td>\n",
              "      <td>2162</td>\n",
              "      <td>224</td>\n",
              "      <td>248</td>\n",
              "      <td>155</td>\n",
              "      <td>3827</td>\n",
              "      <td>1</td>\n",
              "      <td>23</td>\n",
              "    </tr>\n",
              "    <tr>\n",
              "      <th>74075</th>\n",
              "      <td>2940</td>\n",
              "      <td>218</td>\n",
              "      <td>27</td>\n",
              "      <td>30</td>\n",
              "      <td>4</td>\n",
              "      <td>1433</td>\n",
              "      <td>179</td>\n",
              "      <td>253</td>\n",
              "      <td>197</td>\n",
              "      <td>2616</td>\n",
              "      <td>3</td>\n",
              "      <td>13</td>\n",
              "    </tr>\n",
              "    <tr>\n",
              "      <th>74076</th>\n",
              "      <td>3014</td>\n",
              "      <td>208</td>\n",
              "      <td>4</td>\n",
              "      <td>283</td>\n",
              "      <td>37</td>\n",
              "      <td>4716</td>\n",
              "      <td>217</td>\n",
              "      <td>243</td>\n",
              "      <td>162</td>\n",
              "      <td>108</td>\n",
              "      <td>1</td>\n",
              "      <td>29</td>\n",
              "    </tr>\n",
              "    <tr>\n",
              "      <th>74077</th>\n",
              "      <td>2836</td>\n",
              "      <td>11</td>\n",
              "      <td>14</td>\n",
              "      <td>258</td>\n",
              "      <td>41</td>\n",
              "      <td>3342</td>\n",
              "      <td>204</td>\n",
              "      <td>210</td>\n",
              "      <td>141</td>\n",
              "      <td>1099</td>\n",
              "      <td>3</td>\n",
              "      <td>32</td>\n",
              "    </tr>\n",
              "    <tr>\n",
              "      <th>74078</th>\n",
              "      <td>3365</td>\n",
              "      <td>200</td>\n",
              "      <td>29</td>\n",
              "      <td>757</td>\n",
              "      <td>-101</td>\n",
              "      <td>3755</td>\n",
              "      <td>195</td>\n",
              "      <td>250</td>\n",
              "      <td>171</td>\n",
              "      <td>2312</td>\n",
              "      <td>1</td>\n",
              "      <td>39</td>\n",
              "    </tr>\n",
              "  </tbody>\n",
              "</table>\n",
              "<p>13073 rows × 12 columns</p>\n",
              "</div>"
            ],
            "text/plain": [
              "       Elevation  Aspect  ...  Wilderness_Area  Soil_Type\n",
              "Index                     ...                            \n",
              "61006       3111      72  ...                3         31\n",
              "61007       2768       0  ...                3         10\n",
              "61008       3360     272  ...                3         39\n",
              "61009       2413       0  ...                3          2\n",
              "61010       2815      54  ...                1         29\n",
              "...          ...     ...  ...              ...        ...\n",
              "74074       3053     181  ...                1         23\n",
              "74075       2940     218  ...                3         13\n",
              "74076       3014     208  ...                1         29\n",
              "74077       2836      11  ...                3         32\n",
              "74078       3365     200  ...                1         39\n",
              "\n",
              "[13073 rows x 12 columns]"
            ]
          },
          "metadata": {},
          "execution_count": 284
        }
      ]
    },
    {
      "cell_type": "code",
      "metadata": {
        "id": "KKCwGX5uCuzA",
        "colab": {
          "base_uri": "https://localhost:8080/"
        },
        "outputId": "e08af4c8-9707-4e6f-befc-ecd75ee4ebae"
      },
      "source": [
        "# Column(s) in train but not in test dataset\n",
        "df_train.columns.difference(df_test.columns)"
      ],
      "execution_count": 285,
      "outputs": [
        {
          "output_type": "execute_result",
          "data": {
            "text/plain": [
              "Index(['Cover_Type'], dtype='object')"
            ]
          },
          "metadata": {},
          "execution_count": 285
        }
      ]
    },
    {
      "cell_type": "code",
      "metadata": {
        "id": "axyMHUIVQ27h",
        "colab": {
          "base_uri": "https://localhost:8080/"
        },
        "outputId": "7b018f89-209a-498d-b740-1a86915e4e90"
      },
      "source": [
        "df_train['Cover_Type'].value_counts()"
      ],
      "execution_count": 286,
      "outputs": [
        {
          "output_type": "execute_result",
          "data": {
            "text/plain": [
              "2    29690\n",
              "1    22199\n",
              "3     3802\n",
              "7     2163\n",
              "6     1865\n",
              "5      992\n",
              "4      295\n",
              "Name: Cover_Type, dtype: int64"
            ]
          },
          "metadata": {},
          "execution_count": 286
        }
      ]
    },
    {
      "cell_type": "code",
      "metadata": {
        "id": "hcSUdsKkhyYT",
        "colab": {
          "base_uri": "https://localhost:8080/",
          "height": 190
        },
        "outputId": "c000abfb-abea-488c-a8f1-a448f70948fd"
      },
      "source": [
        "df_train.groupby('Cover_Type').boxplot(rot=90, figsize = [14,14])"
      ],
      "execution_count": 287,
      "outputs": [
        {
          "output_type": "execute_result",
          "data": {
            "text/plain": [
              "1         AxesSubplot(0.1,0.679412;0.235294x0.220588)\n",
              "2    AxesSubplot(0.382353,0.679412;0.235294x0.220588)\n",
              "3    AxesSubplot(0.664706,0.679412;0.235294x0.220588)\n",
              "4         AxesSubplot(0.1,0.414706;0.235294x0.220588)\n",
              "5    AxesSubplot(0.382353,0.414706;0.235294x0.220588)\n",
              "6    AxesSubplot(0.664706,0.414706;0.235294x0.220588)\n",
              "7             AxesSubplot(0.1,0.15;0.235294x0.220588)\n",
              "dtype: object"
            ]
          },
          "metadata": {},
          "execution_count": 287
        },
        {
          "output_type": "display_data",
          "data": {
            "image/png": "[encoded data removed]",
            "text/plain": [
              "<Figure size 1008x1008 with 9 Axes>"
            ]
          },
          "metadata": {}
        }
      ]
    },
    {
      "cell_type": "markdown",
      "metadata": {
        "id": "WzJO7c-hkUtx"
      },
      "source": [
        "There seems to be variation in the distribution of featuers for different categories of $Cover\\_Type$. This is revisited again for the constructed target variable of $Cover\\_Type == 7$."
      ]
    },
    {
      "cell_type": "code",
      "metadata": {
        "id": "ik7tMx5_c9SU",
        "colab": {
          "base_uri": "https://localhost:8080/"
        },
        "outputId": "b51667a8-e622-46f2-d6b3-1e67983de03a"
      },
      "source": [
        "#Check for missing values\n",
        "print(df_train.isnull().sum())\n",
        "print(\"\\n\")\n",
        "print(df_test.isnull().sum())"
      ],
      "execution_count": 288,
      "outputs": [
        {
          "output_type": "stream",
          "name": "stdout",
          "text": [
            "Elevation                0\n",
            "Aspect                   0\n",
            "Slope                    0\n",
            "Horiz_dist_hydro         0\n",
            "Vertical_dist_hydro      0\n",
            "Horiz_dist_roadways      0\n",
            "Hillshade_9am            0\n",
            "Hillshade_Noon           0\n",
            "Hillshade_3pm            0\n",
            "Horiz_dist_firepoints    0\n",
            "Cover_Type               0\n",
            "Wilderness_Area          0\n",
            "Soil_Type                0\n",
            "dtype: int64\n",
            "\n",
            "\n",
            "Elevation                0\n",
            "Aspect                   0\n",
            "Slope                    0\n",
            "Horiz_dist_hydro         0\n",
            "Vertical_dist_hydro      0\n",
            "Horiz_dist_roadways      0\n",
            "Hillshade_9am            0\n",
            "Hillshade_Noon           0\n",
            "Hillshade_3pm            0\n",
            "Horiz_dist_firepoints    0\n",
            "Wilderness_Area          0\n",
            "Soil_Type                0\n",
            "dtype: int64\n"
          ]
        }
      ]
    },
    {
      "cell_type": "markdown",
      "metadata": {
        "id": "1RHGC6AeabJE"
      },
      "source": [
        "# **2. Create Dummies for Relevant Features**"
      ]
    },
    {
      "cell_type": "markdown",
      "metadata": {
        "id": "3SDAQet0ad4h"
      },
      "source": [
        "Step 2: I only make dummies for \"Wilderness_Area\" (and not \"Soil_Type\") as Kaggle submissions shows this is a better fit. I presume this might be due to loss of degrees of freedom with dummies for \"Soil_Type\" as we get around 40 dummies here."
      ]
    },
    {
      "cell_type": "code",
      "metadata": {
        "id": "m8UvwHFhSB8y",
        "colab": {
          "base_uri": "https://localhost:8080/",
          "height": 410
        },
        "outputId": "09f3d23f-ba2f-4d69-aee8-bbbef6f70a80"
      },
      "source": [
        "# Step 2: Create dummies for relevant features\n",
        "df_train_dumm = pd.get_dummies(df_train, prefix=['wild_area'], columns=['Wilderness_Area'], drop_first = True)\n",
        "#data = pd.get_dummies(data, prefix=['soil_'], columns=['Soil_Type'], drop_first = True)\n",
        "df_train_dumm.head(10)"
      ],
      "execution_count": 289,
      "outputs": [
        {
          "output_type": "execute_result",
          "data": {
            "text/html": [
              "<div>\n",
              "<style scoped>\n",
              "    .dataframe tbody tr th:only-of-type {\n",
              "        vertical-align: middle;\n",
              "    }\n",
              "\n",
              "    .dataframe tbody tr th {\n",
              "        vertical-align: top;\n",
              "    }\n",
              "\n",
              "    .dataframe thead th {\n",
              "        text-align: right;\n",
              "    }\n",
              "</style>\n",
              "<table border=\"1\" class=\"dataframe\">\n",
              "  <thead>\n",
              "    <tr style=\"text-align: right;\">\n",
              "      <th></th>\n",
              "      <th>Elevation</th>\n",
              "      <th>Aspect</th>\n",
              "      <th>Slope</th>\n",
              "      <th>Horiz_dist_hydro</th>\n",
              "      <th>Vertical_dist_hydro</th>\n",
              "      <th>Horiz_dist_roadways</th>\n",
              "      <th>Hillshade_9am</th>\n",
              "      <th>Hillshade_Noon</th>\n",
              "      <th>Hillshade_3pm</th>\n",
              "      <th>Horiz_dist_firepoints</th>\n",
              "      <th>Cover_Type</th>\n",
              "      <th>Soil_Type</th>\n",
              "      <th>wild_area_2</th>\n",
              "      <th>wild_area_3</th>\n",
              "      <th>wild_area_4</th>\n",
              "    </tr>\n",
              "    <tr>\n",
              "      <th>Index</th>\n",
              "      <th></th>\n",
              "      <th></th>\n",
              "      <th></th>\n",
              "      <th></th>\n",
              "      <th></th>\n",
              "      <th></th>\n",
              "      <th></th>\n",
              "      <th></th>\n",
              "      <th></th>\n",
              "      <th></th>\n",
              "      <th></th>\n",
              "      <th></th>\n",
              "      <th></th>\n",
              "      <th></th>\n",
              "      <th></th>\n",
              "    </tr>\n",
              "  </thead>\n",
              "  <tbody>\n",
              "    <tr>\n",
              "      <th>0</th>\n",
              "      <td>3202</td>\n",
              "      <td>34</td>\n",
              "      <td>10</td>\n",
              "      <td>0</td>\n",
              "      <td>0</td>\n",
              "      <td>2760</td>\n",
              "      <td>219</td>\n",
              "      <td>218</td>\n",
              "      <td>134</td>\n",
              "      <td>1734</td>\n",
              "      <td>1</td>\n",
              "      <td>38</td>\n",
              "      <td>0</td>\n",
              "      <td>1</td>\n",
              "      <td>0</td>\n",
              "    </tr>\n",
              "    <tr>\n",
              "      <th>1</th>\n",
              "      <td>3113</td>\n",
              "      <td>251</td>\n",
              "      <td>13</td>\n",
              "      <td>192</td>\n",
              "      <td>40</td>\n",
              "      <td>5600</td>\n",
              "      <td>191</td>\n",
              "      <td>249</td>\n",
              "      <td>195</td>\n",
              "      <td>2555</td>\n",
              "      <td>2</td>\n",
              "      <td>22</td>\n",
              "      <td>0</td>\n",
              "      <td>0</td>\n",
              "      <td>0</td>\n",
              "    </tr>\n",
              "    <tr>\n",
              "      <th>2</th>\n",
              "      <td>2801</td>\n",
              "      <td>77</td>\n",
              "      <td>9</td>\n",
              "      <td>510</td>\n",
              "      <td>17</td>\n",
              "      <td>1728</td>\n",
              "      <td>232</td>\n",
              "      <td>223</td>\n",
              "      <td>122</td>\n",
              "      <td>1087</td>\n",
              "      <td>2</td>\n",
              "      <td>12</td>\n",
              "      <td>0</td>\n",
              "      <td>0</td>\n",
              "      <td>0</td>\n",
              "    </tr>\n",
              "    <tr>\n",
              "      <th>3</th>\n",
              "      <td>3165</td>\n",
              "      <td>82</td>\n",
              "      <td>9</td>\n",
              "      <td>319</td>\n",
              "      <td>56</td>\n",
              "      <td>4890</td>\n",
              "      <td>233</td>\n",
              "      <td>225</td>\n",
              "      <td>124</td>\n",
              "      <td>1452</td>\n",
              "      <td>1</td>\n",
              "      <td>29</td>\n",
              "      <td>0</td>\n",
              "      <td>0</td>\n",
              "      <td>0</td>\n",
              "    </tr>\n",
              "    <tr>\n",
              "      <th>4</th>\n",
              "      <td>3048</td>\n",
              "      <td>333</td>\n",
              "      <td>11</td>\n",
              "      <td>124</td>\n",
              "      <td>31</td>\n",
              "      <td>2823</td>\n",
              "      <td>196</td>\n",
              "      <td>226</td>\n",
              "      <td>170</td>\n",
              "      <td>666</td>\n",
              "      <td>1</td>\n",
              "      <td>23</td>\n",
              "      <td>0</td>\n",
              "      <td>0</td>\n",
              "      <td>0</td>\n",
              "    </tr>\n",
              "    <tr>\n",
              "      <th>5</th>\n",
              "      <td>2347</td>\n",
              "      <td>31</td>\n",
              "      <td>16</td>\n",
              "      <td>242</td>\n",
              "      <td>140</td>\n",
              "      <td>216</td>\n",
              "      <td>214</td>\n",
              "      <td>203</td>\n",
              "      <td>120</td>\n",
              "      <td>1425</td>\n",
              "      <td>3</td>\n",
              "      <td>2</td>\n",
              "      <td>0</td>\n",
              "      <td>0</td>\n",
              "      <td>1</td>\n",
              "    </tr>\n",
              "    <tr>\n",
              "      <th>6</th>\n",
              "      <td>3381</td>\n",
              "      <td>56</td>\n",
              "      <td>22</td>\n",
              "      <td>376</td>\n",
              "      <td>147</td>\n",
              "      <td>1919</td>\n",
              "      <td>228</td>\n",
              "      <td>187</td>\n",
              "      <td>81</td>\n",
              "      <td>2059</td>\n",
              "      <td>1</td>\n",
              "      <td>40</td>\n",
              "      <td>0</td>\n",
              "      <td>0</td>\n",
              "      <td>0</td>\n",
              "    </tr>\n",
              "    <tr>\n",
              "      <th>7</th>\n",
              "      <td>2290</td>\n",
              "      <td>86</td>\n",
              "      <td>24</td>\n",
              "      <td>30</td>\n",
              "      <td>0</td>\n",
              "      <td>1325</td>\n",
              "      <td>246</td>\n",
              "      <td>192</td>\n",
              "      <td>61</td>\n",
              "      <td>830</td>\n",
              "      <td>4</td>\n",
              "      <td>17</td>\n",
              "      <td>0</td>\n",
              "      <td>0</td>\n",
              "      <td>1</td>\n",
              "    </tr>\n",
              "    <tr>\n",
              "      <th>8</th>\n",
              "      <td>3051</td>\n",
              "      <td>75</td>\n",
              "      <td>21</td>\n",
              "      <td>150</td>\n",
              "      <td>0</td>\n",
              "      <td>1003</td>\n",
              "      <td>240</td>\n",
              "      <td>194</td>\n",
              "      <td>74</td>\n",
              "      <td>1733</td>\n",
              "      <td>1</td>\n",
              "      <td>22</td>\n",
              "      <td>0</td>\n",
              "      <td>1</td>\n",
              "      <td>0</td>\n",
              "    </tr>\n",
              "    <tr>\n",
              "      <th>9</th>\n",
              "      <td>2978</td>\n",
              "      <td>294</td>\n",
              "      <td>18</td>\n",
              "      <td>228</td>\n",
              "      <td>29</td>\n",
              "      <td>5730</td>\n",
              "      <td>167</td>\n",
              "      <td>233</td>\n",
              "      <td>205</td>\n",
              "      <td>1920</td>\n",
              "      <td>1</td>\n",
              "      <td>29</td>\n",
              "      <td>0</td>\n",
              "      <td>0</td>\n",
              "      <td>0</td>\n",
              "    </tr>\n",
              "  </tbody>\n",
              "</table>\n",
              "</div>"
            ],
            "text/plain": [
              "       Elevation  Aspect  Slope  ...  wild_area_2  wild_area_3  wild_area_4\n",
              "Index                            ...                                       \n",
              "0           3202      34     10  ...            0            1            0\n",
              "1           3113     251     13  ...            0            0            0\n",
              "2           2801      77      9  ...            0            0            0\n",
              "3           3165      82      9  ...            0            0            0\n",
              "4           3048     333     11  ...            0            0            0\n",
              "5           2347      31     16  ...            0            0            1\n",
              "6           3381      56     22  ...            0            0            0\n",
              "7           2290      86     24  ...            0            0            1\n",
              "8           3051      75     21  ...            0            1            0\n",
              "9           2978     294     18  ...            0            0            0\n",
              "\n",
              "[10 rows x 15 columns]"
            ]
          },
          "metadata": {},
          "execution_count": 289
        }
      ]
    },
    {
      "cell_type": "code",
      "metadata": {
        "id": "RNnIqVIwbOxg",
        "colab": {
          "base_uri": "https://localhost:8080/",
          "height": 410
        },
        "outputId": "d284fd0f-f582-4bd1-c330-5a2386f1863f"
      },
      "source": [
        "df_test_dumm = pd.get_dummies(df_test, prefix=['wild_area'], columns=['Wilderness_Area'], drop_first = True)\n",
        "#data_test = pd.get_dummies(data_test, prefix=['soil_'], columns=['Soil_Type'], drop_first = True)\n",
        "df_test_dumm.head(10)"
      ],
      "execution_count": 290,
      "outputs": [
        {
          "output_type": "execute_result",
          "data": {
            "text/html": [
              "<div>\n",
              "<style scoped>\n",
              "    .dataframe tbody tr th:only-of-type {\n",
              "        vertical-align: middle;\n",
              "    }\n",
              "\n",
              "    .dataframe tbody tr th {\n",
              "        vertical-align: top;\n",
              "    }\n",
              "\n",
              "    .dataframe thead th {\n",
              "        text-align: right;\n",
              "    }\n",
              "</style>\n",
              "<table border=\"1\" class=\"dataframe\">\n",
              "  <thead>\n",
              "    <tr style=\"text-align: right;\">\n",
              "      <th></th>\n",
              "      <th>Elevation</th>\n",
              "      <th>Aspect</th>\n",
              "      <th>Slope</th>\n",
              "      <th>Horiz_dist_hydro</th>\n",
              "      <th>Vertical_dist_hydro</th>\n",
              "      <th>Horiz_dist_roadways</th>\n",
              "      <th>Hillshade_9am</th>\n",
              "      <th>Hillshade_Noon</th>\n",
              "      <th>Hillshade_3pm</th>\n",
              "      <th>Horiz_dist_firepoints</th>\n",
              "      <th>Soil_Type</th>\n",
              "      <th>wild_area_2</th>\n",
              "      <th>wild_area_3</th>\n",
              "      <th>wild_area_4</th>\n",
              "    </tr>\n",
              "    <tr>\n",
              "      <th>Index</th>\n",
              "      <th></th>\n",
              "      <th></th>\n",
              "      <th></th>\n",
              "      <th></th>\n",
              "      <th></th>\n",
              "      <th></th>\n",
              "      <th></th>\n",
              "      <th></th>\n",
              "      <th></th>\n",
              "      <th></th>\n",
              "      <th></th>\n",
              "      <th></th>\n",
              "      <th></th>\n",
              "      <th></th>\n",
              "    </tr>\n",
              "  </thead>\n",
              "  <tbody>\n",
              "    <tr>\n",
              "      <th>61006</th>\n",
              "      <td>3111</td>\n",
              "      <td>72</td>\n",
              "      <td>13</td>\n",
              "      <td>283</td>\n",
              "      <td>76</td>\n",
              "      <td>630</td>\n",
              "      <td>235</td>\n",
              "      <td>214</td>\n",
              "      <td>109</td>\n",
              "      <td>499</td>\n",
              "      <td>31</td>\n",
              "      <td>0</td>\n",
              "      <td>1</td>\n",
              "      <td>0</td>\n",
              "    </tr>\n",
              "    <tr>\n",
              "      <th>61007</th>\n",
              "      <td>2768</td>\n",
              "      <td>0</td>\n",
              "      <td>20</td>\n",
              "      <td>134</td>\n",
              "      <td>26</td>\n",
              "      <td>912</td>\n",
              "      <td>186</td>\n",
              "      <td>198</td>\n",
              "      <td>146</td>\n",
              "      <td>1974</td>\n",
              "      <td>10</td>\n",
              "      <td>0</td>\n",
              "      <td>1</td>\n",
              "      <td>0</td>\n",
              "    </tr>\n",
              "    <tr>\n",
              "      <th>61008</th>\n",
              "      <td>3360</td>\n",
              "      <td>272</td>\n",
              "      <td>13</td>\n",
              "      <td>685</td>\n",
              "      <td>178</td>\n",
              "      <td>4502</td>\n",
              "      <td>185</td>\n",
              "      <td>244</td>\n",
              "      <td>198</td>\n",
              "      <td>2642</td>\n",
              "      <td>39</td>\n",
              "      <td>0</td>\n",
              "      <td>1</td>\n",
              "      <td>0</td>\n",
              "    </tr>\n",
              "    <tr>\n",
              "      <th>61009</th>\n",
              "      <td>2413</td>\n",
              "      <td>0</td>\n",
              "      <td>3</td>\n",
              "      <td>201</td>\n",
              "      <td>18</td>\n",
              "      <td>560</td>\n",
              "      <td>215</td>\n",
              "      <td>233</td>\n",
              "      <td>156</td>\n",
              "      <td>866</td>\n",
              "      <td>2</td>\n",
              "      <td>0</td>\n",
              "      <td>1</td>\n",
              "      <td>0</td>\n",
              "    </tr>\n",
              "    <tr>\n",
              "      <th>61010</th>\n",
              "      <td>2815</td>\n",
              "      <td>54</td>\n",
              "      <td>11</td>\n",
              "      <td>42</td>\n",
              "      <td>9</td>\n",
              "      <td>2313</td>\n",
              "      <td>226</td>\n",
              "      <td>217</td>\n",
              "      <td>123</td>\n",
              "      <td>2866</td>\n",
              "      <td>29</td>\n",
              "      <td>0</td>\n",
              "      <td>0</td>\n",
              "      <td>0</td>\n",
              "    </tr>\n",
              "    <tr>\n",
              "      <th>61011</th>\n",
              "      <td>2657</td>\n",
              "      <td>58</td>\n",
              "      <td>22</td>\n",
              "      <td>90</td>\n",
              "      <td>51</td>\n",
              "      <td>2521</td>\n",
              "      <td>230</td>\n",
              "      <td>187</td>\n",
              "      <td>79</td>\n",
              "      <td>2391</td>\n",
              "      <td>10</td>\n",
              "      <td>0</td>\n",
              "      <td>1</td>\n",
              "      <td>0</td>\n",
              "    </tr>\n",
              "    <tr>\n",
              "      <th>61012</th>\n",
              "      <td>2182</td>\n",
              "      <td>310</td>\n",
              "      <td>37</td>\n",
              "      <td>295</td>\n",
              "      <td>160</td>\n",
              "      <td>408</td>\n",
              "      <td>98</td>\n",
              "      <td>187</td>\n",
              "      <td>216</td>\n",
              "      <td>175</td>\n",
              "      <td>10</td>\n",
              "      <td>0</td>\n",
              "      <td>0</td>\n",
              "      <td>1</td>\n",
              "    </tr>\n",
              "    <tr>\n",
              "      <th>61013</th>\n",
              "      <td>3345</td>\n",
              "      <td>210</td>\n",
              "      <td>13</td>\n",
              "      <td>816</td>\n",
              "      <td>143</td>\n",
              "      <td>2873</td>\n",
              "      <td>209</td>\n",
              "      <td>252</td>\n",
              "      <td>176</td>\n",
              "      <td>1226</td>\n",
              "      <td>33</td>\n",
              "      <td>0</td>\n",
              "      <td>1</td>\n",
              "      <td>0</td>\n",
              "    </tr>\n",
              "    <tr>\n",
              "      <th>61014</th>\n",
              "      <td>2868</td>\n",
              "      <td>12</td>\n",
              "      <td>10</td>\n",
              "      <td>127</td>\n",
              "      <td>24</td>\n",
              "      <td>4608</td>\n",
              "      <td>210</td>\n",
              "      <td>220</td>\n",
              "      <td>146</td>\n",
              "      <td>4774</td>\n",
              "      <td>24</td>\n",
              "      <td>0</td>\n",
              "      <td>0</td>\n",
              "      <td>0</td>\n",
              "    </tr>\n",
              "    <tr>\n",
              "      <th>61015</th>\n",
              "      <td>3005</td>\n",
              "      <td>146</td>\n",
              "      <td>23</td>\n",
              "      <td>240</td>\n",
              "      <td>32</td>\n",
              "      <td>2638</td>\n",
              "      <td>244</td>\n",
              "      <td>230</td>\n",
              "      <td>101</td>\n",
              "      <td>1565</td>\n",
              "      <td>33</td>\n",
              "      <td>0</td>\n",
              "      <td>1</td>\n",
              "      <td>0</td>\n",
              "    </tr>\n",
              "  </tbody>\n",
              "</table>\n",
              "</div>"
            ],
            "text/plain": [
              "       Elevation  Aspect  Slope  ...  wild_area_2  wild_area_3  wild_area_4\n",
              "Index                            ...                                       \n",
              "61006       3111      72     13  ...            0            1            0\n",
              "61007       2768       0     20  ...            0            1            0\n",
              "61008       3360     272     13  ...            0            1            0\n",
              "61009       2413       0      3  ...            0            1            0\n",
              "61010       2815      54     11  ...            0            0            0\n",
              "61011       2657      58     22  ...            0            1            0\n",
              "61012       2182     310     37  ...            0            0            1\n",
              "61013       3345     210     13  ...            0            1            0\n",
              "61014       2868      12     10  ...            0            0            0\n",
              "61015       3005     146     23  ...            0            1            0\n",
              "\n",
              "[10 rows x 14 columns]"
            ]
          },
          "metadata": {},
          "execution_count": 290
        }
      ]
    },
    {
      "cell_type": "markdown",
      "metadata": {
        "id": "RNSV6_sjobs6"
      },
      "source": [
        "# Standardize Data"
      ]
    },
    {
      "cell_type": "markdown",
      "metadata": {
        "id": "K68eWVmEoez-"
      },
      "source": [
        "Because Logistic Regression with an L2 penalty term is used the data should be standardized in order for the penalty to be equivalent across features with different scales"
      ]
    },
    {
      "cell_type": "code",
      "metadata": {
        "id": "uGhGDo5GobDz"
      },
      "source": [
        "from sklearn import preprocessing\n",
        "\n",
        "# Instantiate scaler\n",
        "scaler = preprocessing.StandardScaler()\n",
        "\n",
        "# Divide datasets\n",
        "train_dummies = df_train_dumm[['wild_area_2', 'wild_area_3', 'wild_area_4', 'Cover_Type']]\n",
        "train_to_scl = df_train_dumm.drop(['wild_area_2', 'wild_area_3', 'wild_area_4', 'Cover_Type'], axis = 1)\n",
        "\n",
        "test_dummies = df_test_dumm[['wild_area_2', 'wild_area_3', 'wild_area_4']]\n",
        "test_to_scl = df_test_dumm.drop(['wild_area_2', 'wild_area_3', 'wild_area_4'], axis = 1)\n",
        "\n",
        "\n",
        "# Fit to training set\n",
        "scaler.fit(train_to_scl)\n",
        "\n",
        "\n",
        "###########   TRAIN DATA\n",
        "# Transform training and testing data based on values of training set (no refit to test data, just transforming):\n",
        "df_train_scl = scaler.transform(train_to_scl)\n",
        "df_train_scl = pd.DataFrame(df_train_scl, columns = train_to_scl.columns, index = train_to_scl.index)\n",
        "df_train_scl = pd.concat([df_train_scl, train_dummies], axis = 1)\n",
        "df_train_scl\n",
        "\n",
        "###########   TEST DATA\n",
        "df_test_scl = scaler.transform(test_to_scl)\n",
        "df_test_scl = pd.DataFrame(df_test_scl, columns = test_to_scl.columns, index = test_to_scl.index)\n",
        "df_test_scl = pd.concat([df_test_scl, test_dummies], axis = 1)\n",
        "df_test_scl"
      ],
      "execution_count": null,
      "outputs": []
    },
    {
      "cell_type": "markdown",
      "metadata": {
        "id": "vVF0eZS5afs_"
      },
      "source": [
        "# **3. Create Binary Class Target (class #7 is the target to predict)**"
      ]
    },
    {
      "cell_type": "code",
      "metadata": {
        "id": "ohm7mmSCSCXc",
        "colab": {
          "base_uri": "https://localhost:8080/"
        },
        "outputId": "42535681-cd2d-4fd1-cf56-f88702d62c56"
      },
      "source": [
        "# Step 3: Reformat the data to have an binary class target (class #7 is the target to predict)\n",
        "df_train_scl['Cover_Type_new'] = [1 if q == 7 else 0 for q in df_train_scl['Cover_Type'] ]\n",
        "df_train_scl = df_train_scl.drop('Cover_Type', axis = 1)\n",
        "df_train_scl['Cover_Type_new'].value_counts()"
      ],
      "execution_count": 311,
      "outputs": [
        {
          "output_type": "execute_result",
          "data": {
            "text/plain": [
              "0    58843\n",
              "1     2163\n",
              "Name: Cover_Type_new, dtype: int64"
            ]
          },
          "metadata": {},
          "execution_count": 311
        }
      ]
    },
    {
      "cell_type": "markdown",
      "metadata": {
        "id": "OCep7MbzaIUW"
      },
      "source": [
        "So we seem to have class imbalance as only roughly 3.5% are class #7"
      ]
    },
    {
      "cell_type": "code",
      "metadata": {
        "id": "_ANBMukgkn3e",
        "colab": {
          "base_uri": "https://localhost:8080/",
          "height": 490
        },
        "outputId": "c3517605-1b70-490b-b9b0-010605b2da0e"
      },
      "source": [
        "# Revisit distribution of features for binary target\n",
        "df_train_scl.groupby('Cover_Type_new').boxplot(rot=90, figsize = [14,5])"
      ],
      "execution_count": 312,
      "outputs": [
        {
          "output_type": "execute_result",
          "data": {
            "text/plain": [
              "0         AxesSubplot(0.1,0.15;0.363636x0.75)\n",
              "1    AxesSubplot(0.536364,0.15;0.363636x0.75)\n",
              "dtype: object"
            ]
          },
          "metadata": {},
          "execution_count": 312
        },
        {
          "output_type": "display_data",
          "data": {
            "image/png": "[encoded data removed]",
            "text/plain": [
              "<Figure size 1008x360 with 2 Axes>"
            ]
          },
          "metadata": {}
        }
      ]
    },
    {
      "cell_type": "markdown",
      "metadata": {
        "id": "d8qM_aDGk8rD"
      },
      "source": [
        "Means appear to similarly distributed for both $Cover\\_Type==7$ and $Cover\\_Type \\neq 7$. (Not so surprising, now that everything is standardized.)"
      ]
    },
    {
      "cell_type": "markdown",
      "metadata": {
        "id": "UswEq4-qah_q"
      },
      "source": [
        "# **4. Baseline Logistic Regression**"
      ]
    },
    {
      "cell_type": "markdown",
      "metadata": {
        "id": "kQHnxxLkpomv"
      },
      "source": [
        "## 4.1. Fit Logistic Model to Predict Class #7"
      ]
    },
    {
      "cell_type": "code",
      "metadata": {
        "id": "T0rs7MXkSd-1"
      },
      "source": [
        "# Step 4: Build a binary model to predict class #7\n",
        "F = df_train_scl.drop('Cover_Type_new', axis = 1)\n",
        "y = df_train_scl['Cover_Type_new']\n",
        "\n",
        "# To report stats\n",
        "feature_names = F.columns\n",
        "class_labels = ['Not Krummholz', 'Krummholz']"
      ],
      "execution_count": 317,
      "outputs": []
    },
    {
      "cell_type": "code",
      "metadata": {
        "id": "MrskYt9vTIJv",
        "colab": {
          "base_uri": "https://localhost:8080/"
        },
        "outputId": "98aa61b9-883b-4f4b-de89-0024345a7f5c"
      },
      "source": [
        "#Instantiate logistic regression\n",
        "logit_base = LogisticRegression(penalty='l2', C=100.0, \n",
        "                           fit_intercept=True, \n",
        "                           solver='liblinear', max_iter=500)\n",
        "\n",
        "#Fit\n",
        "logit_base.fit(F,y)\n",
        "\n",
        "#Predicted classes\n",
        "p_hat = logit_base.predict(F)\n",
        "\n",
        "#Predicted probabilities\n",
        "p_hat_proba = logit_base.predict_proba(F)\n",
        "p_hat_proba = p_hat_proba[:,1]\n",
        "print(p_hat_proba)"
      ],
      "execution_count": 329,
      "outputs": [
        {
          "output_type": "stream",
          "name": "stdout",
          "text": [
            "[0.32 0.00 0.00 ... 0.01 0.00 0.00]\n"
          ]
        }
      ]
    },
    {
      "cell_type": "markdown",
      "metadata": {
        "id": "DsB3jeooaj7a"
      },
      "source": [
        "## 4.2. Accuracy Assessment (in-sample)"
      ]
    },
    {
      "cell_type": "markdown",
      "metadata": {
        "id": "bRq8faGzxjyw"
      },
      "source": [
        "### 4.2.1. AUC Metric and Plot"
      ]
    },
    {
      "cell_type": "code",
      "metadata": {
        "id": "S7K_peLdTp5U",
        "colab": {
          "base_uri": "https://localhost:8080/"
        },
        "outputId": "cdd0b3c6-3911-4405-bdc7-5a3e701d80bf"
      },
      "source": [
        "# AUC metric\n",
        "\n",
        "fpr, tpr, thresholds = metrics.roc_curve(y, p_hat_proba)\n",
        "roc_auc = metrics.auc(fpr, tpr)\n",
        "print(roc_auc)"
      ],
      "execution_count": 319,
      "outputs": [
        {
          "output_type": "stream",
          "name": "stdout",
          "text": [
            "0.9675222018386623\n"
          ]
        }
      ]
    },
    {
      "cell_type": "code",
      "metadata": {
        "id": "n4xrx5WEWofw",
        "colab": {
          "base_uri": "https://localhost:8080/",
          "height": 518
        },
        "outputId": "20413e44-1620-4664-ca75-7c7ab36a3577"
      },
      "source": [
        "#AUC/ROC plot\n",
        "\n",
        "#Create plot\n",
        "plt.plot(fpr, tpr, label='ROC curve (area = %0.3f)' % roc_auc)\n",
        "\n",
        "# Refining plot\n",
        "plt.plot([0, 1], [0, 1], 'k--') \n",
        "plt.title('Receiver Operating Characteristic')\n",
        "plt.xlabel('False Positive Rate or (1 - Specifity)')\n",
        "plt.ylabel('True Positive Rate or (Sensitivity)')\n",
        "plt.legend(loc=\"lower right\")\n",
        "\n",
        "# figure size\n",
        "fig = plt.gcf()\n",
        "fig.set_size_inches(14, 8)\n",
        "plt.show()\n",
        "\n",
        "#Inspect figure\n",
        "plt.show()"
      ],
      "execution_count": 320,
      "outputs": [
        {
          "output_type": "display_data",
          "data": {
            "image/png": "[encoded data removed]",
            "text/plain": [
              "<Figure size 1008x576 with 1 Axes>"
            ]
          },
          "metadata": {}
        }
      ]
    },
    {
      "cell_type": "markdown",
      "metadata": {
        "id": "LA3-WLO0aD8o"
      },
      "source": [
        "The curve looks pretty nice."
      ]
    },
    {
      "cell_type": "markdown",
      "metadata": {
        "id": "jyZui2S6xp7V"
      },
      "source": [
        "### 4.2.2. Confusion Matrix"
      ]
    },
    {
      "cell_type": "code",
      "metadata": {
        "colab": {
          "base_uri": "https://localhost:8080/",
          "height": 285
        },
        "id": "GnETXrp9yjxW",
        "outputId": "83a0fa1c-3f6f-4cae-98e8-69b87f0a47aa"
      },
      "source": [
        "# Plot confusion matrix\n",
        "cm2 = confusion_matrix(y_pred=p_hat, y_true=y, labels=[0,1] )\n",
        "plot_confusion_matrix(cm2, class_labels) "
      ],
      "execution_count": 321,
      "outputs": [
        {
          "output_type": "display_data",
          "data": {
            "image/png": "[encoded data removed]",
            "text/plain": [
              "<Figure size 432x288 with 2 Axes>"
            ]
          },
          "metadata": {}
        }
      ]
    },
    {
      "cell_type": "markdown",
      "metadata": {
        "id": "wExPQGpEalz0"
      },
      "source": [
        "### 4.2.3 Feature Impact"
      ]
    },
    {
      "cell_type": "code",
      "metadata": {
        "id": "7Sz5pcrbXAv5",
        "colab": {
          "base_uri": "https://localhost:8080/"
        },
        "outputId": "1abca545-0a6c-454c-857d-67dbc60dc327"
      },
      "source": [
        "# Step 6: Report variable impact\n",
        "print(abs(logit_base.coef_))"
      ],
      "execution_count": 332,
      "outputs": [
        {
          "output_type": "stream",
          "name": "stdout",
          "text": [
            "[[4.05 0.08 0.32 0.43 0.19 0.00 0.30 0.09 0.82 0.39 1.66 0.27 1.77 1.29]]\n"
          ]
        }
      ]
    },
    {
      "cell_type": "markdown",
      "metadata": {
        "id": "XBDBbVSK0DqD"
      },
      "source": [
        "Note to self: See also [https://sefiks.com/2021/01/06/feature-importance-in-logistic-regression/](https://sefiks.com/2021/01/06/feature-importance-in-logistic-regression/) for one way of calculating feature importance for logistic regression."
      ]
    },
    {
      "cell_type": "markdown",
      "metadata": {
        "id": "3RQo363LxbPk"
      },
      "source": [
        "## 4.3 Accuracy Assessment (out-of-sample)"
      ]
    },
    {
      "cell_type": "markdown",
      "metadata": {
        "id": "Tty5xZ_ixIC_"
      },
      "source": [
        "### 4.3.1. Cross-Validated AUC Metric and Plot"
      ]
    },
    {
      "cell_type": "code",
      "metadata": {
        "colab": {
          "base_uri": "https://localhost:8080/"
        },
        "id": "BB1wwrFtruPY",
        "outputId": "88c93072-79e1-44b1-b8df-e5fe96b29584"
      },
      "source": [
        "# Note to self: 'cvp' is alias for sklearn.model_selection.cross_val_predict\n",
        "y_hat_cv_proba = cvp(logit_base, F, y, cv=100, method='predict_proba') #Runtime = 1 min 53s\n",
        "print(y_hat_cv_proba)"
      ],
      "execution_count": 264,
      "outputs": [
        {
          "output_type": "stream",
          "name": "stdout",
          "text": [
            "[[0.69 0.31]\n",
            " [1.00 0.00]\n",
            " [1.00 0.00]\n",
            " ...\n",
            " [0.99 0.01]\n",
            " [1.00 0.00]\n",
            " [1.00 0.00]]\n"
          ]
        }
      ]
    },
    {
      "cell_type": "code",
      "metadata": {
        "colab": {
          "base_uri": "https://localhost:8080/"
        },
        "id": "dOWWpMJax166",
        "outputId": "b7726ef4-f0b6-46f5-d0f2-4e969ad51b14"
      },
      "source": [
        "# Cross-validated AUC metric\n",
        "y_hat_cv_proba_preds = y_hat_cv_proba[:,1]\n",
        "\n",
        "fpr_cv, tpr_cv, thresholds_cv = metrics.roc_curve(y, y_hat_cv_proba_preds)\n",
        "roc_auc_cv = metrics.auc(fpr_cv, tpr_cv)\n",
        "print(roc_auc_cv)"
      ],
      "execution_count": 265,
      "outputs": [
        {
          "output_type": "stream",
          "name": "stdout",
          "text": [
            "0.9618800929550663\n"
          ]
        }
      ]
    },
    {
      "cell_type": "markdown",
      "metadata": {
        "id": "SuwpFtt9zBKH"
      },
      "source": [
        "Difference between cross-validated and not-cross-validated AUC scores are not very different from each other."
      ]
    },
    {
      "cell_type": "code",
      "metadata": {
        "colab": {
          "base_uri": "https://localhost:8080/",
          "height": 301
        },
        "id": "-SUxsI0SyRAK",
        "outputId": "8feccd3a-888a-48d0-df48-eab5530b1336"
      },
      "source": [
        "#Cross-validated AUC/ROC plot\n",
        "\n",
        "#Create plot\n",
        "plt.plot(fpr_cv, tpr_cv, label='CV ROC curve (area = %0.3f)' % roc_auc_cv)\n",
        "\n",
        "# Refining plot\n",
        "plt.plot([0, 1], [0, 1], 'k--') \n",
        "plt.title('Cross-Validated Receiver Operating Characteristic')\n",
        "plt.xlabel('False Positive Rate or (1 - Specifity)')\n",
        "plt.ylabel('True Positive Rate or (Sensitivity)')\n",
        "plt.legend(loc=\"lower right\")\n",
        "\n",
        "# figure size\n",
        "fig = plt.gcf()\n",
        "fig.set_size_inches(7, 4)\n",
        "plt.show()\n",
        "\n",
        "#Inspect figure\n",
        "plt.show()"
      ],
      "execution_count": 266,
      "outputs": [
        {
          "output_type": "display_data",
          "data": {
            "image/png": "[encoded data removed]",
            "text/plain": [
              "<Figure size 504x288 with 1 Axes>"
            ]
          },
          "metadata": {}
        }
      ]
    },
    {
      "cell_type": "markdown",
      "metadata": {
        "id": "vjf6V0PNxDtm"
      },
      "source": [
        "### 4.3.1. Cross-Validated Confusion Matrix"
      ]
    },
    {
      "cell_type": "code",
      "metadata": {
        "id": "bu-c_vNEw6hX"
      },
      "source": [
        "y_hat_cv = cvp(logit_base, F, y, cv=100) #Runtime = 1 min 47s"
      ],
      "execution_count": 333,
      "outputs": []
    },
    {
      "cell_type": "code",
      "metadata": {
        "colab": {
          "base_uri": "https://localhost:8080/",
          "height": 285
        },
        "id": "r_UzHl45tSzL",
        "outputId": "10bac779-70b0-4dbe-be54-abdabc2967d9"
      },
      "source": [
        "# Plot confusion matrix\n",
        "cm1 = confusion_matrix(y_pred=y_hat_cv, y_true=y, labels=[0,1] )\n",
        "plot_confusion_matrix(cm1, class_labels) "
      ],
      "execution_count": 268,
      "outputs": [
        {
          "output_type": "display_data",
          "data": {
            "image/png": "[encoded data removed]",
            "text/plain": [
              "<Figure size 432x288 with 2 Axes>"
            ]
          },
          "metadata": {}
        }
      ]
    },
    {
      "cell_type": "markdown",
      "metadata": {
        "id": "812jE3iMzJjP"
      },
      "source": [
        "Difference between cross-validated confusion matrix and not-cross-validated confusion matrix are not very different from each other."
      ]
    },
    {
      "cell_type": "markdown",
      "metadata": {
        "id": "ycldPLqeqtsg"
      },
      "source": [
        "# **5. Logistic Regression with Class Imbalance**"
      ]
    },
    {
      "cell_type": "markdown",
      "metadata": {
        "id": "kxWVwZRkRyUU"
      },
      "source": [
        "## 5.1. Fit Logistic Model with Oversampled Data"
      ]
    },
    {
      "cell_type": "code",
      "metadata": {
        "id": "26lTb-Hrq1Nl"
      },
      "source": [
        "from imblearn.over_sampling import RandomOverSampler\n",
        "\n",
        "ros = RandomOverSampler(random_state=0)"
      ],
      "execution_count": 336,
      "outputs": []
    },
    {
      "cell_type": "code",
      "metadata": {
        "id": "nBB5jmcLEDC1"
      },
      "source": [
        "F_resampled, y_resampled = ros.fit_resample(F, y)"
      ],
      "execution_count": 337,
      "outputs": []
    },
    {
      "cell_type": "code",
      "metadata": {
        "colab": {
          "base_uri": "https://localhost:8080/"
        },
        "id": "BgDkccsuFd2z",
        "outputId": "eeb30e54-0baf-4b92-f4d2-b3e6a856b162"
      },
      "source": [
        "#Instantiate logistic regression on resampled data\n",
        "logit_imb = LogisticRegression(C=100, \n",
        "                                     solver='liblinear')\n",
        "\n",
        "# Fit\n",
        "logit_imb.fit(F_resampled,y_resampled)\n",
        "\n",
        "# Predict classes\n",
        "p_hat_imb = logit_imb.predict(F)\n",
        "\n",
        "#Predicted probabilities\n",
        "p_hat_imb_proba = logit_imb.predict_proba(F)\n",
        "p_hat_imb_proba = p_hat_imb_proba[:,1]\n",
        "print(p_hat_imb_proba)"
      ],
      "execution_count": 338,
      "outputs": [
        {
          "output_type": "stream",
          "name": "stdout",
          "text": [
            "[0.73 0.03 0.00 ... 0.04 0.00 0.00]\n"
          ]
        }
      ]
    },
    {
      "cell_type": "code",
      "metadata": {
        "id": "eXIBvxPQGmKg"
      },
      "source": [
        "# Add predicted probabilities to original dataset (as in Jack's notebook)\n",
        "df_train_dumm[\"pred_prob\"] = p_hat_proba\n",
        "df_train_dumm[\"pred_prob_imb\"] = p_hat_imb_proba"
      ],
      "execution_count": 341,
      "outputs": []
    },
    {
      "cell_type": "code",
      "metadata": {
        "colab": {
          "base_uri": "https://localhost:8080/",
          "height": 640
        },
        "id": "GyHMxSsYKOq_",
        "outputId": "2268e8d2-f84f-4337-db81-371600878d91"
      },
      "source": [
        "# Set parameters for correction function\n",
        "q1 = y.sum()/len(y)\n",
        "r1 = y_resampled.sum()/len(y_resampled)\n",
        "\n",
        "# correcting ''imb'' predictions for biased sample\n",
        "df_train_dumm[\"pred_prob_imb_corr\"] = df_train_dumm[\"pred_prob_imb\"].apply(reweight,args=(q1,r1))\n",
        "df_train_dumm"
      ],
      "execution_count": 342,
      "outputs": [
        {
          "output_type": "execute_result",
          "data": {
            "text/html": [
              "<div>\n",
              "<style scoped>\n",
              "    .dataframe tbody tr th:only-of-type {\n",
              "        vertical-align: middle;\n",
              "    }\n",
              "\n",
              "    .dataframe tbody tr th {\n",
              "        vertical-align: top;\n",
              "    }\n",
              "\n",
              "    .dataframe thead th {\n",
              "        text-align: right;\n",
              "    }\n",
              "</style>\n",
              "<table border=\"1\" class=\"dataframe\">\n",
              "  <thead>\n",
              "    <tr style=\"text-align: right;\">\n",
              "      <th></th>\n",
              "      <th>Elevation</th>\n",
              "      <th>Aspect</th>\n",
              "      <th>Slope</th>\n",
              "      <th>Horiz_dist_hydro</th>\n",
              "      <th>Vertical_dist_hydro</th>\n",
              "      <th>Horiz_dist_roadways</th>\n",
              "      <th>Hillshade_9am</th>\n",
              "      <th>Hillshade_Noon</th>\n",
              "      <th>Hillshade_3pm</th>\n",
              "      <th>Horiz_dist_firepoints</th>\n",
              "      <th>Cover_Type</th>\n",
              "      <th>Soil_Type</th>\n",
              "      <th>wild_area_2</th>\n",
              "      <th>wild_area_3</th>\n",
              "      <th>wild_area_4</th>\n",
              "      <th>pred_prob</th>\n",
              "      <th>pred_prob_imb</th>\n",
              "      <th>pred_prob_imb_corr</th>\n",
              "    </tr>\n",
              "    <tr>\n",
              "      <th>Index</th>\n",
              "      <th></th>\n",
              "      <th></th>\n",
              "      <th></th>\n",
              "      <th></th>\n",
              "      <th></th>\n",
              "      <th></th>\n",
              "      <th></th>\n",
              "      <th></th>\n",
              "      <th></th>\n",
              "      <th></th>\n",
              "      <th></th>\n",
              "      <th></th>\n",
              "      <th></th>\n",
              "      <th></th>\n",
              "      <th></th>\n",
              "      <th></th>\n",
              "      <th></th>\n",
              "      <th></th>\n",
              "    </tr>\n",
              "  </thead>\n",
              "  <tbody>\n",
              "    <tr>\n",
              "      <th>0</th>\n",
              "      <td>3202</td>\n",
              "      <td>34</td>\n",
              "      <td>10</td>\n",
              "      <td>0</td>\n",
              "      <td>0</td>\n",
              "      <td>2760</td>\n",
              "      <td>219</td>\n",
              "      <td>218</td>\n",
              "      <td>134</td>\n",
              "      <td>1734</td>\n",
              "      <td>1</td>\n",
              "      <td>38</td>\n",
              "      <td>0</td>\n",
              "      <td>1</td>\n",
              "      <td>0</td>\n",
              "      <td>3.160348e-01</td>\n",
              "      <td>7.297058e-01</td>\n",
              "      <td>9.027790e-02</td>\n",
              "    </tr>\n",
              "    <tr>\n",
              "      <th>1</th>\n",
              "      <td>3113</td>\n",
              "      <td>251</td>\n",
              "      <td>13</td>\n",
              "      <td>192</td>\n",
              "      <td>40</td>\n",
              "      <td>5600</td>\n",
              "      <td>191</td>\n",
              "      <td>249</td>\n",
              "      <td>195</td>\n",
              "      <td>2555</td>\n",
              "      <td>2</td>\n",
              "      <td>22</td>\n",
              "      <td>0</td>\n",
              "      <td>0</td>\n",
              "      <td>0</td>\n",
              "      <td>4.411054e-04</td>\n",
              "      <td>2.674143e-02</td>\n",
              "      <td>1.008973e-03</td>\n",
              "    </tr>\n",
              "    <tr>\n",
              "      <th>2</th>\n",
              "      <td>2801</td>\n",
              "      <td>77</td>\n",
              "      <td>9</td>\n",
              "      <td>510</td>\n",
              "      <td>17</td>\n",
              "      <td>1728</td>\n",
              "      <td>232</td>\n",
              "      <td>223</td>\n",
              "      <td>122</td>\n",
              "      <td>1087</td>\n",
              "      <td>2</td>\n",
              "      <td>12</td>\n",
              "      <td>0</td>\n",
              "      <td>0</td>\n",
              "      <td>0</td>\n",
              "      <td>8.990724e-07</td>\n",
              "      <td>3.869049e-05</td>\n",
              "      <td>1.422270e-06</td>\n",
              "    </tr>\n",
              "    <tr>\n",
              "      <th>3</th>\n",
              "      <td>3165</td>\n",
              "      <td>82</td>\n",
              "      <td>9</td>\n",
              "      <td>319</td>\n",
              "      <td>56</td>\n",
              "      <td>4890</td>\n",
              "      <td>233</td>\n",
              "      <td>225</td>\n",
              "      <td>124</td>\n",
              "      <td>1452</td>\n",
              "      <td>1</td>\n",
              "      <td>29</td>\n",
              "      <td>0</td>\n",
              "      <td>0</td>\n",
              "      <td>0</td>\n",
              "      <td>4.535317e-03</td>\n",
              "      <td>1.472167e-01</td>\n",
              "      <td>6.305695e-03</td>\n",
              "    </tr>\n",
              "    <tr>\n",
              "      <th>4</th>\n",
              "      <td>3048</td>\n",
              "      <td>333</td>\n",
              "      <td>11</td>\n",
              "      <td>124</td>\n",
              "      <td>31</td>\n",
              "      <td>2823</td>\n",
              "      <td>196</td>\n",
              "      <td>226</td>\n",
              "      <td>170</td>\n",
              "      <td>666</td>\n",
              "      <td>1</td>\n",
              "      <td>23</td>\n",
              "      <td>0</td>\n",
              "      <td>0</td>\n",
              "      <td>0</td>\n",
              "      <td>2.331265e-04</td>\n",
              "      <td>9.866082e-03</td>\n",
              "      <td>3.661453e-04</td>\n",
              "    </tr>\n",
              "    <tr>\n",
              "      <th>...</th>\n",
              "      <td>...</td>\n",
              "      <td>...</td>\n",
              "      <td>...</td>\n",
              "      <td>...</td>\n",
              "      <td>...</td>\n",
              "      <td>...</td>\n",
              "      <td>...</td>\n",
              "      <td>...</td>\n",
              "      <td>...</td>\n",
              "      <td>...</td>\n",
              "      <td>...</td>\n",
              "      <td>...</td>\n",
              "      <td>...</td>\n",
              "      <td>...</td>\n",
              "      <td>...</td>\n",
              "      <td>...</td>\n",
              "      <td>...</td>\n",
              "      <td>...</td>\n",
              "    </tr>\n",
              "    <tr>\n",
              "      <th>61001</th>\n",
              "      <td>3255</td>\n",
              "      <td>1</td>\n",
              "      <td>13</td>\n",
              "      <td>0</td>\n",
              "      <td>0</td>\n",
              "      <td>1552</td>\n",
              "      <td>201</td>\n",
              "      <td>215</td>\n",
              "      <td>151</td>\n",
              "      <td>713</td>\n",
              "      <td>1</td>\n",
              "      <td>38</td>\n",
              "      <td>0</td>\n",
              "      <td>0</td>\n",
              "      <td>0</td>\n",
              "      <td>8.235428e-02</td>\n",
              "      <td>7.857036e-01</td>\n",
              "      <td>1.187671e-01</td>\n",
              "    </tr>\n",
              "    <tr>\n",
              "      <th>61002</th>\n",
              "      <td>3170</td>\n",
              "      <td>170</td>\n",
              "      <td>25</td>\n",
              "      <td>417</td>\n",
              "      <td>61</td>\n",
              "      <td>2605</td>\n",
              "      <td>229</td>\n",
              "      <td>241</td>\n",
              "      <td>128</td>\n",
              "      <td>3350</td>\n",
              "      <td>2</td>\n",
              "      <td>33</td>\n",
              "      <td>0</td>\n",
              "      <td>1</td>\n",
              "      <td>0</td>\n",
              "      <td>4.320457e-02</td>\n",
              "      <td>4.715834e-01</td>\n",
              "      <td>3.176327e-02</td>\n",
              "    </tr>\n",
              "    <tr>\n",
              "      <th>61003</th>\n",
              "      <td>2994</td>\n",
              "      <td>170</td>\n",
              "      <td>13</td>\n",
              "      <td>134</td>\n",
              "      <td>18</td>\n",
              "      <td>1610</td>\n",
              "      <td>229</td>\n",
              "      <td>245</td>\n",
              "      <td>146</td>\n",
              "      <td>2394</td>\n",
              "      <td>2</td>\n",
              "      <td>33</td>\n",
              "      <td>0</td>\n",
              "      <td>1</td>\n",
              "      <td>0</td>\n",
              "      <td>6.360108e-03</td>\n",
              "      <td>3.663548e-02</td>\n",
              "      <td>1.395939e-03</td>\n",
              "    </tr>\n",
              "    <tr>\n",
              "      <th>61004</th>\n",
              "      <td>2543</td>\n",
              "      <td>135</td>\n",
              "      <td>4</td>\n",
              "      <td>124</td>\n",
              "      <td>17</td>\n",
              "      <td>524</td>\n",
              "      <td>227</td>\n",
              "      <td>238</td>\n",
              "      <td>145</td>\n",
              "      <td>1106</td>\n",
              "      <td>3</td>\n",
              "      <td>6</td>\n",
              "      <td>0</td>\n",
              "      <td>0</td>\n",
              "      <td>1</td>\n",
              "      <td>5.490103e-08</td>\n",
              "      <td>4.897988e-07</td>\n",
              "      <td>1.800444e-08</td>\n",
              "    </tr>\n",
              "    <tr>\n",
              "      <th>61005</th>\n",
              "      <td>2661</td>\n",
              "      <td>213</td>\n",
              "      <td>19</td>\n",
              "      <td>150</td>\n",
              "      <td>-2</td>\n",
              "      <td>2430</td>\n",
              "      <td>199</td>\n",
              "      <td>254</td>\n",
              "      <td>185</td>\n",
              "      <td>1891</td>\n",
              "      <td>2</td>\n",
              "      <td>10</td>\n",
              "      <td>0</td>\n",
              "      <td>1</td>\n",
              "      <td>0</td>\n",
              "      <td>4.275052e-07</td>\n",
              "      <td>5.714172e-06</td>\n",
              "      <td>2.100475e-07</td>\n",
              "    </tr>\n",
              "  </tbody>\n",
              "</table>\n",
              "<p>61006 rows × 18 columns</p>\n",
              "</div>"
            ],
            "text/plain": [
              "       Elevation  Aspect  ...  pred_prob_imb  pred_prob_imb_corr\n",
              "Index                     ...                                   \n",
              "0           3202      34  ...   7.297058e-01        9.027790e-02\n",
              "1           3113     251  ...   2.674143e-02        1.008973e-03\n",
              "2           2801      77  ...   3.869049e-05        1.422270e-06\n",
              "3           3165      82  ...   1.472167e-01        6.305695e-03\n",
              "4           3048     333  ...   9.866082e-03        3.661453e-04\n",
              "...          ...     ...  ...            ...                 ...\n",
              "61001       3255       1  ...   7.857036e-01        1.187671e-01\n",
              "61002       3170     170  ...   4.715834e-01        3.176327e-02\n",
              "61003       2994     170  ...   3.663548e-02        1.395939e-03\n",
              "61004       2543     135  ...   4.897988e-07        1.800444e-08\n",
              "61005       2661     213  ...   5.714172e-06        2.100475e-07\n",
              "\n",
              "[61006 rows x 18 columns]"
            ]
          },
          "metadata": {},
          "execution_count": 342
        }
      ]
    },
    {
      "cell_type": "markdown",
      "metadata": {
        "id": "nWC3H6kBRkeR"
      },
      "source": [
        "## 5.2. Accuracy Assessment for Model with Class Imbalance (in-sample) "
      ]
    },
    {
      "cell_type": "code",
      "metadata": {
        "colab": {
          "base_uri": "https://localhost:8080/"
        },
        "id": "nq9alyFYRj9j",
        "outputId": "e756c588-5151-45c5-d8b8-b6d39ae9fdd3"
      },
      "source": [
        "# AUC metric\n",
        "\n",
        "fpr_imb, tpr_imb, thresholds_imb = metrics.roc_curve(y, df_train_dumm[\"pred_prob_imb_corr\"])\n",
        "roc_auc_imb = metrics.auc(fpr_imb, tpr_imb)\n",
        "print(roc_auc_imb)"
      ],
      "execution_count": 343,
      "outputs": [
        {
          "output_type": "stream",
          "name": "stdout",
          "text": [
            "0.9699318439142646\n"
          ]
        }
      ]
    },
    {
      "cell_type": "code",
      "metadata": {
        "colab": {
          "base_uri": "https://localhost:8080/",
          "height": 301
        },
        "id": "kGcRqW7iVy4_",
        "outputId": "33822166-10a9-4715-e7ab-d9c98234a887"
      },
      "source": [
        "#AUC/ROC plot\n",
        "\n",
        "#Create plot\n",
        "plt.plot(fpr_imb, tpr_imb, label='ROC curve (area = %0.3f)' % roc_auc_imb)\n",
        "\n",
        "# Refining plot\n",
        "plt.plot([0, 1], [0, 1], 'k--') \n",
        "plt.title('Receiver Operating Characteristic')\n",
        "plt.xlabel('False Positive Rate or (1 - Specifity)')\n",
        "plt.ylabel('True Positive Rate or (Sensitivity)')\n",
        "plt.legend(loc=\"lower right\")\n",
        "\n",
        "# figure size\n",
        "fig = plt.gcf()\n",
        "fig.set_size_inches(7, 4)\n",
        "plt.show()\n",
        "\n",
        "#Inspect figure\n",
        "plt.show()"
      ],
      "execution_count": 344,
      "outputs": [
        {
          "output_type": "display_data",
          "data": {
            "image/png": "[encoded data removed]",
            "text/plain": [
              "<Figure size 504x288 with 1 Axes>"
            ]
          },
          "metadata": {}
        }
      ]
    },
    {
      "cell_type": "markdown",
      "metadata": {
        "id": "5FjZv3VgW2rd"
      },
      "source": [
        "## 5.3. Accuracy Assessment for Model with Class Imbalance (out-of-sample) "
      ]
    },
    {
      "cell_type": "code",
      "metadata": {
        "colab": {
          "base_uri": "https://localhost:8080/"
        },
        "id": "xBB5y-BdW4e3",
        "outputId": "5588e934-33b1-49b3-9b07-8c4ea20cbe2d"
      },
      "source": [
        "# Note to self: 'cvp' is alias for sklearn.model_selection.cross_val_predict\n",
        "y_hat_imb_cv_proba = cvp(logit_imb, F, y, cv=100, method='predict_proba') #Runtime = 2m 1s\n",
        "print(y_hat_imb_cv_proba)"
      ],
      "execution_count": 345,
      "outputs": [
        {
          "output_type": "stream",
          "name": "stdout",
          "text": [
            "[[0.68 0.32]\n",
            " [1.00 0.00]\n",
            " [1.00 0.00]\n",
            " ...\n",
            " [0.99 0.01]\n",
            " [1.00 0.00]\n",
            " [1.00 0.00]]\n"
          ]
        }
      ]
    },
    {
      "cell_type": "code",
      "metadata": {
        "colab": {
          "base_uri": "https://localhost:8080/"
        },
        "id": "rOH5_wMCW9r4",
        "outputId": "57e08252-a10c-4c8d-9f2b-bb2eb9011dc2"
      },
      "source": [
        "# Cross-validated AUC metric\n",
        "y_hat_imb_cv_proba_preds = y_hat_imb_cv_proba[:,1]\n",
        "\n",
        "fpr_imb_cv, tpr_imb_cv, thresholds_imb_cv = metrics.roc_curve(y, y_hat_imb_cv_proba_preds)\n",
        "roc_auc_imb_cv = metrics.auc(fpr_imb_cv, tpr_imb_cv)\n",
        "print(roc_auc_imb_cv)"
      ],
      "execution_count": 346,
      "outputs": [
        {
          "output_type": "stream",
          "name": "stdout",
          "text": [
            "0.9672877218925788\n"
          ]
        }
      ]
    },
    {
      "cell_type": "markdown",
      "metadata": {
        "id": "5g9jsQ6Jq4GO"
      },
      "source": [
        "# 6. Multiclass Classification Model"
      ]
    },
    {
      "cell_type": "code",
      "metadata": {
        "id": "6xtsqGTsrB4v"
      },
      "source": [
        ""
      ],
      "execution_count": 193,
      "outputs": []
    },
    {
      "cell_type": "markdown",
      "metadata": {
        "id": "DJxAsKnpO6di"
      },
      "source": [
        "# Kaggle Predictions Submissions "
      ]
    },
    {
      "cell_type": "markdown",
      "metadata": {
        "id": "zEn5m8t_qzAK"
      },
      "source": [
        "Once you have produced testset predictions you can submit these to <i> kaggle </i> in order to see how your model performs. \n",
        "\n",
        "The following code provides an example of generating a <i> .csv </i> file to submit to kaggle\n",
        "1) create a pandas dataframe with two columns, one with the test set \"Index\"'s and the other with your probability of the \"Covert_Type\" being class 7\n",
        "\n",
        "2) use the <i> .to_csv </i> pandas method to create a csv file. The <i> index = False </i> is important to ensure the <i> .csv </i> is in the format kaggle expects"
      ]
    },
    {
      "cell_type": "code",
      "metadata": {
        "colab": {
          "base_uri": "https://localhost:8080/",
          "height": 450
        },
        "id": "3ZDka-tEMpBK",
        "outputId": "e054abb9-2547-4e8a-f03e-b58cd020b0b3"
      },
      "source": [
        "# Dataframe for submission w. imb. predictions\n",
        "p_hat_imb_proba_test = logit_imb.predict_proba(df_test_scl)\n",
        "p_hat_imb_proba_test = p_hat_imb_proba_test[:,1]\n",
        "\n",
        "kaggle = pd.DataFrame(p_hat_imb_proba_test, index = df_test_scl.index).rename(columns={0: \"p_hat_imb_proba_test\"})\n",
        "kaggle "
      ],
      "execution_count": 350,
      "outputs": [
        {
          "output_type": "execute_result",
          "data": {
            "text/html": [
              "<div>\n",
              "<style scoped>\n",
              "    .dataframe tbody tr th:only-of-type {\n",
              "        vertical-align: middle;\n",
              "    }\n",
              "\n",
              "    .dataframe tbody tr th {\n",
              "        vertical-align: top;\n",
              "    }\n",
              "\n",
              "    .dataframe thead th {\n",
              "        text-align: right;\n",
              "    }\n",
              "</style>\n",
              "<table border=\"1\" class=\"dataframe\">\n",
              "  <thead>\n",
              "    <tr style=\"text-align: right;\">\n",
              "      <th></th>\n",
              "      <th>p_hat_imb_proba_test</th>\n",
              "    </tr>\n",
              "    <tr>\n",
              "      <th>Index</th>\n",
              "      <th></th>\n",
              "    </tr>\n",
              "  </thead>\n",
              "  <tbody>\n",
              "    <tr>\n",
              "      <th>61006</th>\n",
              "      <td>1.783509e-01</td>\n",
              "    </tr>\n",
              "    <tr>\n",
              "      <th>61007</th>\n",
              "      <td>6.689553e-05</td>\n",
              "    </tr>\n",
              "    <tr>\n",
              "      <th>61008</th>\n",
              "      <td>8.942085e-01</td>\n",
              "    </tr>\n",
              "    <tr>\n",
              "      <th>61009</th>\n",
              "      <td>3.329859e-08</td>\n",
              "    </tr>\n",
              "    <tr>\n",
              "      <th>61010</th>\n",
              "      <td>8.499456e-04</td>\n",
              "    </tr>\n",
              "    <tr>\n",
              "      <th>...</th>\n",
              "      <td>...</td>\n",
              "    </tr>\n",
              "    <tr>\n",
              "      <th>74074</th>\n",
              "      <td>3.143330e-02</td>\n",
              "    </tr>\n",
              "    <tr>\n",
              "      <th>74075</th>\n",
              "      <td>2.544383e-03</td>\n",
              "    </tr>\n",
              "    <tr>\n",
              "      <th>74076</th>\n",
              "      <td>5.819886e-03</td>\n",
              "    </tr>\n",
              "    <tr>\n",
              "      <th>74077</th>\n",
              "      <td>7.657958e-04</td>\n",
              "    </tr>\n",
              "    <tr>\n",
              "      <th>74078</th>\n",
              "      <td>8.374027e-01</td>\n",
              "    </tr>\n",
              "  </tbody>\n",
              "</table>\n",
              "<p>13073 rows × 1 columns</p>\n",
              "</div>"
            ],
            "text/plain": [
              "       p_hat_imb_proba_test\n",
              "Index                      \n",
              "61006          1.783509e-01\n",
              "61007          6.689553e-05\n",
              "61008          8.942085e-01\n",
              "61009          3.329859e-08\n",
              "61010          8.499456e-04\n",
              "...                     ...\n",
              "74074          3.143330e-02\n",
              "74075          2.544383e-03\n",
              "74076          5.819886e-03\n",
              "74077          7.657958e-04\n",
              "74078          8.374027e-01\n",
              "\n",
              "[13073 rows x 1 columns]"
            ]
          },
          "metadata": {},
          "execution_count": 350
        }
      ]
    },
    {
      "cell_type": "code",
      "metadata": {
        "colab": {
          "base_uri": "https://localhost:8080/",
          "height": 450
        },
        "id": "10fTis4tKhpj",
        "outputId": "763176d2-a6f9-4609-91b7-baa6a4cbe864"
      },
      "source": [
        "# Reweight dataframe w. imb. predictions\n",
        "kaggle[\"p_hat_imb_proba_test\"] = kaggle[\"p_hat_imb_proba_test\"].apply(reweight,args=(q1,r1))\n",
        "kaggle"
      ],
      "execution_count": 351,
      "outputs": [
        {
          "output_type": "execute_result",
          "data": {
            "text/html": [
              "<div>\n",
              "<style scoped>\n",
              "    .dataframe tbody tr th:only-of-type {\n",
              "        vertical-align: middle;\n",
              "    }\n",
              "\n",
              "    .dataframe tbody tr th {\n",
              "        vertical-align: top;\n",
              "    }\n",
              "\n",
              "    .dataframe thead th {\n",
              "        text-align: right;\n",
              "    }\n",
              "</style>\n",
              "<table border=\"1\" class=\"dataframe\">\n",
              "  <thead>\n",
              "    <tr style=\"text-align: right;\">\n",
              "      <th></th>\n",
              "      <th>p_hat_imb_proba_test</th>\n",
              "    </tr>\n",
              "    <tr>\n",
              "      <th>Index</th>\n",
              "      <th></th>\n",
              "    </tr>\n",
              "  </thead>\n",
              "  <tbody>\n",
              "    <tr>\n",
              "      <th>61006</th>\n",
              "      <td>7.915880e-03</td>\n",
              "    </tr>\n",
              "    <tr>\n",
              "      <th>61007</th>\n",
              "      <td>2.459160e-06</td>\n",
              "    </tr>\n",
              "    <tr>\n",
              "      <th>61008</th>\n",
              "      <td>2.370525e-01</td>\n",
              "    </tr>\n",
              "    <tr>\n",
              "      <th>61009</th>\n",
              "      <td>1.224017e-09</td>\n",
              "    </tr>\n",
              "    <tr>\n",
              "      <th>61010</th>\n",
              "      <td>3.126861e-05</td>\n",
              "    </tr>\n",
              "    <tr>\n",
              "      <th>...</th>\n",
              "      <td>...</td>\n",
              "    </tr>\n",
              "    <tr>\n",
              "      <th>74074</th>\n",
              "      <td>1.191528e-03</td>\n",
              "    </tr>\n",
              "    <tr>\n",
              "      <th>74075</th>\n",
              "      <td>9.375835e-05</td>\n",
              "    </tr>\n",
              "    <tr>\n",
              "      <th>74076</th>\n",
              "      <td>2.151383e-04</td>\n",
              "    </tr>\n",
              "    <tr>\n",
              "      <th>74077</th>\n",
              "      <td>2.817054e-05</td>\n",
              "    </tr>\n",
              "    <tr>\n",
              "      <th>74078</th>\n",
              "      <td>1.591792e-01</td>\n",
              "    </tr>\n",
              "  </tbody>\n",
              "</table>\n",
              "<p>13073 rows × 1 columns</p>\n",
              "</div>"
            ],
            "text/plain": [
              "       p_hat_imb_proba_test\n",
              "Index                      \n",
              "61006          7.915880e-03\n",
              "61007          2.459160e-06\n",
              "61008          2.370525e-01\n",
              "61009          1.224017e-09\n",
              "61010          3.126861e-05\n",
              "...                     ...\n",
              "74074          1.191528e-03\n",
              "74075          9.375835e-05\n",
              "74076          2.151383e-04\n",
              "74077          2.817054e-05\n",
              "74078          1.591792e-01\n",
              "\n",
              "[13073 rows x 1 columns]"
            ]
          },
          "metadata": {},
          "execution_count": 351
        }
      ]
    },
    {
      "cell_type": "code",
      "metadata": {
        "id": "2SxnJ7X4O6di"
      },
      "source": [
        "# Step 9: Produce .csv for kaggle testing \n",
        "test_predictions_submit = pd.DataFrame({\"Index\": kaggle.index, \"Cover_Type\": kaggle['p_hat_imb_proba_test']})\n",
        "test_predictions_submit.to_csv(\"Predictions/pred3_imb_scl.csv\", index = False)"
      ],
      "execution_count": 352,
      "outputs": []
    }
  ]
}