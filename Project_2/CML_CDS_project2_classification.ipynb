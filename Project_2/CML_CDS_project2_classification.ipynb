{
  "nbformat": 4,
  "nbformat_minor": 0,
  "metadata": {
    "kernelspec": {
      "display_name": "Python 3",
      "language": "python",
      "name": "python3"
    },
    "language_info": {
      "codemirror_mode": {
        "name": "ipython",
        "version": 3
      },
      "file_extension": ".py",
      "mimetype": "text/x-python",
      "name": "python",
      "nbconvert_exporter": "python",
      "pygments_lexer": "ipython3",
      "version": "3.8.8"
    },
    "toc": {
      "base_numbering": 1,
      "nav_menu": {},
      "number_sections": true,
      "sideBar": true,
      "skip_h1_title": false,
      "title_cell": "Table of Contents",
      "title_sidebar": "Contents",
      "toc_cell": false,
      "toc_position": {},
      "toc_section_display": true,
      "toc_window_display": true
    },
    "colab": {
      "name": "CML-CDS_project2_classification.ipynb",
      "provenance": [],
      "collapsed_sections": [
        "aGge46vqaRwY",
        "bnoc_G0uaYBb",
        "1RHGC6AeabJE",
        "vVF0eZS5afs_",
        "UswEq4-qah_q",
        "kQHnxxLkpomv",
        "DsB3jeooaj7a",
        "bRq8faGzxjyw",
        "jyZui2S6xp7V",
        "wExPQGpEalz0",
        "3RQo363LxbPk",
        "Tty5xZ_ixIC_",
        "vjf6V0PNxDtm",
        "5g9jsQ6Jq4GO"
      ]
    }
  },
  "cells": [
    {
      "cell_type": "markdown",
      "metadata": {
        "id": "U1A391KUO6dX"
      },
      "source": [
        "<img src = \"../../Data/bgsedsc_0.jpg\">\n",
        "$\\newcommand{\\bb}{\\boldsymbol{\\beta}}$\n",
        "$\\DeclareMathOperator{\\Gau}{\\mathcal{N}}$\n",
        "$\\newcommand{\\bphi}{\\boldsymbol \\phi}$\n",
        "$\\newcommand{\\bpi}{\\boldsymbol \\pi}$\n",
        "$\\newcommand{\\bx}{\\boldsymbol{x}}$\n",
        "$\\newcommand{\\by}{\\boldsymbol{y}}$\n",
        "$\\newcommand{\\bmu}{\\boldsymbol{\\mu}}$\n",
        "$\\newcommand{\\bS}{\\boldsymbol{\\Sigma}}$\n",
        "$\\newcommand{\\whbb}{\\widehat{\\bb}}$\n",
        "$\\newcommand{\\hf}{\\hat{f}}$\n",
        "$\\newcommand{\\hy}{\\hat{y}}$\n",
        "$\\newcommand{\\tf}{\\tilde{f}}$\n",
        "$\\newcommand{\\ybar}{\\overline{y}}$\n",
        "$\\newcommand{\\E}{\\mathbb{E}}$\n",
        "$\\newcommand{\\Var}{Var}$\n",
        "$\\newcommand{\\Cov}{Cov}$\n",
        "$\\newcommand{\\Cor}{Cor}$"
      ]
    },
    {
      "cell_type": "markdown",
      "metadata": {
        "id": "zkCPeYQkO6dd"
      },
      "source": [
        "# Project: Linear Classification"
      ]
    },
    {
      "cell_type": "markdown",
      "metadata": {
        "id": "UmuZ93TvO6de"
      },
      "source": [
        "## Programming project: forest cover classification\n",
        "\n",
        "In this project, you have to predict the class of forest cover (the predominant kind of tree cover) from strictly cartographic and environment variables.\n",
        "\n",
        "The actual forest cover type for a given observation (30 x 30 meter cell) was determined from US Forest Service (USFS) Region 2 Resource Information System (RIS) data. Independent variables were derived from data originally obtained from US Geological Survey (USGS) and USFS data. Data is in raw form (not scaled) and contains categorical data for qualitative independent variables (wilderness areas and soil types).\n",
        "\n",
        "You have further details on the data at *covertype.info* file and at https://archive.ics.uci.edu/ml/datasets/Covertype\n",
        "\n",
        "Be aware that the final dataset has been slighly modified from the original source data.\n",
        "\n",
        "As performance metric, you can use *AUC* in the binary classification case. For multi-class classification, check as well the confussion matrix and estimate the misclassification probabilities of different classes(check *metrics.confusion_matrix* and *metrics.classification_report* in *sklearn*).\n",
        "\n",
        "+ Using *MultiClass_Train.csv* file build a predictive model for *Cover_Type* .\n",
        "+ Try a first a binary classification to predict class #7 (Krummholz, https://en.wikipedia.org/wiki/Krummholz), which is a rare valuable habitat. After that, then try multi-variate classification to predict all classes.\n",
        "+ For this analysis there is an extra test dataset. Once your code is submitted we will run a competition to see how you score in the test data. Hence have prepared also the necessary script to compute the accuracy estimate on the test data once released.\n",
        "\n",
        "You can follow those **steps** in your first implementation:\n",
        "1. *Explore* and understand the dataset. \n",
        "2. Create *dummy variables* for relevant categorical features\n",
        "3. Reformat the Class_type variable into a binary one, being class #7 the target variable versus the others.\n",
        "4. *Build* an initial binary model for class #7 versus the other ones and test it on the same input data. \n",
        "5. Assess expected accuracy using *cross-validation*\n",
        "6. Report which variable impacts more on results \n",
        "7. Try to improve it using methods to tackle class imbalance.\n",
        "8. Repeat 4., 5., 6. and 7. now with a multi-class model (EXTENDED PROJECT)\n",
        "9. Produce .csv for kaggle testing \n"
      ]
    },
    {
      "cell_type": "markdown",
      "metadata": {
        "id": "sLc6-WTMO6df"
      },
      "source": [
        "## Main criteria for grading\n",
        "From more to less important (the weighting of these components will vary between the in-class and extended projects):\n",
        "+ Code runs\n",
        "+ Data preparation\n",
        "+ Logistic Regression Models(s) have been used\n",
        "+ Cover Type prediction made\n",
        "+ Accuracy of predictions for test set (kaggle)\n",
        "+ Class imbalance management\n",
        "+ Hyperparameter optimization"
      ]
    },
    {
      "cell_type": "markdown",
      "metadata": {
        "id": "aGge46vqaRwY"
      },
      "source": [
        "# **0. Load Libraries and Data**"
      ]
    },
    {
      "cell_type": "markdown",
      "metadata": {
        "id": "iK7r1rn7BdNj"
      },
      "source": [
        "*Note* *to* *self*: See [here](https://stackoverflow.com/questions/48905127/importing-py-files-in-google-colab) for how to import .py-files into Google Colab with own functions."
      ]
    },
    {
      "cell_type": "code",
      "metadata": {
        "id": "7JHBCyLPP5zp",
        "colab": {
          "base_uri": "https://localhost:8080/"
        },
        "outputId": "15ede24f-0a0d-4d04-a603-cdb4920651dd"
      },
      "source": [
        "#Step 0: Load data\n",
        "from google.colab import drive\n",
        "drive.mount('/content/drive')"
      ],
      "execution_count": 222,
      "outputs": [
        {
          "output_type": "stream",
          "name": "stdout",
          "text": [
            "Drive already mounted at /content/drive; to attempt to forcibly remount, call drive.mount(\"/content/drive\", force_remount=True).\n"
          ]
        }
      ]
    },
    {
      "cell_type": "code",
      "metadata": {
        "id": "DeIB1CNmQRDe"
      },
      "source": [
        "import os\n",
        "os.chdir('/content/drive/My Drive/CML1_Projects/Project2_LinearClassification')"
      ],
      "execution_count": 223,
      "outputs": []
    },
    {
      "cell_type": "code",
      "metadata": {
        "id": "okLg2ES8CP_6"
      },
      "source": [
        "# Step 0: Load libraries\n",
        "import pandas as pd\n",
        "import matplotlib.pyplot as plt\n",
        "import seaborn as sns\n",
        "import numpy as np\n",
        "\n",
        "from sklearn import metrics\n",
        "from sklearn.metrics import confusion_matrix\n",
        "from sklearn.linear_model import LogisticRegression\n",
        "from sklearn.model_selection import cross_val_predict as cvp"
      ],
      "execution_count": 224,
      "outputs": []
    },
    {
      "cell_type": "markdown",
      "metadata": {
        "id": "92n1NIViuE9z"
      },
      "source": [
        "Custom functions:"
      ]
    },
    {
      "cell_type": "code",
      "metadata": {
        "id": "iWCiad_CuGtM"
      },
      "source": [
        "# Set print options (show narrays as decimals, not scientific)\n",
        "float_formatter = \"{:.2f}\".format\n",
        "np.set_printoptions(formatter={'float_kind':float_formatter})\n",
        "\n",
        "# Jack's confusion matrix plotter\n",
        "def plot_confusion_matrix(cm, class_labels):\n",
        "    \"\"\"Pretty prints a confusion matrix as a figure\n",
        "\n",
        "    Args:\n",
        "        cm:  A confusion matrix for example\n",
        "        [[245, 5 ], \n",
        "         [ 34, 245]]\n",
        "         \n",
        "        class_labels: The list of class labels to be plotted on x-y axis\n",
        "\n",
        "    Rerturns:\n",
        "        Just plots the confusion matrix.\n",
        "    \"\"\"\n",
        "    \n",
        "    df_cm = pd.DataFrame(cm, index = [i for i in class_labels],\n",
        "                  columns = [i for i in class_labels])\n",
        "    sns.set(font_scale=1)\n",
        "    sns.heatmap(df_cm, annot=True, fmt='g', cmap='Blues')\n",
        "    plt.xlabel(\"Predicted label\")\n",
        "    plt.ylabel(\"Real label\")\n",
        "    plt.show()"
      ],
      "execution_count": 225,
      "outputs": []
    },
    {
      "cell_type": "markdown",
      "metadata": {
        "id": "bnoc_G0uaYBb"
      },
      "source": [
        "# **1. Exploratory Data Analysis**"
      ]
    },
    {
      "cell_type": "markdown",
      "metadata": {
        "id": "LTcux-xRkF_N"
      },
      "source": [
        "NB: See also here for guide to EDA for logit: [http://www.jeremy-oakley.staff.shef.ac.uk/mas61004/EDAtutorial/eda-for-logistic-regression.html](http://www.jeremy-oakley.staff.shef.ac.uk/mas61004/EDAtutorial/eda-for-logistic-regression.html)."
      ]
    },
    {
      "cell_type": "code",
      "metadata": {
        "id": "ri7f8tRTQqnB",
        "colab": {
          "base_uri": "https://localhost:8080/",
          "height": 535
        },
        "outputId": "d27d1d6b-471f-46aa-9934-2e32a3612746"
      },
      "source": [
        "# Step 1: Read  data\n",
        "df_train = pd.read_csv('Data/MultiClass_Train.csv', index_col = 0)\n",
        "print(df_train.columns)\n",
        "df_train"
      ],
      "execution_count": 226,
      "outputs": [
        {
          "output_type": "stream",
          "name": "stdout",
          "text": [
            "Index(['Elevation', 'Aspect', 'Slope', 'Horiz_dist_hydro',\n",
            "       'Vertical_dist_hydro', 'Horiz_dist_roadways', 'Hillshade_9am',\n",
            "       'Hillshade_Noon', 'Hillshade_3pm', 'Horiz_dist_firepoints',\n",
            "       'Cover_Type', 'Wilderness_Area', 'Soil_Type'],\n",
            "      dtype='object')\n"
          ]
        },
        {
          "output_type": "execute_result",
          "data": {
            "text/html": [
              "<div>\n",
              "<style scoped>\n",
              "    .dataframe tbody tr th:only-of-type {\n",
              "        vertical-align: middle;\n",
              "    }\n",
              "\n",
              "    .dataframe tbody tr th {\n",
              "        vertical-align: top;\n",
              "    }\n",
              "\n",
              "    .dataframe thead th {\n",
              "        text-align: right;\n",
              "    }\n",
              "</style>\n",
              "<table border=\"1\" class=\"dataframe\">\n",
              "  <thead>\n",
              "    <tr style=\"text-align: right;\">\n",
              "      <th></th>\n",
              "      <th>Elevation</th>\n",
              "      <th>Aspect</th>\n",
              "      <th>Slope</th>\n",
              "      <th>Horiz_dist_hydro</th>\n",
              "      <th>Vertical_dist_hydro</th>\n",
              "      <th>Horiz_dist_roadways</th>\n",
              "      <th>Hillshade_9am</th>\n",
              "      <th>Hillshade_Noon</th>\n",
              "      <th>Hillshade_3pm</th>\n",
              "      <th>Horiz_dist_firepoints</th>\n",
              "      <th>Cover_Type</th>\n",
              "      <th>Wilderness_Area</th>\n",
              "      <th>Soil_Type</th>\n",
              "    </tr>\n",
              "    <tr>\n",
              "      <th>Index</th>\n",
              "      <th></th>\n",
              "      <th></th>\n",
              "      <th></th>\n",
              "      <th></th>\n",
              "      <th></th>\n",
              "      <th></th>\n",
              "      <th></th>\n",
              "      <th></th>\n",
              "      <th></th>\n",
              "      <th></th>\n",
              "      <th></th>\n",
              "      <th></th>\n",
              "      <th></th>\n",
              "    </tr>\n",
              "  </thead>\n",
              "  <tbody>\n",
              "    <tr>\n",
              "      <th>0</th>\n",
              "      <td>3202</td>\n",
              "      <td>34</td>\n",
              "      <td>10</td>\n",
              "      <td>0</td>\n",
              "      <td>0</td>\n",
              "      <td>2760</td>\n",
              "      <td>219</td>\n",
              "      <td>218</td>\n",
              "      <td>134</td>\n",
              "      <td>1734</td>\n",
              "      <td>1</td>\n",
              "      <td>3</td>\n",
              "      <td>38</td>\n",
              "    </tr>\n",
              "    <tr>\n",
              "      <th>1</th>\n",
              "      <td>3113</td>\n",
              "      <td>251</td>\n",
              "      <td>13</td>\n",
              "      <td>192</td>\n",
              "      <td>40</td>\n",
              "      <td>5600</td>\n",
              "      <td>191</td>\n",
              "      <td>249</td>\n",
              "      <td>195</td>\n",
              "      <td>2555</td>\n",
              "      <td>2</td>\n",
              "      <td>1</td>\n",
              "      <td>22</td>\n",
              "    </tr>\n",
              "    <tr>\n",
              "      <th>2</th>\n",
              "      <td>2801</td>\n",
              "      <td>77</td>\n",
              "      <td>9</td>\n",
              "      <td>510</td>\n",
              "      <td>17</td>\n",
              "      <td>1728</td>\n",
              "      <td>232</td>\n",
              "      <td>223</td>\n",
              "      <td>122</td>\n",
              "      <td>1087</td>\n",
              "      <td>2</td>\n",
              "      <td>1</td>\n",
              "      <td>12</td>\n",
              "    </tr>\n",
              "    <tr>\n",
              "      <th>3</th>\n",
              "      <td>3165</td>\n",
              "      <td>82</td>\n",
              "      <td>9</td>\n",
              "      <td>319</td>\n",
              "      <td>56</td>\n",
              "      <td>4890</td>\n",
              "      <td>233</td>\n",
              "      <td>225</td>\n",
              "      <td>124</td>\n",
              "      <td>1452</td>\n",
              "      <td>1</td>\n",
              "      <td>1</td>\n",
              "      <td>29</td>\n",
              "    </tr>\n",
              "    <tr>\n",
              "      <th>4</th>\n",
              "      <td>3048</td>\n",
              "      <td>333</td>\n",
              "      <td>11</td>\n",
              "      <td>124</td>\n",
              "      <td>31</td>\n",
              "      <td>2823</td>\n",
              "      <td>196</td>\n",
              "      <td>226</td>\n",
              "      <td>170</td>\n",
              "      <td>666</td>\n",
              "      <td>1</td>\n",
              "      <td>1</td>\n",
              "      <td>23</td>\n",
              "    </tr>\n",
              "    <tr>\n",
              "      <th>...</th>\n",
              "      <td>...</td>\n",
              "      <td>...</td>\n",
              "      <td>...</td>\n",
              "      <td>...</td>\n",
              "      <td>...</td>\n",
              "      <td>...</td>\n",
              "      <td>...</td>\n",
              "      <td>...</td>\n",
              "      <td>...</td>\n",
              "      <td>...</td>\n",
              "      <td>...</td>\n",
              "      <td>...</td>\n",
              "      <td>...</td>\n",
              "    </tr>\n",
              "    <tr>\n",
              "      <th>61001</th>\n",
              "      <td>3255</td>\n",
              "      <td>1</td>\n",
              "      <td>13</td>\n",
              "      <td>0</td>\n",
              "      <td>0</td>\n",
              "      <td>1552</td>\n",
              "      <td>201</td>\n",
              "      <td>215</td>\n",
              "      <td>151</td>\n",
              "      <td>713</td>\n",
              "      <td>1</td>\n",
              "      <td>1</td>\n",
              "      <td>38</td>\n",
              "    </tr>\n",
              "    <tr>\n",
              "      <th>61002</th>\n",
              "      <td>3170</td>\n",
              "      <td>170</td>\n",
              "      <td>25</td>\n",
              "      <td>417</td>\n",
              "      <td>61</td>\n",
              "      <td>2605</td>\n",
              "      <td>229</td>\n",
              "      <td>241</td>\n",
              "      <td>128</td>\n",
              "      <td>3350</td>\n",
              "      <td>2</td>\n",
              "      <td>3</td>\n",
              "      <td>33</td>\n",
              "    </tr>\n",
              "    <tr>\n",
              "      <th>61003</th>\n",
              "      <td>2994</td>\n",
              "      <td>170</td>\n",
              "      <td>13</td>\n",
              "      <td>134</td>\n",
              "      <td>18</td>\n",
              "      <td>1610</td>\n",
              "      <td>229</td>\n",
              "      <td>245</td>\n",
              "      <td>146</td>\n",
              "      <td>2394</td>\n",
              "      <td>2</td>\n",
              "      <td>3</td>\n",
              "      <td>33</td>\n",
              "    </tr>\n",
              "    <tr>\n",
              "      <th>61004</th>\n",
              "      <td>2543</td>\n",
              "      <td>135</td>\n",
              "      <td>4</td>\n",
              "      <td>124</td>\n",
              "      <td>17</td>\n",
              "      <td>524</td>\n",
              "      <td>227</td>\n",
              "      <td>238</td>\n",
              "      <td>145</td>\n",
              "      <td>1106</td>\n",
              "      <td>3</td>\n",
              "      <td>4</td>\n",
              "      <td>6</td>\n",
              "    </tr>\n",
              "    <tr>\n",
              "      <th>61005</th>\n",
              "      <td>2661</td>\n",
              "      <td>213</td>\n",
              "      <td>19</td>\n",
              "      <td>150</td>\n",
              "      <td>-2</td>\n",
              "      <td>2430</td>\n",
              "      <td>199</td>\n",
              "      <td>254</td>\n",
              "      <td>185</td>\n",
              "      <td>1891</td>\n",
              "      <td>2</td>\n",
              "      <td>3</td>\n",
              "      <td>10</td>\n",
              "    </tr>\n",
              "  </tbody>\n",
              "</table>\n",
              "<p>61006 rows × 13 columns</p>\n",
              "</div>"
            ],
            "text/plain": [
              "       Elevation  Aspect  Slope  ...  Cover_Type  Wilderness_Area  Soil_Type\n",
              "Index                            ...                                        \n",
              "0           3202      34     10  ...           1                3         38\n",
              "1           3113     251     13  ...           2                1         22\n",
              "2           2801      77      9  ...           2                1         12\n",
              "3           3165      82      9  ...           1                1         29\n",
              "4           3048     333     11  ...           1                1         23\n",
              "...          ...     ...    ...  ...         ...              ...        ...\n",
              "61001       3255       1     13  ...           1                1         38\n",
              "61002       3170     170     25  ...           2                3         33\n",
              "61003       2994     170     13  ...           2                3         33\n",
              "61004       2543     135      4  ...           3                4          6\n",
              "61005       2661     213     19  ...           2                3         10\n",
              "\n",
              "[61006 rows x 13 columns]"
            ]
          },
          "metadata": {},
          "execution_count": 226
        }
      ]
    },
    {
      "cell_type": "code",
      "metadata": {
        "id": "C-502p_pbDTO",
        "colab": {
          "base_uri": "https://localhost:8080/",
          "height": 535
        },
        "outputId": "95fada36-3dbe-4373-905a-e0059f7be9ba"
      },
      "source": [
        "df_test = pd.read_csv('Data/MultiClass_Test.csv', index_col = 0)\n",
        "print(df_test.columns)\n",
        "df_test"
      ],
      "execution_count": 227,
      "outputs": [
        {
          "output_type": "stream",
          "name": "stdout",
          "text": [
            "Index(['Elevation', 'Aspect', 'Slope', 'Horiz_dist_hydro',\n",
            "       'Vertical_dist_hydro', 'Horiz_dist_roadways', 'Hillshade_9am',\n",
            "       'Hillshade_Noon', 'Hillshade_3pm', 'Horiz_dist_firepoints',\n",
            "       'Wilderness_Area', 'Soil_Type'],\n",
            "      dtype='object')\n"
          ]
        },
        {
          "output_type": "execute_result",
          "data": {
            "text/html": [
              "<div>\n",
              "<style scoped>\n",
              "    .dataframe tbody tr th:only-of-type {\n",
              "        vertical-align: middle;\n",
              "    }\n",
              "\n",
              "    .dataframe tbody tr th {\n",
              "        vertical-align: top;\n",
              "    }\n",
              "\n",
              "    .dataframe thead th {\n",
              "        text-align: right;\n",
              "    }\n",
              "</style>\n",
              "<table border=\"1\" class=\"dataframe\">\n",
              "  <thead>\n",
              "    <tr style=\"text-align: right;\">\n",
              "      <th></th>\n",
              "      <th>Elevation</th>\n",
              "      <th>Aspect</th>\n",
              "      <th>Slope</th>\n",
              "      <th>Horiz_dist_hydro</th>\n",
              "      <th>Vertical_dist_hydro</th>\n",
              "      <th>Horiz_dist_roadways</th>\n",
              "      <th>Hillshade_9am</th>\n",
              "      <th>Hillshade_Noon</th>\n",
              "      <th>Hillshade_3pm</th>\n",
              "      <th>Horiz_dist_firepoints</th>\n",
              "      <th>Wilderness_Area</th>\n",
              "      <th>Soil_Type</th>\n",
              "    </tr>\n",
              "    <tr>\n",
              "      <th>Index</th>\n",
              "      <th></th>\n",
              "      <th></th>\n",
              "      <th></th>\n",
              "      <th></th>\n",
              "      <th></th>\n",
              "      <th></th>\n",
              "      <th></th>\n",
              "      <th></th>\n",
              "      <th></th>\n",
              "      <th></th>\n",
              "      <th></th>\n",
              "      <th></th>\n",
              "    </tr>\n",
              "  </thead>\n",
              "  <tbody>\n",
              "    <tr>\n",
              "      <th>61006</th>\n",
              "      <td>3111</td>\n",
              "      <td>72</td>\n",
              "      <td>13</td>\n",
              "      <td>283</td>\n",
              "      <td>76</td>\n",
              "      <td>630</td>\n",
              "      <td>235</td>\n",
              "      <td>214</td>\n",
              "      <td>109</td>\n",
              "      <td>499</td>\n",
              "      <td>3</td>\n",
              "      <td>31</td>\n",
              "    </tr>\n",
              "    <tr>\n",
              "      <th>61007</th>\n",
              "      <td>2768</td>\n",
              "      <td>0</td>\n",
              "      <td>20</td>\n",
              "      <td>134</td>\n",
              "      <td>26</td>\n",
              "      <td>912</td>\n",
              "      <td>186</td>\n",
              "      <td>198</td>\n",
              "      <td>146</td>\n",
              "      <td>1974</td>\n",
              "      <td>3</td>\n",
              "      <td>10</td>\n",
              "    </tr>\n",
              "    <tr>\n",
              "      <th>61008</th>\n",
              "      <td>3360</td>\n",
              "      <td>272</td>\n",
              "      <td>13</td>\n",
              "      <td>685</td>\n",
              "      <td>178</td>\n",
              "      <td>4502</td>\n",
              "      <td>185</td>\n",
              "      <td>244</td>\n",
              "      <td>198</td>\n",
              "      <td>2642</td>\n",
              "      <td>3</td>\n",
              "      <td>39</td>\n",
              "    </tr>\n",
              "    <tr>\n",
              "      <th>61009</th>\n",
              "      <td>2413</td>\n",
              "      <td>0</td>\n",
              "      <td>3</td>\n",
              "      <td>201</td>\n",
              "      <td>18</td>\n",
              "      <td>560</td>\n",
              "      <td>215</td>\n",
              "      <td>233</td>\n",
              "      <td>156</td>\n",
              "      <td>866</td>\n",
              "      <td>3</td>\n",
              "      <td>2</td>\n",
              "    </tr>\n",
              "    <tr>\n",
              "      <th>61010</th>\n",
              "      <td>2815</td>\n",
              "      <td>54</td>\n",
              "      <td>11</td>\n",
              "      <td>42</td>\n",
              "      <td>9</td>\n",
              "      <td>2313</td>\n",
              "      <td>226</td>\n",
              "      <td>217</td>\n",
              "      <td>123</td>\n",
              "      <td>2866</td>\n",
              "      <td>1</td>\n",
              "      <td>29</td>\n",
              "    </tr>\n",
              "    <tr>\n",
              "      <th>...</th>\n",
              "      <td>...</td>\n",
              "      <td>...</td>\n",
              "      <td>...</td>\n",
              "      <td>...</td>\n",
              "      <td>...</td>\n",
              "      <td>...</td>\n",
              "      <td>...</td>\n",
              "      <td>...</td>\n",
              "      <td>...</td>\n",
              "      <td>...</td>\n",
              "      <td>...</td>\n",
              "      <td>...</td>\n",
              "    </tr>\n",
              "    <tr>\n",
              "      <th>74074</th>\n",
              "      <td>3053</td>\n",
              "      <td>181</td>\n",
              "      <td>12</td>\n",
              "      <td>150</td>\n",
              "      <td>-13</td>\n",
              "      <td>2162</td>\n",
              "      <td>224</td>\n",
              "      <td>248</td>\n",
              "      <td>155</td>\n",
              "      <td>3827</td>\n",
              "      <td>1</td>\n",
              "      <td>23</td>\n",
              "    </tr>\n",
              "    <tr>\n",
              "      <th>74075</th>\n",
              "      <td>2940</td>\n",
              "      <td>218</td>\n",
              "      <td>27</td>\n",
              "      <td>30</td>\n",
              "      <td>4</td>\n",
              "      <td>1433</td>\n",
              "      <td>179</td>\n",
              "      <td>253</td>\n",
              "      <td>197</td>\n",
              "      <td>2616</td>\n",
              "      <td>3</td>\n",
              "      <td>13</td>\n",
              "    </tr>\n",
              "    <tr>\n",
              "      <th>74076</th>\n",
              "      <td>3014</td>\n",
              "      <td>208</td>\n",
              "      <td>4</td>\n",
              "      <td>283</td>\n",
              "      <td>37</td>\n",
              "      <td>4716</td>\n",
              "      <td>217</td>\n",
              "      <td>243</td>\n",
              "      <td>162</td>\n",
              "      <td>108</td>\n",
              "      <td>1</td>\n",
              "      <td>29</td>\n",
              "    </tr>\n",
              "    <tr>\n",
              "      <th>74077</th>\n",
              "      <td>2836</td>\n",
              "      <td>11</td>\n",
              "      <td>14</td>\n",
              "      <td>258</td>\n",
              "      <td>41</td>\n",
              "      <td>3342</td>\n",
              "      <td>204</td>\n",
              "      <td>210</td>\n",
              "      <td>141</td>\n",
              "      <td>1099</td>\n",
              "      <td>3</td>\n",
              "      <td>32</td>\n",
              "    </tr>\n",
              "    <tr>\n",
              "      <th>74078</th>\n",
              "      <td>3365</td>\n",
              "      <td>200</td>\n",
              "      <td>29</td>\n",
              "      <td>757</td>\n",
              "      <td>-101</td>\n",
              "      <td>3755</td>\n",
              "      <td>195</td>\n",
              "      <td>250</td>\n",
              "      <td>171</td>\n",
              "      <td>2312</td>\n",
              "      <td>1</td>\n",
              "      <td>39</td>\n",
              "    </tr>\n",
              "  </tbody>\n",
              "</table>\n",
              "<p>13073 rows × 12 columns</p>\n",
              "</div>"
            ],
            "text/plain": [
              "       Elevation  Aspect  ...  Wilderness_Area  Soil_Type\n",
              "Index                     ...                            \n",
              "61006       3111      72  ...                3         31\n",
              "61007       2768       0  ...                3         10\n",
              "61008       3360     272  ...                3         39\n",
              "61009       2413       0  ...                3          2\n",
              "61010       2815      54  ...                1         29\n",
              "...          ...     ...  ...              ...        ...\n",
              "74074       3053     181  ...                1         23\n",
              "74075       2940     218  ...                3         13\n",
              "74076       3014     208  ...                1         29\n",
              "74077       2836      11  ...                3         32\n",
              "74078       3365     200  ...                1         39\n",
              "\n",
              "[13073 rows x 12 columns]"
            ]
          },
          "metadata": {},
          "execution_count": 227
        }
      ]
    },
    {
      "cell_type": "code",
      "metadata": {
        "id": "KKCwGX5uCuzA",
        "colab": {
          "base_uri": "https://localhost:8080/"
        },
        "outputId": "92514068-6772-460b-8a14-14e2e87b1b5e"
      },
      "source": [
        "# Column(s) in train but not in test dataset\n",
        "df_train.columns.difference(df_test.columns)"
      ],
      "execution_count": 168,
      "outputs": [
        {
          "output_type": "execute_result",
          "data": {
            "text/plain": [
              "Index(['Cover_Type'], dtype='object')"
            ]
          },
          "metadata": {},
          "execution_count": 168
        }
      ]
    },
    {
      "cell_type": "code",
      "metadata": {
        "id": "axyMHUIVQ27h",
        "colab": {
          "base_uri": "https://localhost:8080/"
        },
        "outputId": "87175982-1cf4-417a-cc13-d795611cb362"
      },
      "source": [
        "df_train['Cover_Type'].value_counts()"
      ],
      "execution_count": 169,
      "outputs": [
        {
          "output_type": "execute_result",
          "data": {
            "text/plain": [
              "2    29690\n",
              "1    22199\n",
              "3     3802\n",
              "7     2163\n",
              "6     1865\n",
              "5      992\n",
              "4      295\n",
              "Name: Cover_Type, dtype: int64"
            ]
          },
          "metadata": {},
          "execution_count": 169
        }
      ]
    },
    {
      "cell_type": "code",
      "metadata": {
        "id": "hcSUdsKkhyYT",
        "colab": {
          "base_uri": "https://localhost:8080/",
          "height": 1000
        },
        "outputId": "2ca4cc0d-5226-46b5-c18e-aeeed9e01648"
      },
      "source": [
        "df_train.groupby('Cover_Type').boxplot(rot=90, figsize = [14,14])"
      ],
      "execution_count": 170,
      "outputs": [
        {
          "output_type": "execute_result",
          "data": {
            "text/plain": [
              "1         AxesSubplot(0.1,0.679412;0.235294x0.220588)\n",
              "2    AxesSubplot(0.382353,0.679412;0.235294x0.220588)\n",
              "3    AxesSubplot(0.664706,0.679412;0.235294x0.220588)\n",
              "4         AxesSubplot(0.1,0.414706;0.235294x0.220588)\n",
              "5    AxesSubplot(0.382353,0.414706;0.235294x0.220588)\n",
              "6    AxesSubplot(0.664706,0.414706;0.235294x0.220588)\n",
              "7             AxesSubplot(0.1,0.15;0.235294x0.220588)\n",
              "dtype: object"
            ]
          },
          "metadata": {},
          "execution_count": 170
        },
        {
          "output_type": "display_data",
          "data": {
            "image/png": "[encoded data removed]",
            "text/plain": [
              "<Figure size 1008x1008 with 9 Axes>"
            ]
          },
          "metadata": {}
        }
      ]
    },
    {
      "cell_type": "markdown",
      "metadata": {
        "id": "WzJO7c-hkUtx"
      },
      "source": [
        "There seems to be variation in the distribution of featuers for different categories of $Cover\\_Type$. This is revisited again for the constructed target variable of $Cover\\_Type == 7$."
      ]
    },
    {
      "cell_type": "code",
      "metadata": {
        "id": "ik7tMx5_c9SU",
        "colab": {
          "base_uri": "https://localhost:8080/"
        },
        "outputId": "622cea3f-add8-4add-d1c7-31002d1cb968"
      },
      "source": [
        "#Check for missing values\n",
        "print(df_train.isnull().sum())\n",
        "print(\"\\n\")\n",
        "print(df_test.isnull().sum())"
      ],
      "execution_count": 171,
      "outputs": [
        {
          "output_type": "stream",
          "name": "stdout",
          "text": [
            "Elevation                0\n",
            "Aspect                   0\n",
            "Slope                    0\n",
            "Horiz_dist_hydro         0\n",
            "Vertical_dist_hydro      0\n",
            "Horiz_dist_roadways      0\n",
            "Hillshade_9am            0\n",
            "Hillshade_Noon           0\n",
            "Hillshade_3pm            0\n",
            "Horiz_dist_firepoints    0\n",
            "Cover_Type               0\n",
            "Wilderness_Area          0\n",
            "Soil_Type                0\n",
            "dtype: int64\n",
            "\n",
            "\n",
            "Elevation                0\n",
            "Aspect                   0\n",
            "Slope                    0\n",
            "Horiz_dist_hydro         0\n",
            "Vertical_dist_hydro      0\n",
            "Horiz_dist_roadways      0\n",
            "Hillshade_9am            0\n",
            "Hillshade_Noon           0\n",
            "Hillshade_3pm            0\n",
            "Horiz_dist_firepoints    0\n",
            "Wilderness_Area          0\n",
            "Soil_Type                0\n",
            "dtype: int64\n"
          ]
        }
      ]
    },
    {
      "cell_type": "markdown",
      "metadata": {
        "id": "1RHGC6AeabJE"
      },
      "source": [
        "# **2. Create Dummies for Relevant Features**"
      ]
    },
    {
      "cell_type": "markdown",
      "metadata": {
        "id": "3SDAQet0ad4h"
      },
      "source": [
        "Step 2: I only make dummies for \"Wilderness_Area\" (and not \"Soil_Type\") as Kaggle submissions shows this is a better fit. I presume this might be due to loss of degrees of freedom with dummies for \"Soil_Type\" as we get around 40 dummies here."
      ]
    },
    {
      "cell_type": "code",
      "metadata": {
        "id": "m8UvwHFhSB8y",
        "colab": {
          "base_uri": "https://localhost:8080/",
          "height": 410
        },
        "outputId": "585ff991-7e64-47a0-da5c-4c04af8b6c1c"
      },
      "source": [
        "# Step 2: Create dummies for relevant features\n",
        "df_train_dumm = pd.get_dummies(df_train, prefix=['wild_area'], columns=['Wilderness_Area'], drop_first = True)\n",
        "#data = pd.get_dummies(data, prefix=['soil_'], columns=['Soil_Type'], drop_first = True)\n",
        "df_train_dumm.head(10)"
      ],
      "execution_count": 172,
      "outputs": [
        {
          "output_type": "execute_result",
          "data": {
            "text/html": [
              "<div>\n",
              "<style scoped>\n",
              "    .dataframe tbody tr th:only-of-type {\n",
              "        vertical-align: middle;\n",
              "    }\n",
              "\n",
              "    .dataframe tbody tr th {\n",
              "        vertical-align: top;\n",
              "    }\n",
              "\n",
              "    .dataframe thead th {\n",
              "        text-align: right;\n",
              "    }\n",
              "</style>\n",
              "<table border=\"1\" class=\"dataframe\">\n",
              "  <thead>\n",
              "    <tr style=\"text-align: right;\">\n",
              "      <th></th>\n",
              "      <th>Elevation</th>\n",
              "      <th>Aspect</th>\n",
              "      <th>Slope</th>\n",
              "      <th>Horiz_dist_hydro</th>\n",
              "      <th>Vertical_dist_hydro</th>\n",
              "      <th>Horiz_dist_roadways</th>\n",
              "      <th>Hillshade_9am</th>\n",
              "      <th>Hillshade_Noon</th>\n",
              "      <th>Hillshade_3pm</th>\n",
              "      <th>Horiz_dist_firepoints</th>\n",
              "      <th>Cover_Type</th>\n",
              "      <th>Soil_Type</th>\n",
              "      <th>wild_area_2</th>\n",
              "      <th>wild_area_3</th>\n",
              "      <th>wild_area_4</th>\n",
              "    </tr>\n",
              "    <tr>\n",
              "      <th>Index</th>\n",
              "      <th></th>\n",
              "      <th></th>\n",
              "      <th></th>\n",
              "      <th></th>\n",
              "      <th></th>\n",
              "      <th></th>\n",
              "      <th></th>\n",
              "      <th></th>\n",
              "      <th></th>\n",
              "      <th></th>\n",
              "      <th></th>\n",
              "      <th></th>\n",
              "      <th></th>\n",
              "      <th></th>\n",
              "      <th></th>\n",
              "    </tr>\n",
              "  </thead>\n",
              "  <tbody>\n",
              "    <tr>\n",
              "      <th>0</th>\n",
              "      <td>3202</td>\n",
              "      <td>34</td>\n",
              "      <td>10</td>\n",
              "      <td>0</td>\n",
              "      <td>0</td>\n",
              "      <td>2760</td>\n",
              "      <td>219</td>\n",
              "      <td>218</td>\n",
              "      <td>134</td>\n",
              "      <td>1734</td>\n",
              "      <td>1</td>\n",
              "      <td>38</td>\n",
              "      <td>0</td>\n",
              "      <td>1</td>\n",
              "      <td>0</td>\n",
              "    </tr>\n",
              "    <tr>\n",
              "      <th>1</th>\n",
              "      <td>3113</td>\n",
              "      <td>251</td>\n",
              "      <td>13</td>\n",
              "      <td>192</td>\n",
              "      <td>40</td>\n",
              "      <td>5600</td>\n",
              "      <td>191</td>\n",
              "      <td>249</td>\n",
              "      <td>195</td>\n",
              "      <td>2555</td>\n",
              "      <td>2</td>\n",
              "      <td>22</td>\n",
              "      <td>0</td>\n",
              "      <td>0</td>\n",
              "      <td>0</td>\n",
              "    </tr>\n",
              "    <tr>\n",
              "      <th>2</th>\n",
              "      <td>2801</td>\n",
              "      <td>77</td>\n",
              "      <td>9</td>\n",
              "      <td>510</td>\n",
              "      <td>17</td>\n",
              "      <td>1728</td>\n",
              "      <td>232</td>\n",
              "      <td>223</td>\n",
              "      <td>122</td>\n",
              "      <td>1087</td>\n",
              "      <td>2</td>\n",
              "      <td>12</td>\n",
              "      <td>0</td>\n",
              "      <td>0</td>\n",
              "      <td>0</td>\n",
              "    </tr>\n",
              "    <tr>\n",
              "      <th>3</th>\n",
              "      <td>3165</td>\n",
              "      <td>82</td>\n",
              "      <td>9</td>\n",
              "      <td>319</td>\n",
              "      <td>56</td>\n",
              "      <td>4890</td>\n",
              "      <td>233</td>\n",
              "      <td>225</td>\n",
              "      <td>124</td>\n",
              "      <td>1452</td>\n",
              "      <td>1</td>\n",
              "      <td>29</td>\n",
              "      <td>0</td>\n",
              "      <td>0</td>\n",
              "      <td>0</td>\n",
              "    </tr>\n",
              "    <tr>\n",
              "      <th>4</th>\n",
              "      <td>3048</td>\n",
              "      <td>333</td>\n",
              "      <td>11</td>\n",
              "      <td>124</td>\n",
              "      <td>31</td>\n",
              "      <td>2823</td>\n",
              "      <td>196</td>\n",
              "      <td>226</td>\n",
              "      <td>170</td>\n",
              "      <td>666</td>\n",
              "      <td>1</td>\n",
              "      <td>23</td>\n",
              "      <td>0</td>\n",
              "      <td>0</td>\n",
              "      <td>0</td>\n",
              "    </tr>\n",
              "    <tr>\n",
              "      <th>5</th>\n",
              "      <td>2347</td>\n",
              "      <td>31</td>\n",
              "      <td>16</td>\n",
              "      <td>242</td>\n",
              "      <td>140</td>\n",
              "      <td>216</td>\n",
              "      <td>214</td>\n",
              "      <td>203</td>\n",
              "      <td>120</td>\n",
              "      <td>1425</td>\n",
              "      <td>3</td>\n",
              "      <td>2</td>\n",
              "      <td>0</td>\n",
              "      <td>0</td>\n",
              "      <td>1</td>\n",
              "    </tr>\n",
              "    <tr>\n",
              "      <th>6</th>\n",
              "      <td>3381</td>\n",
              "      <td>56</td>\n",
              "      <td>22</td>\n",
              "      <td>376</td>\n",
              "      <td>147</td>\n",
              "      <td>1919</td>\n",
              "      <td>228</td>\n",
              "      <td>187</td>\n",
              "      <td>81</td>\n",
              "      <td>2059</td>\n",
              "      <td>1</td>\n",
              "      <td>40</td>\n",
              "      <td>0</td>\n",
              "      <td>0</td>\n",
              "      <td>0</td>\n",
              "    </tr>\n",
              "    <tr>\n",
              "      <th>7</th>\n",
              "      <td>2290</td>\n",
              "      <td>86</td>\n",
              "      <td>24</td>\n",
              "      <td>30</td>\n",
              "      <td>0</td>\n",
              "      <td>1325</td>\n",
              "      <td>246</td>\n",
              "      <td>192</td>\n",
              "      <td>61</td>\n",
              "      <td>830</td>\n",
              "      <td>4</td>\n",
              "      <td>17</td>\n",
              "      <td>0</td>\n",
              "      <td>0</td>\n",
              "      <td>1</td>\n",
              "    </tr>\n",
              "    <tr>\n",
              "      <th>8</th>\n",
              "      <td>3051</td>\n",
              "      <td>75</td>\n",
              "      <td>21</td>\n",
              "      <td>150</td>\n",
              "      <td>0</td>\n",
              "      <td>1003</td>\n",
              "      <td>240</td>\n",
              "      <td>194</td>\n",
              "      <td>74</td>\n",
              "      <td>1733</td>\n",
              "      <td>1</td>\n",
              "      <td>22</td>\n",
              "      <td>0</td>\n",
              "      <td>1</td>\n",
              "      <td>0</td>\n",
              "    </tr>\n",
              "    <tr>\n",
              "      <th>9</th>\n",
              "      <td>2978</td>\n",
              "      <td>294</td>\n",
              "      <td>18</td>\n",
              "      <td>228</td>\n",
              "      <td>29</td>\n",
              "      <td>5730</td>\n",
              "      <td>167</td>\n",
              "      <td>233</td>\n",
              "      <td>205</td>\n",
              "      <td>1920</td>\n",
              "      <td>1</td>\n",
              "      <td>29</td>\n",
              "      <td>0</td>\n",
              "      <td>0</td>\n",
              "      <td>0</td>\n",
              "    </tr>\n",
              "  </tbody>\n",
              "</table>\n",
              "</div>"
            ],
            "text/plain": [
              "       Elevation  Aspect  Slope  ...  wild_area_2  wild_area_3  wild_area_4\n",
              "Index                            ...                                       \n",
              "0           3202      34     10  ...            0            1            0\n",
              "1           3113     251     13  ...            0            0            0\n",
              "2           2801      77      9  ...            0            0            0\n",
              "3           3165      82      9  ...            0            0            0\n",
              "4           3048     333     11  ...            0            0            0\n",
              "5           2347      31     16  ...            0            0            1\n",
              "6           3381      56     22  ...            0            0            0\n",
              "7           2290      86     24  ...            0            0            1\n",
              "8           3051      75     21  ...            0            1            0\n",
              "9           2978     294     18  ...            0            0            0\n",
              "\n",
              "[10 rows x 15 columns]"
            ]
          },
          "metadata": {},
          "execution_count": 172
        }
      ]
    },
    {
      "cell_type": "code",
      "metadata": {
        "id": "RNnIqVIwbOxg",
        "colab": {
          "base_uri": "https://localhost:8080/",
          "height": 390
        },
        "outputId": "2d1b3dde-8d58-4f26-a845-aa3797044436"
      },
      "source": [
        "df_test_dumm = pd.get_dummies(df_test, prefix=['wild_area'], columns=['Wilderness_Area'], drop_first = True)\n",
        "#data_test = pd.get_dummies(data_test, prefix=['soil_'], columns=['Soil_Type'], drop_first = True)\n",
        "df_test_dumm.head(10)"
      ],
      "execution_count": 173,
      "outputs": [
        {
          "output_type": "execute_result",
          "data": {
            "text/html": [
              "<div>\n",
              "<style scoped>\n",
              "    .dataframe tbody tr th:only-of-type {\n",
              "        vertical-align: middle;\n",
              "    }\n",
              "\n",
              "    .dataframe tbody tr th {\n",
              "        vertical-align: top;\n",
              "    }\n",
              "\n",
              "    .dataframe thead th {\n",
              "        text-align: right;\n",
              "    }\n",
              "</style>\n",
              "<table border=\"1\" class=\"dataframe\">\n",
              "  <thead>\n",
              "    <tr style=\"text-align: right;\">\n",
              "      <th></th>\n",
              "      <th>Elevation</th>\n",
              "      <th>Aspect</th>\n",
              "      <th>Slope</th>\n",
              "      <th>Horiz_dist_hydro</th>\n",
              "      <th>Vertical_dist_hydro</th>\n",
              "      <th>Horiz_dist_roadways</th>\n",
              "      <th>Hillshade_9am</th>\n",
              "      <th>Hillshade_Noon</th>\n",
              "      <th>Hillshade_3pm</th>\n",
              "      <th>Horiz_dist_firepoints</th>\n",
              "      <th>Soil_Type</th>\n",
              "      <th>wild_area_2</th>\n",
              "      <th>wild_area_3</th>\n",
              "      <th>wild_area_4</th>\n",
              "    </tr>\n",
              "    <tr>\n",
              "      <th>Index</th>\n",
              "      <th></th>\n",
              "      <th></th>\n",
              "      <th></th>\n",
              "      <th></th>\n",
              "      <th></th>\n",
              "      <th></th>\n",
              "      <th></th>\n",
              "      <th></th>\n",
              "      <th></th>\n",
              "      <th></th>\n",
              "      <th></th>\n",
              "      <th></th>\n",
              "      <th></th>\n",
              "      <th></th>\n",
              "    </tr>\n",
              "  </thead>\n",
              "  <tbody>\n",
              "    <tr>\n",
              "      <th>61006</th>\n",
              "      <td>3111</td>\n",
              "      <td>72</td>\n",
              "      <td>13</td>\n",
              "      <td>283</td>\n",
              "      <td>76</td>\n",
              "      <td>630</td>\n",
              "      <td>235</td>\n",
              "      <td>214</td>\n",
              "      <td>109</td>\n",
              "      <td>499</td>\n",
              "      <td>31</td>\n",
              "      <td>0</td>\n",
              "      <td>1</td>\n",
              "      <td>0</td>\n",
              "    </tr>\n",
              "    <tr>\n",
              "      <th>61007</th>\n",
              "      <td>2768</td>\n",
              "      <td>0</td>\n",
              "      <td>20</td>\n",
              "      <td>134</td>\n",
              "      <td>26</td>\n",
              "      <td>912</td>\n",
              "      <td>186</td>\n",
              "      <td>198</td>\n",
              "      <td>146</td>\n",
              "      <td>1974</td>\n",
              "      <td>10</td>\n",
              "      <td>0</td>\n",
              "      <td>1</td>\n",
              "      <td>0</td>\n",
              "    </tr>\n",
              "    <tr>\n",
              "      <th>61008</th>\n",
              "      <td>3360</td>\n",
              "      <td>272</td>\n",
              "      <td>13</td>\n",
              "      <td>685</td>\n",
              "      <td>178</td>\n",
              "      <td>4502</td>\n",
              "      <td>185</td>\n",
              "      <td>244</td>\n",
              "      <td>198</td>\n",
              "      <td>2642</td>\n",
              "      <td>39</td>\n",
              "      <td>0</td>\n",
              "      <td>1</td>\n",
              "      <td>0</td>\n",
              "    </tr>\n",
              "    <tr>\n",
              "      <th>61009</th>\n",
              "      <td>2413</td>\n",
              "      <td>0</td>\n",
              "      <td>3</td>\n",
              "      <td>201</td>\n",
              "      <td>18</td>\n",
              "      <td>560</td>\n",
              "      <td>215</td>\n",
              "      <td>233</td>\n",
              "      <td>156</td>\n",
              "      <td>866</td>\n",
              "      <td>2</td>\n",
              "      <td>0</td>\n",
              "      <td>1</td>\n",
              "      <td>0</td>\n",
              "    </tr>\n",
              "    <tr>\n",
              "      <th>61010</th>\n",
              "      <td>2815</td>\n",
              "      <td>54</td>\n",
              "      <td>11</td>\n",
              "      <td>42</td>\n",
              "      <td>9</td>\n",
              "      <td>2313</td>\n",
              "      <td>226</td>\n",
              "      <td>217</td>\n",
              "      <td>123</td>\n",
              "      <td>2866</td>\n",
              "      <td>29</td>\n",
              "      <td>0</td>\n",
              "      <td>0</td>\n",
              "      <td>0</td>\n",
              "    </tr>\n",
              "    <tr>\n",
              "      <th>61011</th>\n",
              "      <td>2657</td>\n",
              "      <td>58</td>\n",
              "      <td>22</td>\n",
              "      <td>90</td>\n",
              "      <td>51</td>\n",
              "      <td>2521</td>\n",
              "      <td>230</td>\n",
              "      <td>187</td>\n",
              "      <td>79</td>\n",
              "      <td>2391</td>\n",
              "      <td>10</td>\n",
              "      <td>0</td>\n",
              "      <td>1</td>\n",
              "      <td>0</td>\n",
              "    </tr>\n",
              "    <tr>\n",
              "      <th>61012</th>\n",
              "      <td>2182</td>\n",
              "      <td>310</td>\n",
              "      <td>37</td>\n",
              "      <td>295</td>\n",
              "      <td>160</td>\n",
              "      <td>408</td>\n",
              "      <td>98</td>\n",
              "      <td>187</td>\n",
              "      <td>216</td>\n",
              "      <td>175</td>\n",
              "      <td>10</td>\n",
              "      <td>0</td>\n",
              "      <td>0</td>\n",
              "      <td>1</td>\n",
              "    </tr>\n",
              "    <tr>\n",
              "      <th>61013</th>\n",
              "      <td>3345</td>\n",
              "      <td>210</td>\n",
              "      <td>13</td>\n",
              "      <td>816</td>\n",
              "      <td>143</td>\n",
              "      <td>2873</td>\n",
              "      <td>209</td>\n",
              "      <td>252</td>\n",
              "      <td>176</td>\n",
              "      <td>1226</td>\n",
              "      <td>33</td>\n",
              "      <td>0</td>\n",
              "      <td>1</td>\n",
              "      <td>0</td>\n",
              "    </tr>\n",
              "    <tr>\n",
              "      <th>61014</th>\n",
              "      <td>2868</td>\n",
              "      <td>12</td>\n",
              "      <td>10</td>\n",
              "      <td>127</td>\n",
              "      <td>24</td>\n",
              "      <td>4608</td>\n",
              "      <td>210</td>\n",
              "      <td>220</td>\n",
              "      <td>146</td>\n",
              "      <td>4774</td>\n",
              "      <td>24</td>\n",
              "      <td>0</td>\n",
              "      <td>0</td>\n",
              "      <td>0</td>\n",
              "    </tr>\n",
              "    <tr>\n",
              "      <th>61015</th>\n",
              "      <td>3005</td>\n",
              "      <td>146</td>\n",
              "      <td>23</td>\n",
              "      <td>240</td>\n",
              "      <td>32</td>\n",
              "      <td>2638</td>\n",
              "      <td>244</td>\n",
              "      <td>230</td>\n",
              "      <td>101</td>\n",
              "      <td>1565</td>\n",
              "      <td>33</td>\n",
              "      <td>0</td>\n",
              "      <td>1</td>\n",
              "      <td>0</td>\n",
              "    </tr>\n",
              "  </tbody>\n",
              "</table>\n",
              "</div>"
            ],
            "text/plain": [
              "       Elevation  Aspect  Slope  ...  wild_area_2  wild_area_3  wild_area_4\n",
              "Index                            ...                                       \n",
              "61006       3111      72     13  ...            0            1            0\n",
              "61007       2768       0     20  ...            0            1            0\n",
              "61008       3360     272     13  ...            0            1            0\n",
              "61009       2413       0      3  ...            0            1            0\n",
              "61010       2815      54     11  ...            0            0            0\n",
              "61011       2657      58     22  ...            0            1            0\n",
              "61012       2182     310     37  ...            0            0            1\n",
              "61013       3345     210     13  ...            0            1            0\n",
              "61014       2868      12     10  ...            0            0            0\n",
              "61015       3005     146     23  ...            0            1            0\n",
              "\n",
              "[10 rows x 14 columns]"
            ]
          },
          "metadata": {},
          "execution_count": 173
        }
      ]
    },
    {
      "cell_type": "markdown",
      "metadata": {
        "id": "vVF0eZS5afs_"
      },
      "source": [
        "# **3. Create Binary Class Target (class #7 is the target to predict)**"
      ]
    },
    {
      "cell_type": "code",
      "metadata": {
        "id": "ohm7mmSCSCXc",
        "colab": {
          "base_uri": "https://localhost:8080/"
        },
        "outputId": "2b49afd3-ded0-467b-ff3b-61f5f0f116bb"
      },
      "source": [
        "# Step 3: Reformat the data to have an binary class target (class #7 is the target to predict)\n",
        "df_train_dumm['Cover_Type_new'] = [1 if q == 7 else 0 for q in df_train_dumm['Cover_Type'] ]\n",
        "#data['Cover_Type_new'] = [1 if q == 7 else 0 for q in data.Cover_Type' ]\n",
        "df_train_dumm = df_train_dumm.drop('Cover_Type', axis = 1)\n",
        "df_train_dumm['Cover_Type_new'].value_counts()"
      ],
      "execution_count": 174,
      "outputs": [
        {
          "output_type": "execute_result",
          "data": {
            "text/plain": [
              "0    58843\n",
              "1     2163\n",
              "Name: Cover_Type_new, dtype: int64"
            ]
          },
          "metadata": {},
          "execution_count": 174
        }
      ]
    },
    {
      "cell_type": "markdown",
      "metadata": {
        "id": "OCep7MbzaIUW"
      },
      "source": [
        "So we seem to have class imbalance as only roughly 3.5% are class #7"
      ]
    },
    {
      "cell_type": "code",
      "metadata": {
        "id": "_ANBMukgkn3e",
        "colab": {
          "base_uri": "https://localhost:8080/",
          "height": 105
        },
        "outputId": "a9cb92d7-d91c-4fb8-acd0-1fb9e4fe5f67"
      },
      "source": [
        "# Revisit distribution of features for binary target\n",
        "df_train_dumm.groupby('Cover_Type_new').boxplot(rot=90, figsize = [14,5])"
      ],
      "execution_count": 175,
      "outputs": [
        {
          "output_type": "execute_result",
          "data": {
            "text/plain": [
              "0         AxesSubplot(0.1,0.15;0.363636x0.75)\n",
              "1    AxesSubplot(0.536364,0.15;0.363636x0.75)\n",
              "dtype: object"
            ]
          },
          "metadata": {},
          "execution_count": 175
        },
        {
          "output_type": "display_data",
          "data": {
            "image/png": "[encoded data removed]",
            "text/plain": [
              "<Figure size 1008x360 with 2 Axes>"
            ]
          },
          "metadata": {}
        }
      ]
    },
    {
      "cell_type": "markdown",
      "metadata": {
        "id": "d8qM_aDGk8rD"
      },
      "source": [
        "Means appear to similarly distributed for both $Cover\\_Type==7$ and $Cover\\_Type \\neq 7$."
      ]
    },
    {
      "cell_type": "markdown",
      "metadata": {
        "id": "UswEq4-qah_q"
      },
      "source": [
        "# **4. Baseline Logistic Regression**"
      ]
    },
    {
      "cell_type": "markdown",
      "metadata": {
        "id": "kQHnxxLkpomv"
      },
      "source": [
        "## 4.1. Fit Logistic Model to Predict Class #7"
      ]
    },
    {
      "cell_type": "code",
      "metadata": {
        "id": "T0rs7MXkSd-1"
      },
      "source": [
        "# Step 4: Build a binary model to predict class #7\n",
        "F = df_train_dumm.drop('Cover_Type_new', axis = 1)\n",
        "y = df_train_dumm['Cover_Type_new']\n",
        "\n",
        "# To report stats\n",
        "feature_names = F.columns\n",
        "class_labels = ['Not Krummholz', 'Krummholz']"
      ],
      "execution_count": 176,
      "outputs": []
    },
    {
      "cell_type": "code",
      "metadata": {
        "id": "MrskYt9vTIJv",
        "colab": {
          "base_uri": "https://localhost:8080/"
        },
        "outputId": "3e04f75d-47c9-4ddd-e6b8-a09ede0a7467"
      },
      "source": [
        "#Instantiate logistic regression\n",
        "logit_base = LogisticRegression(penalty='l2', C=100.0, \n",
        "                           fit_intercept=True, \n",
        "                           solver='liblinear', max_iter=500)\n",
        "\n",
        "#Fit\n",
        "logit_base.fit(F,y)\n",
        "\n",
        "#Predicted classes\n",
        "p_hat = logit_base.predict(F)\n",
        "\n",
        "#Predicted probabilities\n",
        "p_hat_proba = logit_base.predict_proba(F)\n",
        "p_hat_proba = p_hat_proba[:,1]\n",
        "print(p_hat_proba)"
      ],
      "execution_count": 177,
      "outputs": [
        {
          "output_type": "stream",
          "name": "stdout",
          "text": [
            "[0.34 0.00 0.00 ... 0.01 0.00 0.00]\n"
          ]
        }
      ]
    },
    {
      "cell_type": "markdown",
      "metadata": {
        "id": "DsB3jeooaj7a"
      },
      "source": [
        "## 4.2. Accuracy Assessment (in-sample)"
      ]
    },
    {
      "cell_type": "markdown",
      "metadata": {
        "id": "bRq8faGzxjyw"
      },
      "source": [
        "### 4.2.1. AUC Metric and Plot"
      ]
    },
    {
      "cell_type": "code",
      "metadata": {
        "id": "S7K_peLdTp5U",
        "colab": {
          "base_uri": "https://localhost:8080/"
        },
        "outputId": "21dab281-7ef1-4b33-989b-ff2676289577"
      },
      "source": [
        "# AUC metric\n",
        "\n",
        "fpr, tpr, thresholds = metrics.roc_curve(y, p_hat_proba)\n",
        "roc_auc = metrics.auc(fpr, tpr)\n",
        "print(roc_auc)"
      ],
      "execution_count": 178,
      "outputs": [
        {
          "output_type": "stream",
          "name": "stdout",
          "text": [
            "0.9617648014817773\n"
          ]
        }
      ]
    },
    {
      "cell_type": "code",
      "metadata": {
        "id": "n4xrx5WEWofw",
        "colab": {
          "base_uri": "https://localhost:8080/",
          "height": 54
        },
        "outputId": "26d9a3c8-9f61-4534-8c4f-29116809e346"
      },
      "source": [
        "#AUC/ROC plot\n",
        "\n",
        "#Create plot\n",
        "plt.plot(fpr, tpr, label='ROC curve (area = %0.3f)' % roc_auc)\n",
        "\n",
        "# Refining plot\n",
        "plt.plot([0, 1], [0, 1], 'k--') \n",
        "plt.title('Receiver Operating Characteristic')\n",
        "plt.xlabel('False Positive Rate or (1 - Specifity)')\n",
        "plt.ylabel('True Positive Rate or (Sensitivity)')\n",
        "plt.legend(loc=\"lower right\")\n",
        "\n",
        "# figure size\n",
        "fig = plt.gcf()\n",
        "fig.set_size_inches(14, 8)\n",
        "plt.show()\n",
        "\n",
        "#Inspect figure\n",
        "plt.show()"
      ],
      "execution_count": 179,
      "outputs": [
        {
          "output_type": "display_data",
          "data": {
            "image/png": "[encoded data removed]",
            "text/plain": [
              "<Figure size 1008x576 with 1 Axes>"
            ]
          },
          "metadata": {}
        }
      ]
    },
    {
      "cell_type": "markdown",
      "metadata": {
        "id": "LA3-WLO0aD8o"
      },
      "source": [
        "The curve looks pretty nice."
      ]
    },
    {
      "cell_type": "markdown",
      "metadata": {
        "id": "jyZui2S6xp7V"
      },
      "source": [
        "### 4.2.2. Confusion Matrix"
      ]
    },
    {
      "cell_type": "code",
      "metadata": {
        "colab": {
          "base_uri": "https://localhost:8080/",
          "height": 54
        },
        "id": "GnETXrp9yjxW",
        "outputId": "2ca2dafe-4a59-46fc-cbd3-7afb5b18ddbf"
      },
      "source": [
        "# Plot confusion matrix\n",
        "cm2 = confusion_matrix(y_pred=p_hat, y_true=y, labels=[0,1] )\n",
        "plot_confusion_matrix(cm2, class_labels) "
      ],
      "execution_count": 180,
      "outputs": [
        {
          "output_type": "display_data",
          "data": {
            "image/png": "[encoded data removed]",
            "text/plain": [
              "<Figure size 432x288 with 2 Axes>"
            ]
          },
          "metadata": {}
        }
      ]
    },
    {
      "cell_type": "markdown",
      "metadata": {
        "id": "wExPQGpEalz0"
      },
      "source": [
        "### 4.2.3 Feature Impact"
      ]
    },
    {
      "cell_type": "code",
      "metadata": {
        "id": "7Sz5pcrbXAv5",
        "colab": {
          "base_uri": "https://localhost:8080/"
        },
        "outputId": "f5710e96-b402-44e6-e99a-a52abe8e398b"
      },
      "source": [
        "# Step 6: Report variable impact\n",
        "print(abs(logit_base.coef_))"
      ],
      "execution_count": 181,
      "outputs": [
        {
          "output_type": "stream",
          "name": "stdout",
          "text": [
            "[[0.01 0.00 0.24 0.00 0.00 0.00 0.23 0.16 0.19 0.00 0.21 0.23 1.40 0.00]]\n"
          ]
        }
      ]
    },
    {
      "cell_type": "markdown",
      "metadata": {
        "id": "XBDBbVSK0DqD"
      },
      "source": [
        "Note to self: See also [https://sefiks.com/2021/01/06/feature-importance-in-logistic-regression/](https://sefiks.com/2021/01/06/feature-importance-in-logistic-regression/) for one way of calculating feature importance for logistic regression."
      ]
    },
    {
      "cell_type": "markdown",
      "metadata": {
        "id": "3RQo363LxbPk"
      },
      "source": [
        "## 4.3 Accuracy Assessment (out-of-sample)"
      ]
    },
    {
      "cell_type": "markdown",
      "metadata": {
        "id": "Tty5xZ_ixIC_"
      },
      "source": [
        "### 4.3.1. Cross-Validated AUC Metric and Plot"
      ]
    },
    {
      "cell_type": "code",
      "metadata": {
        "colab": {
          "base_uri": "https://localhost:8080/"
        },
        "id": "BB1wwrFtruPY",
        "outputId": "b0ea67e7-456c-4385-daa2-cc5c7cf270b0"
      },
      "source": [
        "# Note to self: 'cvp' is alias for sklearn.model_selection.cross_val_predict\n",
        "y_hat_cv_proba = cvp(logit_base, F, y, cv=100, method='predict_proba') #Runtime = 1 min 53s\n",
        "print(y_hat_cv_proba)"
      ],
      "execution_count": 182,
      "outputs": [
        {
          "output_type": "stream",
          "name": "stdout",
          "text": [
            "[[0.69 0.31]\n",
            " [1.00 0.00]\n",
            " [1.00 0.00]\n",
            " ...\n",
            " [0.99 0.01]\n",
            " [1.00 0.00]\n",
            " [1.00 0.00]]\n"
          ]
        }
      ]
    },
    {
      "cell_type": "code",
      "metadata": {
        "colab": {
          "base_uri": "https://localhost:8080/"
        },
        "id": "dOWWpMJax166",
        "outputId": "6a885533-b70c-4920-b9c3-e56ec1901dec"
      },
      "source": [
        "# Cross-validated AUC metric\n",
        "y_hat_cv_proba_preds = y_hat_cv_proba[:,1]\n",
        "\n",
        "fpr_cv, tpr_cv, thresholds_cv = metrics.roc_curve(y, y_hat_cv_proba_preds)\n",
        "roc_auc_cv = metrics.auc(fpr_cv, tpr_cv)\n",
        "print(roc_auc_cv)"
      ],
      "execution_count": 183,
      "outputs": [
        {
          "output_type": "stream",
          "name": "stdout",
          "text": [
            "0.9618800929550663\n"
          ]
        }
      ]
    },
    {
      "cell_type": "markdown",
      "metadata": {
        "id": "SuwpFtt9zBKH"
      },
      "source": [
        "Difference between cross-validated and not-cross-validated AUC scores are not very different from each other."
      ]
    },
    {
      "cell_type": "code",
      "metadata": {
        "colab": {
          "base_uri": "https://localhost:8080/",
          "height": 54
        },
        "id": "-SUxsI0SyRAK",
        "outputId": "25c4cc5b-c06a-466b-b702-2130428a844f"
      },
      "source": [
        "#Cross-validated AUC/ROC plot\n",
        "\n",
        "#Create plot\n",
        "plt.plot(fpr_cv, tpr_cv, label='CV ROC curve (area = %0.3f)' % roc_auc_cv)\n",
        "\n",
        "# Refining plot\n",
        "plt.plot([0, 1], [0, 1], 'k--') \n",
        "plt.title('Cross-Validated Receiver Operating Characteristic')\n",
        "plt.xlabel('False Positive Rate or (1 - Specifity)')\n",
        "plt.ylabel('True Positive Rate or (Sensitivity)')\n",
        "plt.legend(loc=\"lower right\")\n",
        "\n",
        "# figure size\n",
        "fig = plt.gcf()\n",
        "fig.set_size_inches(7, 4)\n",
        "plt.show()\n",
        "\n",
        "#Inspect figure\n",
        "plt.show()"
      ],
      "execution_count": 184,
      "outputs": [
        {
          "output_type": "display_data",
          "data": {
            "image/png": "[encoded data removed]",
            "text/plain": [
              "<Figure size 504x288 with 1 Axes>"
            ]
          },
          "metadata": {}
        }
      ]
    },
    {
      "cell_type": "markdown",
      "metadata": {
        "id": "vjf6V0PNxDtm"
      },
      "source": [
        "### 4.3.1. Cross-Validated Confusion Matrix"
      ]
    },
    {
      "cell_type": "code",
      "metadata": {
        "id": "bu-c_vNEw6hX"
      },
      "source": [
        "y_hat_cv = cvp(logit_base, F, y, cv=100) #Runtime = 1 min 47s"
      ],
      "execution_count": 185,
      "outputs": []
    },
    {
      "cell_type": "code",
      "metadata": {
        "colab": {
          "base_uri": "https://localhost:8080/",
          "height": 54
        },
        "id": "r_UzHl45tSzL",
        "outputId": "3cdd4782-9562-4a73-8c02-bff84e602e9e"
      },
      "source": [
        "# Plot confusion matrix\n",
        "cm1 = confusion_matrix(y_pred=y_hat_cv, y_true=y, labels=[0,1] )\n",
        "plot_confusion_matrix(cm1, class_labels) "
      ],
      "execution_count": 186,
      "outputs": [
        {
          "output_type": "display_data",
          "data": {
            "image/png": "[encoded data removed]",
            "text/plain": [
              "<Figure size 432x288 with 2 Axes>"
            ]
          },
          "metadata": {}
        }
      ]
    },
    {
      "cell_type": "markdown",
      "metadata": {
        "id": "812jE3iMzJjP"
      },
      "source": [
        "Difference between cross-validated confusion matrix and not-cross-validated confusion matrix are not very different from each other."
      ]
    },
    {
      "cell_type": "markdown",
      "metadata": {
        "id": "ycldPLqeqtsg"
      },
      "source": [
        "# 5. Logistic Regression with Class Imbalance"
      ]
    },
    {
      "cell_type": "code",
      "metadata": {
        "id": "26lTb-Hrq1Nl"
      },
      "source": [
        "from imblearn.over_sampling import RandomOverSampler\n",
        "\n",
        "ros = RandomOverSampler(random_state=0)"
      ],
      "execution_count": 187,
      "outputs": []
    },
    {
      "cell_type": "code",
      "metadata": {
        "id": "nBB5jmcLEDC1"
      },
      "source": [
        "F_resampled, y_resampled = ros.fit_resample(F, y)"
      ],
      "execution_count": 188,
      "outputs": []
    },
    {
      "cell_type": "code",
      "metadata": {
        "colab": {
          "base_uri": "https://localhost:8080/"
        },
        "id": "BgDkccsuFd2z",
        "outputId": "024a1ff2-627c-4826-d3c2-5f7ce84e773c"
      },
      "source": [
        "#Instantiate logistic regression on resampled data\n",
        "logit_imb = LogisticRegression(C=100, \n",
        "                                     solver='liblinear')\n",
        "\n",
        "# Fit\n",
        "logit_imb.fit(F_resampled,y_resampled)\n",
        "\n",
        "# Predict classes\n",
        "p_hat_imb = logit_imb.predict(F)\n",
        "\n",
        "#Predicted probabilities\n",
        "p_hat_imb_proba = logit_imb.predict_proba(F)\n",
        "p_hat_imb_proba = p_hat_imb_proba[:,1]\n",
        "print(p_hat_imb_proba)"
      ],
      "execution_count": 189,
      "outputs": [
        {
          "output_type": "stream",
          "name": "stdout",
          "text": [
            "[0.75 0.03 0.00 ... 0.04 0.00 0.00]\n"
          ]
        }
      ]
    },
    {
      "cell_type": "code",
      "metadata": {
        "id": "4we55qBKGd2J"
      },
      "source": [
        "## the correction factor: \n",
        "def reweight(pi,q1=0.5,r1=0.5):\n",
        "    r0 = 1-r1\n",
        "    q0 = 1-q1\n",
        "    tot = pi*(q1/r1)+(1-pi)*(q0/r0)\n",
        "    w = pi*(q1/r1)\n",
        "    w /= tot\n",
        "    return w"
      ],
      "execution_count": 190,
      "outputs": []
    },
    {
      "cell_type": "code",
      "metadata": {
        "id": "n1AJaSw3GfaM"
      },
      "source": [
        "q1 = y.sum()/len(y)\n",
        "r1 = y_resampled.sum()/len(y_resampled)"
      ],
      "execution_count": 191,
      "outputs": []
    },
    {
      "cell_type": "code",
      "metadata": {
        "id": "eXIBvxPQGmKg"
      },
      "source": [
        "# Add predicted probabilities to original dataset (as in Jack's notebook)\n",
        "df_train_dumm[\"pred_prob\"] = p_hat_proba\n",
        "df_train_dumm[\"pred_prob_imb\"] = p_hat_imb_proba"
      ],
      "execution_count": 192,
      "outputs": []
    },
    {
      "cell_type": "code",
      "metadata": {
        "colab": {
          "base_uri": "https://localhost:8080/",
          "height": 640
        },
        "id": "GyHMxSsYKOq_",
        "outputId": "99824301-ee98-4c16-ce72-c000730486cb"
      },
      "source": [
        "# correcting ''imb'' predictions for biased sample\n",
        "df_train_dumm[\"pred_prob_imb_corr\"] = df_train_dumm[\"pred_prob_imb\"].apply(reweight,args=(q1,r1))\n",
        "df_train_dumm"
      ],
      "execution_count": 193,
      "outputs": [
        {
          "output_type": "execute_result",
          "data": {
            "text/html": [
              "<div>\n",
              "<style scoped>\n",
              "    .dataframe tbody tr th:only-of-type {\n",
              "        vertical-align: middle;\n",
              "    }\n",
              "\n",
              "    .dataframe tbody tr th {\n",
              "        vertical-align: top;\n",
              "    }\n",
              "\n",
              "    .dataframe thead th {\n",
              "        text-align: right;\n",
              "    }\n",
              "</style>\n",
              "<table border=\"1\" class=\"dataframe\">\n",
              "  <thead>\n",
              "    <tr style=\"text-align: right;\">\n",
              "      <th></th>\n",
              "      <th>Elevation</th>\n",
              "      <th>Aspect</th>\n",
              "      <th>Slope</th>\n",
              "      <th>Horiz_dist_hydro</th>\n",
              "      <th>Vertical_dist_hydro</th>\n",
              "      <th>Horiz_dist_roadways</th>\n",
              "      <th>Hillshade_9am</th>\n",
              "      <th>Hillshade_Noon</th>\n",
              "      <th>Hillshade_3pm</th>\n",
              "      <th>Horiz_dist_firepoints</th>\n",
              "      <th>Soil_Type</th>\n",
              "      <th>wild_area_2</th>\n",
              "      <th>wild_area_3</th>\n",
              "      <th>wild_area_4</th>\n",
              "      <th>Cover_Type_new</th>\n",
              "      <th>pred_prob</th>\n",
              "      <th>pred_prob_imb</th>\n",
              "      <th>pred_prob_imb_corr</th>\n",
              "    </tr>\n",
              "    <tr>\n",
              "      <th>Index</th>\n",
              "      <th></th>\n",
              "      <th></th>\n",
              "      <th></th>\n",
              "      <th></th>\n",
              "      <th></th>\n",
              "      <th></th>\n",
              "      <th></th>\n",
              "      <th></th>\n",
              "      <th></th>\n",
              "      <th></th>\n",
              "      <th></th>\n",
              "      <th></th>\n",
              "      <th></th>\n",
              "      <th></th>\n",
              "      <th></th>\n",
              "      <th></th>\n",
              "      <th></th>\n",
              "      <th></th>\n",
              "    </tr>\n",
              "  </thead>\n",
              "  <tbody>\n",
              "    <tr>\n",
              "      <th>0</th>\n",
              "      <td>3202</td>\n",
              "      <td>34</td>\n",
              "      <td>10</td>\n",
              "      <td>0</td>\n",
              "      <td>0</td>\n",
              "      <td>2760</td>\n",
              "      <td>219</td>\n",
              "      <td>218</td>\n",
              "      <td>134</td>\n",
              "      <td>1734</td>\n",
              "      <td>38</td>\n",
              "      <td>0</td>\n",
              "      <td>1</td>\n",
              "      <td>0</td>\n",
              "      <td>0</td>\n",
              "      <td>3.394790e-01</td>\n",
              "      <td>0.746909</td>\n",
              "      <td>9.786451e-02</td>\n",
              "    </tr>\n",
              "    <tr>\n",
              "      <th>1</th>\n",
              "      <td>3113</td>\n",
              "      <td>251</td>\n",
              "      <td>13</td>\n",
              "      <td>192</td>\n",
              "      <td>40</td>\n",
              "      <td>5600</td>\n",
              "      <td>191</td>\n",
              "      <td>249</td>\n",
              "      <td>195</td>\n",
              "      <td>2555</td>\n",
              "      <td>22</td>\n",
              "      <td>0</td>\n",
              "      <td>0</td>\n",
              "      <td>0</td>\n",
              "      <td>0</td>\n",
              "      <td>6.204958e-04</td>\n",
              "      <td>0.025130</td>\n",
              "      <td>9.466579e-04</td>\n",
              "    </tr>\n",
              "    <tr>\n",
              "      <th>2</th>\n",
              "      <td>2801</td>\n",
              "      <td>77</td>\n",
              "      <td>9</td>\n",
              "      <td>510</td>\n",
              "      <td>17</td>\n",
              "      <td>1728</td>\n",
              "      <td>232</td>\n",
              "      <td>223</td>\n",
              "      <td>122</td>\n",
              "      <td>1087</td>\n",
              "      <td>12</td>\n",
              "      <td>0</td>\n",
              "      <td>0</td>\n",
              "      <td>0</td>\n",
              "      <td>0</td>\n",
              "      <td>5.709658e-06</td>\n",
              "      <td>0.000084</td>\n",
              "      <td>3.094030e-06</td>\n",
              "    </tr>\n",
              "    <tr>\n",
              "      <th>3</th>\n",
              "      <td>3165</td>\n",
              "      <td>82</td>\n",
              "      <td>9</td>\n",
              "      <td>319</td>\n",
              "      <td>56</td>\n",
              "      <td>4890</td>\n",
              "      <td>233</td>\n",
              "      <td>225</td>\n",
              "      <td>124</td>\n",
              "      <td>1452</td>\n",
              "      <td>29</td>\n",
              "      <td>0</td>\n",
              "      <td>0</td>\n",
              "      <td>0</td>\n",
              "      <td>0</td>\n",
              "      <td>8.199839e-03</td>\n",
              "      <td>0.152887</td>\n",
              "      <td>6.590491e-03</td>\n",
              "    </tr>\n",
              "    <tr>\n",
              "      <th>4</th>\n",
              "      <td>3048</td>\n",
              "      <td>333</td>\n",
              "      <td>11</td>\n",
              "      <td>124</td>\n",
              "      <td>31</td>\n",
              "      <td>2823</td>\n",
              "      <td>196</td>\n",
              "      <td>226</td>\n",
              "      <td>170</td>\n",
              "      <td>666</td>\n",
              "      <td>23</td>\n",
              "      <td>0</td>\n",
              "      <td>0</td>\n",
              "      <td>0</td>\n",
              "      <td>0</td>\n",
              "      <td>4.377168e-04</td>\n",
              "      <td>0.007150</td>\n",
              "      <td>2.646656e-04</td>\n",
              "    </tr>\n",
              "    <tr>\n",
              "      <th>...</th>\n",
              "      <td>...</td>\n",
              "      <td>...</td>\n",
              "      <td>...</td>\n",
              "      <td>...</td>\n",
              "      <td>...</td>\n",
              "      <td>...</td>\n",
              "      <td>...</td>\n",
              "      <td>...</td>\n",
              "      <td>...</td>\n",
              "      <td>...</td>\n",
              "      <td>...</td>\n",
              "      <td>...</td>\n",
              "      <td>...</td>\n",
              "      <td>...</td>\n",
              "      <td>...</td>\n",
              "      <td>...</td>\n",
              "      <td>...</td>\n",
              "      <td>...</td>\n",
              "    </tr>\n",
              "    <tr>\n",
              "      <th>61001</th>\n",
              "      <td>3255</td>\n",
              "      <td>1</td>\n",
              "      <td>13</td>\n",
              "      <td>0</td>\n",
              "      <td>0</td>\n",
              "      <td>1552</td>\n",
              "      <td>201</td>\n",
              "      <td>215</td>\n",
              "      <td>151</td>\n",
              "      <td>713</td>\n",
              "      <td>38</td>\n",
              "      <td>0</td>\n",
              "      <td>0</td>\n",
              "      <td>0</td>\n",
              "      <td>0</td>\n",
              "      <td>9.620993e-02</td>\n",
              "      <td>0.634873</td>\n",
              "      <td>6.007549e-02</td>\n",
              "    </tr>\n",
              "    <tr>\n",
              "      <th>61002</th>\n",
              "      <td>3170</td>\n",
              "      <td>170</td>\n",
              "      <td>25</td>\n",
              "      <td>417</td>\n",
              "      <td>61</td>\n",
              "      <td>2605</td>\n",
              "      <td>229</td>\n",
              "      <td>241</td>\n",
              "      <td>128</td>\n",
              "      <td>3350</td>\n",
              "      <td>33</td>\n",
              "      <td>0</td>\n",
              "      <td>1</td>\n",
              "      <td>0</td>\n",
              "      <td>0</td>\n",
              "      <td>3.737298e-02</td>\n",
              "      <td>0.596335</td>\n",
              "      <td>5.150695e-02</td>\n",
              "    </tr>\n",
              "    <tr>\n",
              "      <th>61003</th>\n",
              "      <td>2994</td>\n",
              "      <td>170</td>\n",
              "      <td>13</td>\n",
              "      <td>134</td>\n",
              "      <td>18</td>\n",
              "      <td>1610</td>\n",
              "      <td>229</td>\n",
              "      <td>245</td>\n",
              "      <td>146</td>\n",
              "      <td>2394</td>\n",
              "      <td>33</td>\n",
              "      <td>0</td>\n",
              "      <td>1</td>\n",
              "      <td>0</td>\n",
              "      <td>0</td>\n",
              "      <td>8.831819e-03</td>\n",
              "      <td>0.039538</td>\n",
              "      <td>1.510902e-03</td>\n",
              "    </tr>\n",
              "    <tr>\n",
              "      <th>61004</th>\n",
              "      <td>2543</td>\n",
              "      <td>135</td>\n",
              "      <td>4</td>\n",
              "      <td>124</td>\n",
              "      <td>17</td>\n",
              "      <td>524</td>\n",
              "      <td>227</td>\n",
              "      <td>238</td>\n",
              "      <td>145</td>\n",
              "      <td>1106</td>\n",
              "      <td>6</td>\n",
              "      <td>0</td>\n",
              "      <td>0</td>\n",
              "      <td>1</td>\n",
              "      <td>0</td>\n",
              "      <td>3.190833e-07</td>\n",
              "      <td>0.000003</td>\n",
              "      <td>9.408972e-08</td>\n",
              "    </tr>\n",
              "    <tr>\n",
              "      <th>61005</th>\n",
              "      <td>2661</td>\n",
              "      <td>213</td>\n",
              "      <td>19</td>\n",
              "      <td>150</td>\n",
              "      <td>-2</td>\n",
              "      <td>2430</td>\n",
              "      <td>199</td>\n",
              "      <td>254</td>\n",
              "      <td>185</td>\n",
              "      <td>1891</td>\n",
              "      <td>10</td>\n",
              "      <td>0</td>\n",
              "      <td>1</td>\n",
              "      <td>0</td>\n",
              "      <td>0</td>\n",
              "      <td>1.210838e-06</td>\n",
              "      <td>0.000012</td>\n",
              "      <td>4.548780e-07</td>\n",
              "    </tr>\n",
              "  </tbody>\n",
              "</table>\n",
              "<p>61006 rows × 18 columns</p>\n",
              "</div>"
            ],
            "text/plain": [
              "       Elevation  Aspect  ...  pred_prob_imb  pred_prob_imb_corr\n",
              "Index                     ...                                   \n",
              "0           3202      34  ...       0.746909        9.786451e-02\n",
              "1           3113     251  ...       0.025130        9.466579e-04\n",
              "2           2801      77  ...       0.000084        3.094030e-06\n",
              "3           3165      82  ...       0.152887        6.590491e-03\n",
              "4           3048     333  ...       0.007150        2.646656e-04\n",
              "...          ...     ...  ...            ...                 ...\n",
              "61001       3255       1  ...       0.634873        6.007549e-02\n",
              "61002       3170     170  ...       0.596335        5.150695e-02\n",
              "61003       2994     170  ...       0.039538        1.510902e-03\n",
              "61004       2543     135  ...       0.000003        9.408972e-08\n",
              "61005       2661     213  ...       0.000012        4.548780e-07\n",
              "\n",
              "[61006 rows x 18 columns]"
            ]
          },
          "metadata": {},
          "execution_count": 193
        }
      ]
    },
    {
      "cell_type": "markdown",
      "metadata": {
        "id": "5g9jsQ6Jq4GO"
      },
      "source": [
        "# 6. Multiclass Classification Model"
      ]
    },
    {
      "cell_type": "code",
      "metadata": {
        "id": "6xtsqGTsrB4v"
      },
      "source": [
        ""
      ],
      "execution_count": 193,
      "outputs": []
    },
    {
      "cell_type": "markdown",
      "metadata": {
        "id": "DJxAsKnpO6di"
      },
      "source": [
        "# Kaggle Predictions Submissions "
      ]
    },
    {
      "cell_type": "markdown",
      "metadata": {
        "id": "zEn5m8t_qzAK"
      },
      "source": [
        "Once you have produced testset predictions you can submit these to <i> kaggle </i> in order to see how your model performs. \n",
        "\n",
        "The following code provides an example of generating a <i> .csv </i> file to submit to kaggle\n",
        "1) create a pandas dataframe with two columns, one with the test set \"Index\"'s and the other with your probability of the \"Covert_Type\" being class 7\n",
        "\n",
        "2) use the <i> .to_csv </i> pandas method to create a csv file. The <i> index = False </i> is important to ensure the <i> .csv </i> is in the format kaggle expects"
      ]
    },
    {
      "cell_type": "code",
      "metadata": {
        "colab": {
          "base_uri": "https://localhost:8080/",
          "height": 450
        },
        "id": "3ZDka-tEMpBK",
        "outputId": "af340024-8350-4aab-e3f1-343dc3e0c574"
      },
      "source": [
        "# Dataframe for submission w. imb. predictions\n",
        "p_hat_imb_proba_test = logit_imb.predict_proba(df_test_dumm)\n",
        "p_hat_imb_proba_test = p_hat_imb_proba_test[:,1]\n",
        "\n",
        "kaggle = pd.DataFrame(p_hat_imb_proba_test, index = df_test_dumm.index).rename(columns={0: \"p_hat_imb_proba_test\"})\n",
        "kaggle "
      ],
      "execution_count": 219,
      "outputs": [
        {
          "output_type": "execute_result",
          "data": {
            "text/html": [
              "<div>\n",
              "<style scoped>\n",
              "    .dataframe tbody tr th:only-of-type {\n",
              "        vertical-align: middle;\n",
              "    }\n",
              "\n",
              "    .dataframe tbody tr th {\n",
              "        vertical-align: top;\n",
              "    }\n",
              "\n",
              "    .dataframe thead th {\n",
              "        text-align: right;\n",
              "    }\n",
              "</style>\n",
              "<table border=\"1\" class=\"dataframe\">\n",
              "  <thead>\n",
              "    <tr style=\"text-align: right;\">\n",
              "      <th></th>\n",
              "      <th>p_hat_imb_proba_test</th>\n",
              "    </tr>\n",
              "    <tr>\n",
              "      <th>Index</th>\n",
              "      <th></th>\n",
              "    </tr>\n",
              "  </thead>\n",
              "  <tbody>\n",
              "    <tr>\n",
              "      <th>61006</th>\n",
              "      <td>1.548488e-01</td>\n",
              "    </tr>\n",
              "    <tr>\n",
              "      <th>61007</th>\n",
              "      <td>1.287010e-04</td>\n",
              "    </tr>\n",
              "    <tr>\n",
              "      <th>61008</th>\n",
              "      <td>8.824700e-01</td>\n",
              "    </tr>\n",
              "    <tr>\n",
              "      <th>61009</th>\n",
              "      <td>3.260138e-07</td>\n",
              "    </tr>\n",
              "    <tr>\n",
              "      <th>61010</th>\n",
              "      <td>1.608031e-03</td>\n",
              "    </tr>\n",
              "    <tr>\n",
              "      <th>...</th>\n",
              "      <td>...</td>\n",
              "    </tr>\n",
              "    <tr>\n",
              "      <th>74074</th>\n",
              "      <td>2.304079e-02</td>\n",
              "    </tr>\n",
              "    <tr>\n",
              "      <th>74075</th>\n",
              "      <td>6.859129e-03</td>\n",
              "    </tr>\n",
              "    <tr>\n",
              "      <th>74076</th>\n",
              "      <td>1.913310e-02</td>\n",
              "    </tr>\n",
              "    <tr>\n",
              "      <th>74077</th>\n",
              "      <td>2.050356e-03</td>\n",
              "    </tr>\n",
              "    <tr>\n",
              "      <th>74078</th>\n",
              "      <td>8.993532e-01</td>\n",
              "    </tr>\n",
              "  </tbody>\n",
              "</table>\n",
              "<p>13073 rows × 1 columns</p>\n",
              "</div>"
            ],
            "text/plain": [
              "       p_hat_imb_proba_test\n",
              "Index                      \n",
              "61006          1.548488e-01\n",
              "61007          1.287010e-04\n",
              "61008          8.824700e-01\n",
              "61009          3.260138e-07\n",
              "61010          1.608031e-03\n",
              "...                     ...\n",
              "74074          2.304079e-02\n",
              "74075          6.859129e-03\n",
              "74076          1.913310e-02\n",
              "74077          2.050356e-03\n",
              "74078          8.993532e-01\n",
              "\n",
              "[13073 rows x 1 columns]"
            ]
          },
          "metadata": {},
          "execution_count": 219
        }
      ]
    },
    {
      "cell_type": "code",
      "metadata": {
        "colab": {
          "base_uri": "https://localhost:8080/",
          "height": 450
        },
        "id": "10fTis4tKhpj",
        "outputId": "b197c943-bd20-460e-d50d-834100039908"
      },
      "source": [
        "# Reweight dataframe w. imb. predictions\n",
        "kaggle[\"p_hat_imb_proba_test\"] = kaggle[\"p_hat_imb_proba_test\"].apply(reweight,args=(q1,r1))\n",
        "kaggle"
      ],
      "execution_count": 220,
      "outputs": [
        {
          "output_type": "execute_result",
          "data": {
            "text/html": [
              "<div>\n",
              "<style scoped>\n",
              "    .dataframe tbody tr th:only-of-type {\n",
              "        vertical-align: middle;\n",
              "    }\n",
              "\n",
              "    .dataframe tbody tr th {\n",
              "        vertical-align: top;\n",
              "    }\n",
              "\n",
              "    .dataframe thead th {\n",
              "        text-align: right;\n",
              "    }\n",
              "</style>\n",
              "<table border=\"1\" class=\"dataframe\">\n",
              "  <thead>\n",
              "    <tr style=\"text-align: right;\">\n",
              "      <th></th>\n",
              "      <th>p_hat_imb_proba_test</th>\n",
              "    </tr>\n",
              "    <tr>\n",
              "      <th>Index</th>\n",
              "      <th></th>\n",
              "    </tr>\n",
              "  </thead>\n",
              "  <tbody>\n",
              "    <tr>\n",
              "      <th>61006</th>\n",
              "      <td>6.689905e-03</td>\n",
              "    </tr>\n",
              "    <tr>\n",
              "      <th>61007</th>\n",
              "      <td>4.731484e-06</td>\n",
              "    </tr>\n",
              "    <tr>\n",
              "      <th>61008</th>\n",
              "      <td>2.163024e-01</td>\n",
              "    </tr>\n",
              "    <tr>\n",
              "      <th>61009</th>\n",
              "      <td>1.198389e-08</td>\n",
              "    </tr>\n",
              "    <tr>\n",
              "      <th>61010</th>\n",
              "      <td>5.920104e-05</td>\n",
              "    </tr>\n",
              "    <tr>\n",
              "      <th>...</th>\n",
              "      <td>...</td>\n",
              "    </tr>\n",
              "    <tr>\n",
              "      <th>74074</th>\n",
              "      <td>8.661763e-04</td>\n",
              "    </tr>\n",
              "    <tr>\n",
              "      <th>74075</th>\n",
              "      <td>2.538105e-04</td>\n",
              "    </tr>\n",
              "    <tr>\n",
              "      <th>74076</th>\n",
              "      <td>7.165157e-04</td>\n",
              "    </tr>\n",
              "    <tr>\n",
              "      <th>74077</th>\n",
              "      <td>7.551784e-05</td>\n",
              "    </tr>\n",
              "    <tr>\n",
              "      <th>74078</th>\n",
              "      <td>2.472528e-01</td>\n",
              "    </tr>\n",
              "  </tbody>\n",
              "</table>\n",
              "<p>13073 rows × 1 columns</p>\n",
              "</div>"
            ],
            "text/plain": [
              "       p_hat_imb_proba_test\n",
              "Index                      \n",
              "61006          6.689905e-03\n",
              "61007          4.731484e-06\n",
              "61008          2.163024e-01\n",
              "61009          1.198389e-08\n",
              "61010          5.920104e-05\n",
              "...                     ...\n",
              "74074          8.661763e-04\n",
              "74075          2.538105e-04\n",
              "74076          7.165157e-04\n",
              "74077          7.551784e-05\n",
              "74078          2.472528e-01\n",
              "\n",
              "[13073 rows x 1 columns]"
            ]
          },
          "metadata": {},
          "execution_count": 220
        }
      ]
    },
    {
      "cell_type": "code",
      "metadata": {
        "id": "2SxnJ7X4O6di"
      },
      "source": [
        "# Step 9: Produce .csv for kaggle testing \n",
        "test_predictions_submit = pd.DataFrame({\"Index\": kaggle.index, \"Cover_Type\": kaggle['p_hat_imb_proba_test']})\n",
        "test_predictions_submit.to_csv(\"Predictions/pred2_imb-prelim.csv\", index = False)"
      ],
      "execution_count": 230,
      "outputs": []
    }
  ]
}