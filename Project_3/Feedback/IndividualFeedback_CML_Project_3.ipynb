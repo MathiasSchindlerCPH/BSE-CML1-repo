{
  "nbformat": 4,
  "nbformat_minor": 0,
  "metadata": {
    "colab": {
      "name": "Untitled1.ipynb",
      "provenance": []
    },
    "kernelspec": {
      "name": "python3",
      "display_name": "Python 3"
    },
    "language_info": {
      "name": "python"
    }
  },
  "cells": [
    {
      "cell_type": "markdown",
      "source": [
        "## Extended Project Grading\n",
        "\n",
        "| Criteria | Weighting (%) | Score | Justification | Improvements |\n",
        "|----------|---------------|-------|---------------|---------------|\n",
        "|Code runs | 5 | 5 | | |\n",
        "|Data preparation | 15 | 13 | Data well explored and pre-processed, would have been good to try to include the comorbidity data\n",
        "|Clustering algorithm(s) have been used | 20 | 20 | a variety were tried\n",
        "|Reasonable selection of number of cluster | 10 | 10\n",
        "|SVD have been used | 20 | 10 | This was done correctly but the latent features are Z = U*D not just U\n",
        "|Reasonable selection of number of dimensions | 10 | 10 | \n",
        "|Attempt to explore relationship of clusters and patient | 5 | 5 | For both death and length of stay using linear models \n",
        "|Neat and understandable code| 5 | 4 | Nicely commentated code\n",
        "|Improved Methods from class| 10 | 0 | \n",
        "\n",
        "Score: 77\n",
        "\n",
        "Feedback: Really good work. Some nice data visualisations and pre-processing were done. Dates were managed and standardisation was done. Good understanding of a variety of clustering algorithms was shown with different method to estimate the number of clusters. SVD was done and the number of latent features was well estimated. But the latent features themselves were not properly computed"
      ],
      "metadata": {
        "id": "KYfd1f2MV3yz"
      }
    }
  ]
}